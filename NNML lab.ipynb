{
  "cells": [
    {
      "cell_type": "markdown",
      "metadata": {
        "id": "xD8awYQzMlA9"
      },
      "source": [
        "WATER JUG PROBLEM\n"
      ]
    },
    {
      "cell_type": "code",
      "execution_count": null,
      "metadata": {
        "colab": {
          "base_uri": "https://localhost:8080/"
        },
        "id": "u5nsYAhcjZdq",
        "outputId": "6ed379b4-26fd-47f6-b1ab-9fa7e39b0a14"
      },
      "outputs": [
        {
          "name": "stdout",
          "output_type": "stream",
          "text": [
            "Path from initial state to solution state :\n",
            "( 0 , 0 )\n",
            "( 0 , 4 )\n",
            "( 3 , 0 )\n",
            "( 3 , 4 )\n",
            "( 3 , 1 )\n",
            "( 0 , 3 )\n",
            "( 3 , 3 )\n",
            "( 2 , 4 )\n",
            "( 2 , 0 )\n"
          ]
        }
      ],
      "source": [
        "from collections import deque\n",
        "\n",
        "def BFS(a, b, target):\n",
        "    m = {}\n",
        "    isSolvable = False\n",
        "    path = []\n",
        "    q = deque()\n",
        "    q.append((0, 0))\n",
        "\n",
        "    while (len(q) > 0):\n",
        "        u = q.popleft()\n",
        "        if ((u[0], u[1]) in m):\n",
        "            continue\n",
        "        if ((u[0] > a or u[1] > b or\n",
        "            u[0] < 0 or u[1] < 0)):\n",
        "            continue\n",
        "        path.append([u[0], u[1]])\n",
        "        m[(u[0], u[1])] = 1\n",
        "        if (u[0] == target or u[1] == target):\n",
        "            isSolvable = True\n",
        "            if (u[0] == target):\n",
        "                if (u[1] != 0):\n",
        "                    path.append([u[0], 0])\n",
        "            else:\n",
        "                if (u[0] != 0):\n",
        "                    path.append([0, u[1]])\n",
        "            sz = len(path)\n",
        "            for i in range(sz):\n",
        "                print(\"(\", path[i][0], \",\",\n",
        "                    path[i][1], \")\")\n",
        "            break\n",
        "        q.append([u[0], b])\n",
        "        q.append([a, u[1]])\n",
        "        for ap in range(max(a, b) + 1):\n",
        "            c = u[0] + ap\n",
        "            d = u[1] - ap\n",
        "            if (c == a or (d == 0 and d >= 0)):\n",
        "                q.append([c, d])\n",
        "            c = u[0] - ap\n",
        "            d = u[1] + ap\n",
        "            if ((c == 0 and c >= 0) or d == b):\n",
        "                q.append([c, d])\n",
        "        q.append([a, 0])\n",
        "        q.append([0, b])\n",
        "    if (not isSolvable):\n",
        "        print(\"No solution\")\n",
        "\n",
        "if __name__ == '__main__':\n",
        "    Jug1, Jug2, target = 4, 3, 2\n",
        "    print(\"Path from initial state to solution state :\")\n",
        "    BFS(Jug2, Jug1, target)\n"
      ]
    },
    {
      "cell_type": "markdown",
      "metadata": {
        "id": "mGYESEWTMw9j"
      },
      "source": [
        "S ALGO\n"
      ]
    },
    {
      "cell_type": "code",
      "execution_count": null,
      "metadata": {
        "id": "hszVgeaCrMWj"
      },
      "outputs": [],
      "source": [
        "import pandas as pd\n",
        "from matplotlib import pyplot as plt"
      ]
    },
    {
      "cell_type": "code",
      "execution_count": null,
      "metadata": {
        "colab": {
          "base_uri": "https://localhost:8080/",
          "height": 206
        },
        "id": "uAZ_DDb5YBPh",
        "outputId": "5993806f-14ff-46de-8cd7-14c849c45bf5"
      },
      "outputs": [
        {
          "data": {
            "application/vnd.google.colaboratory.intrinsic+json": {
              "summary": "{\n  \"name\": \"data\",\n  \"rows\": 5,\n  \"fields\": [\n    {\n      \"column\": \"Samples\",\n      \"properties\": {\n        \"dtype\": \"number\",\n        \"std\": 1,\n        \"min\": 1,\n        \"max\": 5,\n        \"num_unique_values\": 5,\n        \"samples\": [\n          2,\n          5,\n          3\n        ],\n        \"semantic_type\": \"\",\n        \"description\": \"\"\n      }\n    },\n    {\n      \"column\": \"Fever\",\n      \"properties\": {\n        \"dtype\": \"category\",\n        \"num_unique_values\": 2,\n        \"samples\": [\n          \"No\",\n          \"Yes\"\n        ],\n        \"semantic_type\": \"\",\n        \"description\": \"\"\n      }\n    },\n    {\n      \"column\": \"Cough\",\n      \"properties\": {\n        \"dtype\": \"category\",\n        \"num_unique_values\": 2,\n        \"samples\": [\n          \"No\",\n          \"Yes\"\n        ],\n        \"semantic_type\": \"\",\n        \"description\": \"\"\n      }\n    },\n    {\n      \"column\": \"Difficulty Breathing\",\n      \"properties\": {\n        \"dtype\": \"category\",\n        \"num_unique_values\": 2,\n        \"samples\": [\n          \"Yes\",\n          \"No\"\n        ],\n        \"semantic_type\": \"\",\n        \"description\": \"\"\n      }\n    },\n    {\n      \"column\": \"Diagnosed Disease\",\n      \"properties\": {\n        \"dtype\": \"string\",\n        \"num_unique_values\": 3,\n        \"samples\": [\n          \"Pneumonia\",\n          \"Common Cold\"\n        ],\n        \"semantic_type\": \"\",\n        \"description\": \"\"\n      }\n    }\n  ]\n}",
              "type": "dataframe",
              "variable_name": "data"
            },
            "text/html": [
              "\n",
              "  <div id=\"df-7a99f0fa-b406-4fe7-87ee-68de8cf19a28\" class=\"colab-df-container\">\n",
              "    <div>\n",
              "<style scoped>\n",
              "    .dataframe tbody tr th:only-of-type {\n",
              "        vertical-align: middle;\n",
              "    }\n",
              "\n",
              "    .dataframe tbody tr th {\n",
              "        vertical-align: top;\n",
              "    }\n",
              "\n",
              "    .dataframe thead th {\n",
              "        text-align: right;\n",
              "    }\n",
              "</style>\n",
              "<table border=\"1\" class=\"dataframe\">\n",
              "  <thead>\n",
              "    <tr style=\"text-align: right;\">\n",
              "      <th></th>\n",
              "      <th>Samples</th>\n",
              "      <th>Fever</th>\n",
              "      <th>Cough</th>\n",
              "      <th>Difficulty Breathing</th>\n",
              "      <th>Diagnosed Disease</th>\n",
              "    </tr>\n",
              "  </thead>\n",
              "  <tbody>\n",
              "    <tr>\n",
              "      <th>0</th>\n",
              "      <td>1</td>\n",
              "      <td>Yes</td>\n",
              "      <td>Yes</td>\n",
              "      <td>No</td>\n",
              "      <td>Pneumonia</td>\n",
              "    </tr>\n",
              "    <tr>\n",
              "      <th>1</th>\n",
              "      <td>2</td>\n",
              "      <td>No</td>\n",
              "      <td>Yes</td>\n",
              "      <td>No</td>\n",
              "      <td>Common Cold</td>\n",
              "    </tr>\n",
              "    <tr>\n",
              "      <th>2</th>\n",
              "      <td>3</td>\n",
              "      <td>Yes</td>\n",
              "      <td>Yes</td>\n",
              "      <td>Yes</td>\n",
              "      <td>Pneumonia</td>\n",
              "    </tr>\n",
              "    <tr>\n",
              "      <th>3</th>\n",
              "      <td>4</td>\n",
              "      <td>No</td>\n",
              "      <td>No</td>\n",
              "      <td>No</td>\n",
              "      <td>Healthy</td>\n",
              "    </tr>\n",
              "    <tr>\n",
              "      <th>4</th>\n",
              "      <td>5</td>\n",
              "      <td>Yes</td>\n",
              "      <td>Yes</td>\n",
              "      <td>Yes</td>\n",
              "      <td>Pneumonia</td>\n",
              "    </tr>\n",
              "  </tbody>\n",
              "</table>\n",
              "</div>\n",
              "    <div class=\"colab-df-buttons\">\n",
              "\n",
              "  <div class=\"colab-df-container\">\n",
              "    <button class=\"colab-df-convert\" onclick=\"convertToInteractive('df-7a99f0fa-b406-4fe7-87ee-68de8cf19a28')\"\n",
              "            title=\"Convert this dataframe to an interactive table.\"\n",
              "            style=\"display:none;\">\n",
              "\n",
              "  <svg xmlns=\"http://www.w3.org/2000/svg\" height=\"24px\" viewBox=\"0 -960 960 960\">\n",
              "    <path d=\"M120-120v-720h720v720H120Zm60-500h600v-160H180v160Zm220 220h160v-160H400v160Zm0 220h160v-160H400v160ZM180-400h160v-160H180v160Zm440 0h160v-160H620v160ZM180-180h160v-160H180v160Zm440 0h160v-160H620v160Z\"/>\n",
              "  </svg>\n",
              "    </button>\n",
              "\n",
              "  <style>\n",
              "    .colab-df-container {\n",
              "      display:flex;\n",
              "      gap: 12px;\n",
              "    }\n",
              "\n",
              "    .colab-df-convert {\n",
              "      background-color: #E8F0FE;\n",
              "      border: none;\n",
              "      border-radius: 50%;\n",
              "      cursor: pointer;\n",
              "      display: none;\n",
              "      fill: #1967D2;\n",
              "      height: 32px;\n",
              "      padding: 0 0 0 0;\n",
              "      width: 32px;\n",
              "    }\n",
              "\n",
              "    .colab-df-convert:hover {\n",
              "      background-color: #E2EBFA;\n",
              "      box-shadow: 0px 1px 2px rgba(60, 64, 67, 0.3), 0px 1px 3px 1px rgba(60, 64, 67, 0.15);\n",
              "      fill: #174EA6;\n",
              "    }\n",
              "\n",
              "    .colab-df-buttons div {\n",
              "      margin-bottom: 4px;\n",
              "    }\n",
              "\n",
              "    [theme=dark] .colab-df-convert {\n",
              "      background-color: #3B4455;\n",
              "      fill: #D2E3FC;\n",
              "    }\n",
              "\n",
              "    [theme=dark] .colab-df-convert:hover {\n",
              "      background-color: #434B5C;\n",
              "      box-shadow: 0px 1px 3px 1px rgba(0, 0, 0, 0.15);\n",
              "      filter: drop-shadow(0px 1px 2px rgba(0, 0, 0, 0.3));\n",
              "      fill: #FFFFFF;\n",
              "    }\n",
              "  </style>\n",
              "\n",
              "    <script>\n",
              "      const buttonEl =\n",
              "        document.querySelector('#df-7a99f0fa-b406-4fe7-87ee-68de8cf19a28 button.colab-df-convert');\n",
              "      buttonEl.style.display =\n",
              "        google.colab.kernel.accessAllowed ? 'block' : 'none';\n",
              "\n",
              "      async function convertToInteractive(key) {\n",
              "        const element = document.querySelector('#df-7a99f0fa-b406-4fe7-87ee-68de8cf19a28');\n",
              "        const dataTable =\n",
              "          await google.colab.kernel.invokeFunction('convertToInteractive',\n",
              "                                                    [key], {});\n",
              "        if (!dataTable) return;\n",
              "\n",
              "        const docLinkHtml = 'Like what you see? Visit the ' +\n",
              "          '<a target=\"_blank\" href=https://colab.research.google.com/notebooks/data_table.ipynb>data table notebook</a>'\n",
              "          + ' to learn more about interactive tables.';\n",
              "        element.innerHTML = '';\n",
              "        dataTable['output_type'] = 'display_data';\n",
              "        await google.colab.output.renderOutput(dataTable, element);\n",
              "        const docLink = document.createElement('div');\n",
              "        docLink.innerHTML = docLinkHtml;\n",
              "        element.appendChild(docLink);\n",
              "      }\n",
              "    </script>\n",
              "  </div>\n",
              "\n",
              "\n",
              "<div id=\"df-af9672f4-25cb-45fa-aab4-896d11695084\">\n",
              "  <button class=\"colab-df-quickchart\" onclick=\"quickchart('df-af9672f4-25cb-45fa-aab4-896d11695084')\"\n",
              "            title=\"Suggest charts\"\n",
              "            style=\"display:none;\">\n",
              "\n",
              "<svg xmlns=\"http://www.w3.org/2000/svg\" height=\"24px\"viewBox=\"0 0 24 24\"\n",
              "     width=\"24px\">\n",
              "    <g>\n",
              "        <path d=\"M19 3H5c-1.1 0-2 .9-2 2v14c0 1.1.9 2 2 2h14c1.1 0 2-.9 2-2V5c0-1.1-.9-2-2-2zM9 17H7v-7h2v7zm4 0h-2V7h2v10zm4 0h-2v-4h2v4z\"/>\n",
              "    </g>\n",
              "</svg>\n",
              "  </button>\n",
              "\n",
              "<style>\n",
              "  .colab-df-quickchart {\n",
              "      --bg-color: #E8F0FE;\n",
              "      --fill-color: #1967D2;\n",
              "      --hover-bg-color: #E2EBFA;\n",
              "      --hover-fill-color: #174EA6;\n",
              "      --disabled-fill-color: #AAA;\n",
              "      --disabled-bg-color: #DDD;\n",
              "  }\n",
              "\n",
              "  [theme=dark] .colab-df-quickchart {\n",
              "      --bg-color: #3B4455;\n",
              "      --fill-color: #D2E3FC;\n",
              "      --hover-bg-color: #434B5C;\n",
              "      --hover-fill-color: #FFFFFF;\n",
              "      --disabled-bg-color: #3B4455;\n",
              "      --disabled-fill-color: #666;\n",
              "  }\n",
              "\n",
              "  .colab-df-quickchart {\n",
              "    background-color: var(--bg-color);\n",
              "    border: none;\n",
              "    border-radius: 50%;\n",
              "    cursor: pointer;\n",
              "    display: none;\n",
              "    fill: var(--fill-color);\n",
              "    height: 32px;\n",
              "    padding: 0;\n",
              "    width: 32px;\n",
              "  }\n",
              "\n",
              "  .colab-df-quickchart:hover {\n",
              "    background-color: var(--hover-bg-color);\n",
              "    box-shadow: 0 1px 2px rgba(60, 64, 67, 0.3), 0 1px 3px 1px rgba(60, 64, 67, 0.15);\n",
              "    fill: var(--button-hover-fill-color);\n",
              "  }\n",
              "\n",
              "  .colab-df-quickchart-complete:disabled,\n",
              "  .colab-df-quickchart-complete:disabled:hover {\n",
              "    background-color: var(--disabled-bg-color);\n",
              "    fill: var(--disabled-fill-color);\n",
              "    box-shadow: none;\n",
              "  }\n",
              "\n",
              "  .colab-df-spinner {\n",
              "    border: 2px solid var(--fill-color);\n",
              "    border-color: transparent;\n",
              "    border-bottom-color: var(--fill-color);\n",
              "    animation:\n",
              "      spin 1s steps(1) infinite;\n",
              "  }\n",
              "\n",
              "  @keyframes spin {\n",
              "    0% {\n",
              "      border-color: transparent;\n",
              "      border-bottom-color: var(--fill-color);\n",
              "      border-left-color: var(--fill-color);\n",
              "    }\n",
              "    20% {\n",
              "      border-color: transparent;\n",
              "      border-left-color: var(--fill-color);\n",
              "      border-top-color: var(--fill-color);\n",
              "    }\n",
              "    30% {\n",
              "      border-color: transparent;\n",
              "      border-left-color: var(--fill-color);\n",
              "      border-top-color: var(--fill-color);\n",
              "      border-right-color: var(--fill-color);\n",
              "    }\n",
              "    40% {\n",
              "      border-color: transparent;\n",
              "      border-right-color: var(--fill-color);\n",
              "      border-top-color: var(--fill-color);\n",
              "    }\n",
              "    60% {\n",
              "      border-color: transparent;\n",
              "      border-right-color: var(--fill-color);\n",
              "    }\n",
              "    80% {\n",
              "      border-color: transparent;\n",
              "      border-right-color: var(--fill-color);\n",
              "      border-bottom-color: var(--fill-color);\n",
              "    }\n",
              "    90% {\n",
              "      border-color: transparent;\n",
              "      border-bottom-color: var(--fill-color);\n",
              "    }\n",
              "  }\n",
              "</style>\n",
              "\n",
              "  <script>\n",
              "    async function quickchart(key) {\n",
              "      const quickchartButtonEl =\n",
              "        document.querySelector('#' + key + ' button');\n",
              "      quickchartButtonEl.disabled = true;  // To prevent multiple clicks.\n",
              "      quickchartButtonEl.classList.add('colab-df-spinner');\n",
              "      try {\n",
              "        const charts = await google.colab.kernel.invokeFunction(\n",
              "            'suggestCharts', [key], {});\n",
              "      } catch (error) {\n",
              "        console.error('Error during call to suggestCharts:', error);\n",
              "      }\n",
              "      quickchartButtonEl.classList.remove('colab-df-spinner');\n",
              "      quickchartButtonEl.classList.add('colab-df-quickchart-complete');\n",
              "    }\n",
              "    (() => {\n",
              "      let quickchartButtonEl =\n",
              "        document.querySelector('#df-af9672f4-25cb-45fa-aab4-896d11695084 button');\n",
              "      quickchartButtonEl.style.display =\n",
              "        google.colab.kernel.accessAllowed ? 'block' : 'none';\n",
              "    })();\n",
              "  </script>\n",
              "</div>\n",
              "    </div>\n",
              "  </div>\n"
            ],
            "text/plain": [
              "   Samples Fever Cough Difficulty Breathing Diagnosed Disease\n",
              "0        1   Yes   Yes                   No         Pneumonia\n",
              "1        2    No   Yes                   No       Common Cold\n",
              "2        3   Yes   Yes                  Yes         Pneumonia\n",
              "3        4    No    No                   No           Healthy\n",
              "4        5   Yes   Yes                  Yes         Pneumonia"
            ]
          },
          "execution_count": 30,
          "metadata": {},
          "output_type": "execute_result"
        }
      ],
      "source": [
        "data=pd.DataFrame({\"Samples\":[1,2,3,4,5],\n",
        "                   \"Fever\":[\"Yes\",\"No\",\"Yes\",\"No\",\"Yes\"],\n",
        "                   \"Cough\":[\"Yes\",\"Yes\",\"Yes\",\"No\",\"Yes\"],\n",
        "                   \"Difficulty Breathing\":[\"No\",\"No\",\"Yes\",\"No\",\"Yes\"],\n",
        "                   \"Diagnosed Disease\":[\"Pneumonia\",\"Common Cold\",\"Pneumonia\",\"Healthy\",\n",
        "                                        \"Pneumonia\"]})\n",
        "data"
      ]
    },
    {
      "cell_type": "code",
      "execution_count": null,
      "metadata": {
        "colab": {
          "base_uri": "https://localhost:8080/",
          "height": 452
        },
        "id": "YSJvemgVivS3",
        "outputId": "88e9cf69-64b0-42b1-fbb5-ad3df78e735f"
      },
      "outputs": [
        {
          "data": {
            "image/png": "[encoded data removed]",
            "text/plain": [
              "<Figure size 640x480 with 1 Axes>"
            ]
          },
          "metadata": {},
          "output_type": "display_data"
        }
      ],
      "source": [
        "from matplotlib import pyplot as plt\n",
        "data['Samples'].plot(kind='hist', bins=20, title='Samples')\n",
        "plt.gca().spines[['top', 'right',]].set_visible(False)"
      ]
    },
    {
      "cell_type": "code",
      "execution_count": null,
      "metadata": {
        "colab": {
          "base_uri": "https://localhost:8080/"
        },
        "id": "byAH9_YrZ_0g",
        "outputId": "3bfef7a0-e268-4788-f11a-48b9d7f6118e"
      },
      "outputs": [
        {
          "name": "stdout",
          "output_type": "stream",
          "text": [
            "   Samples Fever Cough Difficulty Breathing Diagnosed Disease\n",
            "0        1   Yes   Yes                   No         Pneumonia\n",
            "2        3   Yes   Yes                  Yes         Pneumonia\n",
            "4        5   Yes   Yes                  Yes         Pneumonia\n"
          ]
        }
      ],
      "source": [
        "target=\"Pneumonia\"\n",
        "symptoms=[\"Fever\",\"Cough\",\"Difficulty Breathing\"]\n",
        "filter=data[data[\"Diagnosed Disease\"]==target]\n",
        "print(filter)"
      ]
    },
    {
      "cell_type": "code",
      "execution_count": null,
      "metadata": {
        "colab": {
          "base_uri": "https://localhost:8080/"
        },
        "id": "a9QhJ_mQoOG0",
        "outputId": "f8973d6d-f302-4653-f6a5-bb68945dd4ed"
      },
      "outputs": [
        {
          "name": "stdout",
          "output_type": "stream",
          "text": [
            "3\n"
          ]
        }
      ],
      "source": [
        "total=filter.shape[0]\n",
        "print(total)"
      ]
    },
    {
      "cell_type": "code",
      "execution_count": null,
      "metadata": {
        "colab": {
          "base_uri": "https://localhost:8080/",
          "height": 280
        },
        "id": "Mk-oSecpbij_",
        "outputId": "03243fd3-7560-4284-e5c0-ed21a0505a22"
      },
      "outputs": [
        {
          "ename": "TypeError",
          "evalue": "'type' object is not subscriptable",
          "output_type": "error",
          "traceback": [
            "\u001b[0;31m---------------------------------------------------------------------------\u001b[0m",
            "\u001b[0;31mTypeError\u001b[0m                                 Traceback (most recent call last)",
            "\u001b[0;32m<ipython-input-2-2cdc24b218aa>\u001b[0m in \u001b[0;36m<cell line: 1>\u001b[0;34m()\u001b[0m\n\u001b[0;32m----> 1\u001b[0;31m \u001b[0mpos\u001b[0m \u001b[0;34m=\u001b[0m \u001b[0mfilter\u001b[0m\u001b[0;34m[\u001b[0m\u001b[0;34m(\u001b[0m\u001b[0mfilter\u001b[0m\u001b[0;34m[\u001b[0m\u001b[0;34m\"Fever\"\u001b[0m\u001b[0;34m]\u001b[0m \u001b[0;34m==\u001b[0m \u001b[0;34m\"Yes\"\u001b[0m\u001b[0;34m)\u001b[0m \u001b[0;34m&\u001b[0m \u001b[0;34m(\u001b[0m\u001b[0mfilter\u001b[0m\u001b[0;34m[\u001b[0m\u001b[0;34m\"Cough\"\u001b[0m\u001b[0;34m]\u001b[0m \u001b[0;34m==\u001b[0m \u001b[0;34m\"Yes\"\u001b[0m\u001b[0;34m)\u001b[0m \u001b[0;34m&\u001b[0m \u001b[0;34m(\u001b[0m\u001b[0mfilter\u001b[0m\u001b[0;34m[\u001b[0m\u001b[0;34m\"Difficulty Breathing\"\u001b[0m\u001b[0;34m]\u001b[0m \u001b[0;34m==\u001b[0m \u001b[0;34m\"Yes\"\u001b[0m\u001b[0;34m)\u001b[0m\u001b[0;34m]\u001b[0m\u001b[0;34m.\u001b[0m\u001b[0mshape\u001b[0m\u001b[0;34m[\u001b[0m\u001b[0;36m0\u001b[0m\u001b[0;34m]\u001b[0m\u001b[0;34m\u001b[0m\u001b[0;34m\u001b[0m\u001b[0m\n\u001b[0m\u001b[1;32m      2\u001b[0m \u001b[0mprint\u001b[0m\u001b[0;34m(\u001b[0m\u001b[0mpos\u001b[0m\u001b[0;34m)\u001b[0m\u001b[0;34m\u001b[0m\u001b[0;34m\u001b[0m\u001b[0m\n",
            "\u001b[0;31mTypeError\u001b[0m: 'type' object is not subscriptable"
          ]
        }
      ],
      "source": [
        "pos = filter[(filter[\"Fever\"] == \"Yes\") & (filter[\"Cough\"] == \"Yes\") & (filter[\"Difficulty Breathing\"] == \"Yes\")].shape[0]\n",
        "print(pos)"
      ]
    },
    {
      "cell_type": "code",
      "execution_count": null,
      "metadata": {
        "colab": {
          "base_uri": "https://localhost:8080/",
          "height": 245
        },
        "id": "vPTIrO7efOP8",
        "outputId": "c51c055b-a722-4def-e69e-b157fd0120ad"
      },
      "outputs": [
        {
          "ename": "NameError",
          "evalue": "name 'symptoms' is not defined",
          "output_type": "error",
          "traceback": [
            "\u001b[0;31m---------------------------------------------------------------------------\u001b[0m",
            "\u001b[0;31mNameError\u001b[0m                                 Traceback (most recent call last)",
            "\u001b[0;32m<ipython-input-1-98cf3cb6c125>\u001b[0m in \u001b[0;36m<cell line: 1>\u001b[0;34m()\u001b[0m\n\u001b[0;32m----> 1\u001b[0;31m \u001b[0mprint\u001b[0m\u001b[0;34m(\u001b[0m\u001b[0;34mf\"Rule: If a patient has {', '.join(symptoms)}, then they are likely to have {target}\"\u001b[0m\u001b[0;34m)\u001b[0m\u001b[0;34m\u001b[0m\u001b[0;34m\u001b[0m\u001b[0m\n\u001b[0m",
            "\u001b[0;31mNameError\u001b[0m: name 'symptoms' is not defined"
          ]
        }
      ],
      "source": [
        "print(f\"Rule: If a patient has {', '.join(symptoms)}, then they are likely to have {target}\")"
      ]
    },
    {
      "cell_type": "code",
      "execution_count": null,
      "metadata": {
        "colab": {
          "base_uri": "https://localhost:8080/"
        },
        "id": "7ga0l-TmdVeF",
        "outputId": "6a36b3f3-9456-4c66-eb90-c658a3680f41"
      },
      "outputs": [
        {
          "name": "stdout",
          "output_type": "stream",
          "text": [
            "Support : 0.67\n"
          ]
        }
      ],
      "source": [
        "support = pos/total\n",
        "print(f\"Support : {support:.2f}\")"
      ]
    },
    {
      "cell_type": "code",
      "execution_count": null,
      "metadata": {
        "colab": {
          "base_uri": "https://localhost:8080/"
        },
        "id": "sDWXNRUrcRXG",
        "outputId": "e0f8be7c-9be7-4abd-fcc1-e2ee3ab14893"
      },
      "outputs": [
        {
          "name": "stdout",
          "output_type": "stream",
          "text": [
            "Confidence : 1.00\n"
          ]
        }
      ],
      "source": [
        "confidence=pos/data[(data[\"Fever\"] == \"Yes\") & (data[\"Cough\"] == \"Yes\") & (data[\"Difficulty Breathing\"] == \"Yes\")].shape[0]\n",
        "print(f\"Confidence : {confidence:.2f}\")"
      ]
    },
    {
      "cell_type": "markdown",
      "metadata": {
        "id": "047XLTX4Tiwe"
      },
      "source": [
        "candidate elimination"
      ]
    },
    {
      "cell_type": "code",
      "execution_count": null,
      "metadata": {
        "colab": {
          "base_uri": "https://localhost:8080/"
        },
        "id": "7o6sm5oUTmRG",
        "outputId": "385f442c-69d9-4b6b-d085-9d708751ccdd"
      },
      "outputs": [
        {
          "name": "stdout",
          "output_type": "stream",
          "text": [
            "Final Specific Hypothesis: ['0', '0', '0']\n",
            "Final General Hypothesis: ['Small', 'Red', 'Circle']\n"
          ]
        }
      ],
      "source": [
        "import numpy as np\n",
        "\n",
        "class CandidateElimination:\n",
        "    def __init__(self, num_features):\n",
        "        # Initialize the most specific and most general hypotheses\n",
        "        self.S = ['0'] * num_features\n",
        "        self.G = ['?'] * num_features\n",
        "\n",
        "    def specialize_G(self, example):\n",
        "        # Specialize the most general hypothesis based on a positive example\n",
        "        for i in range(len(self.G)):\n",
        "            if self.G[i] == '?':\n",
        "                self.G[i] = example[i]\n",
        "            elif self.G[i] != example[i]:\n",
        "                self.G[i] = '?'\n",
        "\n",
        "    def generalize_S(self, example):\n",
        "        # Generalize the most specific hypothesis based on a negative example\n",
        "        for i in range(len(self.S)):\n",
        "            if self.S[i] != example[i] and self.S[i] != '0':\n",
        "                self.S[i] = '?'\n",
        "\n",
        "    def fit(self, examples):\n",
        "        for example in examples:\n",
        "            label = example[-1]  # Last element is the label\n",
        "            if label == 'Yes':\n",
        "                self.specialize_G(example[:-1])  # Update G for positive example\n",
        "            else:\n",
        "                self.generalize_S(example[:-1])  # Update S for negative example\n",
        "\n",
        "    def get_final_hypothesis(self):\n",
        "        return self.S, self.G\n",
        "\n",
        "# Example dataset\n",
        "examples = [\n",
        "    ['Big', 'Red', 'Circle', 'No'],\n",
        "    ['Small', 'Red', 'Triangle', 'No'],\n",
        "    ['Small', 'Red', 'Circle', 'Yes'],\n",
        "    ['Big', 'Blue', 'Circle', 'No']\n",
        "]\n",
        "\n",
        "# Initialize CandidateElimination object\n",
        "ce = CandidateElimination(num_features=len(examples[0]) - 1)  # -1 for excluding label\n",
        "\n",
        "# Fit the data\n",
        "ce.fit(examples)\n",
        "\n",
        "# Get the final hypothesis\n",
        "final_specific_hypothesis, final_general_hypothesis = ce.get_final_hypothesis()\n",
        "\n",
        "print(\"Final Specific Hypothesis:\", final_specific_hypothesis)\n",
        "print(\"Final General Hypothesis:\", final_general_hypothesis)\n"
      ]
    },
    {
      "cell_type": "code",
      "execution_count": null,
      "metadata": {
        "colab": {
          "base_uri": "https://localhost:8080/"
        },
        "id": "5CZYsOOt8UxZ",
        "outputId": "fd749cff-5d96-4605-fe85-8a1cf17a0a5b"
      },
      "outputs": [
        {
          "name": "stdout",
          "output_type": "stream",
          "text": [
            "All the hypotheses in General and Specific boundary are:\n",
            "\n",
            "\n",
            " G[0]: {('?', '?', '?')}\n",
            "\n",
            " S[0]: {('Phi', 'Phi', 'Phi')}\n",
            "\n",
            " G[1]: {('?', 'Blue', '?'), ('Small', '?', '?'), ('?', '?', 'Triangle')}\n",
            "\n",
            " S[1]: {('Phi', 'Phi', 'Phi')}\n",
            "\n",
            " G[2]: {('Small', '?', 'Circle'), ('?', 'Blue', '?'), ('Big', '?', 'Triangle')}\n",
            "\n",
            " S[2]: {('Phi', 'Phi', 'Phi')}\n",
            "\n",
            " G[3]: {('Small', '?', 'Circle')}\n",
            "\n",
            " S[3]: {('Small', 'Red', 'Circle')}\n",
            "\n",
            " G[4]: {('Small', '?', 'Circle')}\n",
            "\n",
            " S[4]: {('Small', 'Red', 'Circle')}\n",
            "\n",
            " G[5]: {('Small', '?', 'Circle')}\n",
            "\n",
            " S[5]: {('Small', '?', 'Circle')}\n"
          ]
        }
      ],
      "source": [
        "data = [\n",
        "    ('Big', 'Red', 'Circle', 'No'),\n",
        "    ('Small', 'Red', 'Triangle', 'No'),\n",
        "    ('Small', 'Red', 'Circle', 'Yes'),\n",
        "    ('Big', 'Blue', 'Circle', 'No'),\n",
        "    ('Small', 'Blue', 'Circle','Yes')\n",
        "]\n",
        "def get_domains(data):\n",
        "    d = [set() for i in data[0]]\n",
        "    for x in data:\n",
        "        for i, xi in enumerate(x):\n",
        "            d[i].add(xi)\n",
        "    return [list(sorted(x)) for x in d]\n",
        "get_domains(data)\n",
        "def g_0(n):\n",
        "    return ('?',)*n\n",
        "\n",
        "def s_0(n):\n",
        "    return ('Phi',)*n\n",
        "def more_general(h1, h2):\n",
        "    more_general_parts = []\n",
        "    for x, y in zip(h1, h2):\n",
        "        mg = x == '?' or (x != 'Phi' and (x == y or y == 'Phi'))\n",
        "        more_general_parts.append(mg)\n",
        "    return all(more_general_parts)\n",
        "\n",
        "def consistent(hypothesis,example):\n",
        "    return more_general(hypothesis, example)\n",
        "\n",
        "def min_generalizations(h, x):\n",
        "    h_new = list(h)\n",
        "    for i in range(len(h)):\n",
        "        if not consistent(h[i:i+1],x[i:i+1]):\n",
        "            if h[i] != 'Phi':\n",
        "                h_new[i] = '?'\n",
        "            else:\n",
        "                h_new[i] = x[i]\n",
        "    return [tuple(h_new)]\n",
        "\n",
        "def generalize_S(x, G, S):\n",
        "    S_prev = list(S)\n",
        "    for s in S_prev:\n",
        "        if s not in S:\n",
        "            continue\n",
        "        if not consistent(s,x):\n",
        "            S.remove(s)\n",
        "            Splus = min_generalizations(s, x)\n",
        "            S.update([h for h in Splus if any([more_general(g,h)\n",
        "                                               for g in G])])\n",
        "\n",
        "            S.difference_update([h for h in S if\n",
        "                                 any([more_general(h, h1)\n",
        "                                      for h1 in S if h != h1])])\n",
        "    return S\n",
        "\n",
        "def min_specializations(h, domains, x):\n",
        "    results = []\n",
        "    for i in range(len(h)):\n",
        "        if h[i] == '?':\n",
        "            for val in domains[i]:\n",
        "                if x[i] != val:\n",
        "                    h_new = h[:i] + (val,) + h[i+1:]\n",
        "                    results.append(h_new)\n",
        "        elif h[i] != 'Phi':\n",
        "            h_new = h[:i] + ('Phi',) + h[i+1:]\n",
        "            results.append(h_new)\n",
        "    return results\n",
        "\n",
        "def specialize_G(x, domains, G, S):\n",
        "    G_prev = list(G)\n",
        "    for g in G_prev:\n",
        "        if g not in G:\n",
        "            continue\n",
        "        if consistent(g,x):\n",
        "            G.remove(g)\n",
        "            Gminus = min_specializations(g, domains, x)\n",
        "            G.update([h for h in Gminus if any([more_general(h, s)\n",
        "                                                for s in S])])\n",
        "            G.difference_update([h for h in G if\n",
        "                                 any([more_general(g1, h)\n",
        "                                      for g1 in G if h != g1])])\n",
        "    return G\n",
        "\n",
        "def candidate_elimination(examples):\n",
        "    domains = get_domains(examples)[:-1]\n",
        "\n",
        "    G = set([g_0(len(domains))])\n",
        "    S = set([s_0(len(domains))])\n",
        "    i=0\n",
        "    print('All the hypotheses in General and Specific boundary are:\\n')\n",
        "    print('\\n G[{0}]:'.format(i),G)\n",
        "    print('\\n S[{0}]:'.format(i),S)\n",
        "    for xcx in examples:\n",
        "        i=i+1\n",
        "        x, cx = xcx[:-1], xcx[-1]\n",
        "        if cx=='Yes':\n",
        "            G = {g for g in G if consistent(g,x)}\n",
        "            S = generalize_S(x, G, S)\n",
        "        else:\n",
        "            S = {s for s in S if not consistent(s,x)}\n",
        "            G = specialize_G(x, domains, G, S)\n",
        "        print('\\n G[{0}]:'.format(i),G)\n",
        "        print('\\n S[{0}]:'.format(i),S)\n",
        "    return\n",
        "candidate_elimination(data)\n"
      ]
    },
    {
      "cell_type": "code",
      "execution_count": null,
      "metadata": {
        "colab": {
          "base_uri": "https://localhost:8080/",
          "height": 425
        },
        "id": "7RI9GKMJv0Q5",
        "outputId": "daa4a130-e4dc-4e1f-ad9e-42fd324401da"
      },
      "outputs": [
        {
          "name": "stdout",
          "output_type": "stream",
          "text": [
            "All the hypotheses in General and Specific boundary are:\n",
            "\n",
            "\n",
            " G[0]: {('?', '?', '?')}\n",
            "\n",
            " S[0]: {('Phi', 'Phi', 'Phi')}\n"
          ]
        },
        {
          "ename": "TypeError",
          "evalue": "unhashable type: 'list'",
          "output_type": "error",
          "traceback": [
            "\u001b[0;31m---------------------------------------------------------------------------\u001b[0m",
            "\u001b[0;31mTypeError\u001b[0m                                 Traceback (most recent call last)",
            "\u001b[0;32m<ipython-input-43-595af182ce25>\u001b[0m in \u001b[0;36m<cell line: 68>\u001b[0;34m()\u001b[0m\n\u001b[1;32m     66\u001b[0m ]\n\u001b[1;32m     67\u001b[0m \u001b[0;34m\u001b[0m\u001b[0m\n\u001b[0;32m---> 68\u001b[0;31m \u001b[0mcandidate_elimination\u001b[0m\u001b[0;34m(\u001b[0m\u001b[0mdata\u001b[0m\u001b[0;34m)\u001b[0m\u001b[0;34m\u001b[0m\u001b[0;34m\u001b[0m\u001b[0m\n\u001b[0m",
            "\u001b[0;32m<ipython-input-43-595af182ce25>\u001b[0m in \u001b[0;36mcandidate_elimination\u001b[0;34m(examples)\u001b[0m\n\u001b[1;32m     53\u001b[0m         \u001b[0;32melse\u001b[0m\u001b[0;34m:\u001b[0m\u001b[0;34m\u001b[0m\u001b[0;34m\u001b[0m\u001b[0m\n\u001b[1;32m     54\u001b[0m             \u001b[0mS\u001b[0m \u001b[0;34m=\u001b[0m \u001b[0;34m{\u001b[0m\u001b[0ms\u001b[0m \u001b[0;32mfor\u001b[0m \u001b[0ms\u001b[0m \u001b[0;32min\u001b[0m \u001b[0mS\u001b[0m \u001b[0;32mif\u001b[0m \u001b[0;32mnot\u001b[0m \u001b[0mconsistent\u001b[0m\u001b[0;34m(\u001b[0m\u001b[0ms\u001b[0m\u001b[0;34m,\u001b[0m \u001b[0mx\u001b[0m\u001b[0;34m)\u001b[0m\u001b[0;34m}\u001b[0m\u001b[0;34m\u001b[0m\u001b[0;34m\u001b[0m\u001b[0m\n\u001b[0;32m---> 55\u001b[0;31m             \u001b[0mG\u001b[0m \u001b[0;34m=\u001b[0m \u001b[0mspecialize_G\u001b[0m\u001b[0;34m(\u001b[0m\u001b[0mx\u001b[0m\u001b[0;34m,\u001b[0m \u001b[0mdomains\u001b[0m\u001b[0;34m,\u001b[0m \u001b[0mG\u001b[0m\u001b[0;34m,\u001b[0m \u001b[0mS\u001b[0m\u001b[0;34m)\u001b[0m\u001b[0;34m\u001b[0m\u001b[0;34m\u001b[0m\u001b[0m\n\u001b[0m\u001b[1;32m     56\u001b[0m         \u001b[0mprint\u001b[0m\u001b[0;34m(\u001b[0m\u001b[0;34m'\\n G[{0}]:'\u001b[0m\u001b[0;34m.\u001b[0m\u001b[0mformat\u001b[0m\u001b[0;34m(\u001b[0m\u001b[0mi\u001b[0m\u001b[0;34m)\u001b[0m\u001b[0;34m,\u001b[0m \u001b[0mG\u001b[0m\u001b[0;34m)\u001b[0m\u001b[0;34m\u001b[0m\u001b[0;34m\u001b[0m\u001b[0m\n\u001b[1;32m     57\u001b[0m         \u001b[0mprint\u001b[0m\u001b[0;34m(\u001b[0m\u001b[0;34m'\\n S[{0}]:'\u001b[0m\u001b[0;34m.\u001b[0m\u001b[0mformat\u001b[0m\u001b[0;34m(\u001b[0m\u001b[0mi\u001b[0m\u001b[0;34m)\u001b[0m\u001b[0;34m,\u001b[0m \u001b[0mS\u001b[0m\u001b[0;34m)\u001b[0m\u001b[0;34m\u001b[0m\u001b[0;34m\u001b[0m\u001b[0m\n",
            "\u001b[0;32m<ipython-input-43-595af182ce25>\u001b[0m in \u001b[0;36mspecialize_G\u001b[0;34m(x, domains, G, S)\u001b[0m\n\u001b[1;32m     33\u001b[0m         \u001b[0;32mif\u001b[0m \u001b[0mconsistent\u001b[0m\u001b[0;34m(\u001b[0m\u001b[0mg\u001b[0m\u001b[0;34m,\u001b[0m \u001b[0mx\u001b[0m\u001b[0;34m)\u001b[0m\u001b[0;34m:\u001b[0m\u001b[0;34m\u001b[0m\u001b[0;34m\u001b[0m\u001b[0m\n\u001b[1;32m     34\u001b[0m             \u001b[0mG\u001b[0m\u001b[0;34m.\u001b[0m\u001b[0mremove\u001b[0m\u001b[0;34m(\u001b[0m\u001b[0mg\u001b[0m\u001b[0;34m)\u001b[0m\u001b[0;34m\u001b[0m\u001b[0;34m\u001b[0m\u001b[0m\n\u001b[0;32m---> 35\u001b[0;31m             \u001b[0mG\u001b[0m\u001b[0;34m.\u001b[0m\u001b[0mupdate\u001b[0m\u001b[0;34m(\u001b[0m\u001b[0mh\u001b[0m \u001b[0;32mfor\u001b[0m \u001b[0mh\u001b[0m \u001b[0;32min\u001b[0m \u001b[0mmin_specializations\u001b[0m\u001b[0;34m(\u001b[0m\u001b[0mg\u001b[0m\u001b[0;34m,\u001b[0m \u001b[0mdomains\u001b[0m\u001b[0;34m,\u001b[0m \u001b[0mx\u001b[0m\u001b[0;34m)\u001b[0m \u001b[0;32mif\u001b[0m \u001b[0many\u001b[0m\u001b[0;34m(\u001b[0m\u001b[0mmore_general\u001b[0m\u001b[0;34m(\u001b[0m\u001b[0mh\u001b[0m\u001b[0;34m,\u001b[0m \u001b[0ms\u001b[0m\u001b[0;34m)\u001b[0m \u001b[0;32mfor\u001b[0m \u001b[0ms\u001b[0m \u001b[0;32min\u001b[0m \u001b[0mS\u001b[0m\u001b[0;34m)\u001b[0m\u001b[0;34m)\u001b[0m\u001b[0;34m\u001b[0m\u001b[0;34m\u001b[0m\u001b[0m\n\u001b[0m\u001b[1;32m     36\u001b[0m             \u001b[0mG\u001b[0m\u001b[0;34m.\u001b[0m\u001b[0mdifference_update\u001b[0m\u001b[0;34m(\u001b[0m\u001b[0mh\u001b[0m \u001b[0;32mfor\u001b[0m \u001b[0mh\u001b[0m \u001b[0;32min\u001b[0m \u001b[0mG\u001b[0m \u001b[0;32mif\u001b[0m \u001b[0many\u001b[0m\u001b[0;34m(\u001b[0m\u001b[0mmore_general\u001b[0m\u001b[0;34m(\u001b[0m\u001b[0mg1\u001b[0m\u001b[0;34m,\u001b[0m \u001b[0mh\u001b[0m\u001b[0;34m)\u001b[0m \u001b[0;32mfor\u001b[0m \u001b[0mg1\u001b[0m \u001b[0;32min\u001b[0m \u001b[0mG\u001b[0m \u001b[0;32mif\u001b[0m \u001b[0mh\u001b[0m \u001b[0;34m!=\u001b[0m \u001b[0mg1\u001b[0m\u001b[0;34m)\u001b[0m\u001b[0;34m)\u001b[0m\u001b[0;34m\u001b[0m\u001b[0;34m\u001b[0m\u001b[0m\n\u001b[1;32m     37\u001b[0m     \u001b[0;32mreturn\u001b[0m \u001b[0mG\u001b[0m\u001b[0;34m\u001b[0m\u001b[0;34m\u001b[0m\u001b[0m\n",
            "\u001b[0;31mTypeError\u001b[0m: unhashable type: 'list'"
          ]
        }
      ],
      "source": [
        "def get_domains(data):\n",
        "    return [sorted(set(x)) for x in zip(*data)]\n",
        "\n",
        "def g_0(n):\n",
        "    return ('?',) * n\n",
        "\n",
        "def s_0(n):\n",
        "    return ('Phi',) * n\n",
        "\n",
        "def more_general(h1, h2):\n",
        "    return all(x == '?' or x != 'Phi' and (x == y or y == 'Phi') for x, y in zip(h1, h2))\n",
        "\n",
        "def consistent(hypothesis, example):\n",
        "    return more_general(hypothesis, example)\n",
        "\n",
        "def min_generalizations(h, x):\n",
        "    return [(x_val if h_val == 'Phi' else '?') if not consistent([h_val], [x_val]) else h_val for h_val, x_val in zip(h, x)]\n",
        "\n",
        "def generalize_S(x, G, S):\n",
        "    for s in list(S):\n",
        "        if not consistent(s, x):\n",
        "            S.remove(s)\n",
        "            S.update(h for h in [min_generalizations(s, x)] if any(more_general(g, h) for g in G))\n",
        "            S.difference_update(h for h in S if any(more_general(h, h1) for h1 in S if h != h1))\n",
        "    return S\n",
        "\n",
        "def min_specializations(h, domains, x):\n",
        "    return [h[:i] + (val,) + h[i + 1:] for i, val in enumerate(domains) if h[i] == '?' and x[i] != val] + \\\n",
        "           [('Phi',) * i + (val,) + ('Phi',) * (len(h) - i - 1) for i, val in enumerate(h) if val != 'Phi']\n",
        "\n",
        "def specialize_G(x, domains, G, S):\n",
        "    for g in list(G):\n",
        "        if consistent(g, x):\n",
        "            G.remove(g)\n",
        "            G.update(h for h in min_specializations(g, domains, x) if any(more_general(h, s) for s in S))\n",
        "            G.difference_update(h for h in G if any(more_general(g1, h) for g1 in G if h != g1))\n",
        "    return G\n",
        "\n",
        "def candidate_elimination(examples):\n",
        "    domains = get_domains(examples)[:-1]\n",
        "    G = {g_0(len(domains))}\n",
        "    S = {s_0(len(domains))}\n",
        "    i = 0\n",
        "    print('All the hypotheses in General and Specific boundary are:\\n')\n",
        "    print('\\n G[{0}]:'.format(i), G)\n",
        "    print('\\n S[{0}]:'.format(i), S)\n",
        "    for xcx in examples:\n",
        "        i += 1\n",
        "        x, cx = xcx[:-1], xcx[-1]\n",
        "        if cx == 'Yes':\n",
        "            G = {g for g in G if consistent(g, x)}\n",
        "            S = generalize_S(x, G, S)\n",
        "        else:\n",
        "            S = {s for s in S if not consistent(s, x)}\n",
        "            G = specialize_G(x, domains, G, S)\n",
        "        print('\\n G[{0}]:'.format(i), G)\n",
        "        print('\\n S[{0}]:'.format(i), S)\n",
        "    return\n",
        "\n",
        "data = [\n",
        "    ('Big', 'Red', 'Circle', 'No'),\n",
        "    ('Small', 'Red', 'Triangle', 'No'),\n",
        "    ('Small', 'Red', 'Circle', 'Yes'),\n",
        "    ('Big', 'Blue', 'Circle', 'No'),\n",
        "    ('Small', 'Blue', 'Circle', 'Yes')\n",
        "]\n",
        "\n",
        "candidate_elimination(data)\n"
      ]
    },
    {
      "cell_type": "markdown",
      "metadata": {
        "id": "Z0e4KBG1Mgwd"
      },
      "source": [
        "ID3\n"
      ]
    },
    {
      "cell_type": "code",
      "execution_count": null,
      "metadata": {
        "colab": {
          "base_uri": "https://localhost:8080/"
        },
        "id": "C70uParKLvyX",
        "outputId": "b3d013c7-97af-44ac-a14c-eea5c184e3ad"
      },
      "outputs": [
        {
          "name": "stdout",
          "output_type": "stream",
          "text": [
            "Drive already mounted at /content/drive; to attempt to forcibly remount, call drive.mount(\"/content/drive\", force_remount=True).\n",
            "Index(['Age', 'Income', 'Gender', 'MaritalStatus', 'Buy'], dtype='object')\n",
            "Predicted class label: N\n"
          ]
        }
      ],
      "source": [
        "from google.colab import drive\n",
        "import numpy as np\n",
        "import pandas as pd\n",
        "\n",
        "# Mount Google Drive\n",
        "drive.mount('/content/drive')\n",
        "\n",
        "# Read the dataset\n",
        "df = pd.read_excel('/content/drive/My Drive/Colab Notebooks/NNML/house_purchase.xlsx')\n",
        "\n",
        "# Check the columns of the DataFrame\n",
        "print(df.columns)\n",
        "\n",
        "# Define the entropy function\n",
        "def entropy(s):\n",
        "    p = [(s == c).mean() for c in set(s)]\n",
        "    return sum([-pi * np.log2(pi) for pi in p if pi != 0])\n",
        "\n",
        "\n",
        "# Define the information gain function\n",
        "def info_gain(data, attribute, target):\n",
        "    totalE = entropy(data[target])\n",
        "    vals, counts = np.unique(data[attribute], return_counts=True)\n",
        "    wt = np.sum([(counts[i] / np.sum(counts)) * entropy(data.where(data[attribute] == val).dropna()[target]) for i, val in enumerate(vals)])\n",
        "    return totalE - wt\n",
        "\n",
        "# Define the ID3 algorithm\n",
        "def id3(data, og, features, target, parent_node_class=None):\n",
        "    if len(np.unique(data[target])) <= 1:\n",
        "        return np.unique(data[target])[0]\n",
        "    elif len(data) == 0:\n",
        "        return np.unique(og[target])[np.argmax(np.unique(og[target], return_counts=True)[1])]\n",
        "    elif len(features) == 0:\n",
        "        return parent_node_class\n",
        "    else:\n",
        "        parent_node_class = np.unique(data[target])[np.argmax(np.unique(data[target], return_counts=True)[1])]\n",
        "    item = [info_gain(data, feature, target) for feature in features]\n",
        "    bestI = np.argmax(item)\n",
        "    bestF = features[bestI]\n",
        "    tree = {bestF: {}}\n",
        "    features = [i for i in features if i != bestF]\n",
        "    for value in np.unique(data[bestF]):\n",
        "        value = value\n",
        "        sub = data.where(data[bestF] == value).dropna()\n",
        "        subtree = id3(sub, df, features, target, parent_node_class)\n",
        "        tree[bestF][value] = subtree\n",
        "    return tree\n",
        "\n",
        "# Define the predict function\n",
        "def predict(query, tree):\n",
        "    for key in list(query.keys()):\n",
        "        if key in list(tree.keys()):\n",
        "            try:\n",
        "                result = tree[key][query[key]]\n",
        "            except:\n",
        "                return \"Cannot make a prediction\"\n",
        "            result = tree[key][query[key]]\n",
        "            if isinstance(result, dict):\n",
        "                return predict(query, result)\n",
        "            else:\n",
        "                return result\n",
        "\n",
        "# Define the query dictionary\n",
        "query = {'Age': 30, 'Income': 50000, 'Gender': 'Male', 'MaritalStatus': 'Single'}\n",
        "\n",
        "# Define features and target\n",
        "features = ['Age', 'Income', 'Gender', 'MaritalStatus']\n",
        "target = 'Buy'\n",
        "\n",
        "# Build the decision tree\n",
        "tree = id3(df, df, features, target)\n",
        "\n",
        "# Predict the class label\n",
        "prediction = predict(query, tree)\n",
        "print(\"Predicted class label:\", prediction)\n"
      ]
    },
    {
      "cell_type": "code",
      "execution_count": null,
      "metadata": {
        "id": "hNgZs6T_8eqL"
      },
      "outputs": [],
      "source": [
        "import pandas as pd\n",
        "\n",
        "# Creating a more varied dataset\n",
        "data = pd.DataFrame({\n",
        "    'Weather': ['Sunny', 'Sunny', 'Overcast', 'Rainy', 'Rainy', 'Rainy', 'Overcast', 'Sunny', 'Sunny', 'Rainy'],\n",
        "    'Temperature': ['Hot', 'Hot', 'Mild', 'Cool', 'Cool', 'Cool', 'Mild', 'Mild', 'Cool', 'Mild'],\n",
        "    'Wind': ['Weak', 'Strong', 'Weak', 'Weak', 'Weak', 'Strong', 'Strong', 'Weak', 'Weak', 'Strong'],\n",
        "    'PlayTennis': ['Yes', 'Yes', 'Yes', 'No', 'Yes', 'No', 'Yes', 'No', 'No', 'No']\n",
        "})\n",
        "\n",
        "# Step 1: Initialize h to the most specific hypothesis in H\n",
        "hypothesis = pd.Series(['ϕ'] * (len(data.columns) - 1), index=data.columns[:-1])\n",
        "\n",
        "# Display the initial hypothesis\n",
        "print(\"Step 1: Initial Hypothesis\")\n",
        "print(hypothesis, \"\\n\")\n",
        "\n",
        "# Step 2: Iterate through positive examples\n",
        "for index, row in data.iterrows():\n",
        "    if row['PlayTennis'] == 'Yes':\n",
        "        for attribute in data.columns[:-1]:\n",
        "            # If the constraint ai is satisfied by x, do nothing\n",
        "            if hypothesis[attribute] == 'ϕ' or hypothesis[attribute] == row[attribute]:\n",
        "                pass\n",
        "            # Replace ai in h with the next more general constraint that is satisfied by x\n",
        "            else:\n",
        "                hypothesis[attribute] = '?'\n",
        "\n",
        "# Display the final hypothesis\n",
        "print(\"Step 3: Final Hypothesis\")\n",
        "print(hypothesis)\n"
      ]
    },
    {
      "cell_type": "markdown",
      "metadata": {
        "id": "pAmeaqJqMZCE"
      },
      "source": [
        "NAIVE BAYES CLASSIFICATION\n"
      ]
    },
    {
      "cell_type": "code",
      "execution_count": null,
      "metadata": {
        "colab": {
          "base_uri": "https://localhost:8080/"
        },
        "id": "b7E-agRkbDsB",
        "outputId": "67762293-4270-4a87-d98f-5bf0216d10b9"
      },
      "outputs": [
        {
          "name": "stdout",
          "output_type": "stream",
          "text": [
            "Mounted at /content/drive\n"
          ]
        }
      ],
      "source": [
        "from google.colab import drive\n",
        "drive.mount('/content/drive')"
      ]
    },
    {
      "cell_type": "code",
      "execution_count": null,
      "metadata": {
        "colab": {
          "base_uri": "https://localhost:8080/",
          "height": 362
        },
        "id": "lOClVDuuba-7",
        "outputId": "0fd15c1e-c517-43cc-aa29-be3786bb459a"
      },
      "outputs": [
        {
          "data": {
            "application/vnd.google.colaboratory.intrinsic+json": {
              "summary": "{\n  \"name\": \"data\",\n  \"rows\": 569,\n  \"fields\": [\n    {\n      \"column\": \"mean_radius\",\n      \"properties\": {\n        \"dtype\": \"number\",\n        \"std\": 3.5240488262120775,\n        \"min\": 6.981,\n        \"max\": 28.11,\n        \"num_unique_values\": 456,\n        \"samples\": [\n          11.87,\n          13.44,\n          12.96\n        ],\n        \"semantic_type\": \"\",\n        \"description\": \"\"\n      }\n    },\n    {\n      \"column\": \"mean_texture\",\n      \"properties\": {\n        \"dtype\": \"number\",\n        \"std\": 4.301035768166949,\n        \"min\": 9.71,\n        \"max\": 39.28,\n        \"num_unique_values\": 479,\n        \"samples\": [\n          17.84,\n          17.07,\n          18.57\n        ],\n        \"semantic_type\": \"\",\n        \"description\": \"\"\n      }\n    },\n    {\n      \"column\": \"mean_perimeter\",\n      \"properties\": {\n        \"dtype\": \"number\",\n        \"std\": 24.298981038754906,\n        \"min\": 43.79,\n        \"max\": 188.5,\n        \"num_unique_values\": 522,\n        \"samples\": [\n          92.25,\n          76.38,\n          119.6\n        ],\n        \"semantic_type\": \"\",\n        \"description\": \"\"\n      }\n    },\n    {\n      \"column\": \"mean_area\",\n      \"properties\": {\n        \"dtype\": \"number\",\n        \"std\": 351.914129181653,\n        \"min\": 143.5,\n        \"max\": 2501.0,\n        \"num_unique_values\": 539,\n        \"samples\": [\n          556.7,\n          584.1,\n          458.4\n        ],\n        \"semantic_type\": \"\",\n        \"description\": \"\"\n      }\n    },\n    {\n      \"column\": \"mean_smoothness\",\n      \"properties\": {\n        \"dtype\": \"number\",\n        \"std\": 0.01406412813767362,\n        \"min\": 0.05263,\n        \"max\": 0.1634,\n        \"num_unique_values\": 474,\n        \"samples\": [\n          0.09427,\n          0.09003,\n          0.1186\n        ],\n        \"semantic_type\": \"\",\n        \"description\": \"\"\n      }\n    },\n    {\n      \"column\": \"diagnosis\",\n      \"properties\": {\n        \"dtype\": \"number\",\n        \"std\": 0,\n        \"min\": 0,\n        \"max\": 1,\n        \"num_unique_values\": 2,\n        \"samples\": [\n          1,\n          0\n        ],\n        \"semantic_type\": \"\",\n        \"description\": \"\"\n      }\n    }\n  ]\n}",
              "type": "dataframe",
              "variable_name": "data"
            },
            "text/html": [
              "\n",
              "  <div id=\"df-33aecb98-e9fe-4bde-a345-79f0047d8315\" class=\"colab-df-container\">\n",
              "    <div>\n",
              "<style scoped>\n",
              "    .dataframe tbody tr th:only-of-type {\n",
              "        vertical-align: middle;\n",
              "    }\n",
              "\n",
              "    .dataframe tbody tr th {\n",
              "        vertical-align: top;\n",
              "    }\n",
              "\n",
              "    .dataframe thead th {\n",
              "        text-align: right;\n",
              "    }\n",
              "</style>\n",
              "<table border=\"1\" class=\"dataframe\">\n",
              "  <thead>\n",
              "    <tr style=\"text-align: right;\">\n",
              "      <th></th>\n",
              "      <th>mean_radius</th>\n",
              "      <th>mean_texture</th>\n",
              "      <th>mean_perimeter</th>\n",
              "      <th>mean_area</th>\n",
              "      <th>mean_smoothness</th>\n",
              "      <th>diagnosis</th>\n",
              "    </tr>\n",
              "  </thead>\n",
              "  <tbody>\n",
              "    <tr>\n",
              "      <th>0</th>\n",
              "      <td>17.99</td>\n",
              "      <td>10.38</td>\n",
              "      <td>122.80</td>\n",
              "      <td>1001.0</td>\n",
              "      <td>0.11840</td>\n",
              "      <td>0</td>\n",
              "    </tr>\n",
              "    <tr>\n",
              "      <th>1</th>\n",
              "      <td>20.57</td>\n",
              "      <td>17.77</td>\n",
              "      <td>132.90</td>\n",
              "      <td>1326.0</td>\n",
              "      <td>0.08474</td>\n",
              "      <td>0</td>\n",
              "    </tr>\n",
              "    <tr>\n",
              "      <th>2</th>\n",
              "      <td>19.69</td>\n",
              "      <td>21.25</td>\n",
              "      <td>130.00</td>\n",
              "      <td>1203.0</td>\n",
              "      <td>0.10960</td>\n",
              "      <td>0</td>\n",
              "    </tr>\n",
              "    <tr>\n",
              "      <th>3</th>\n",
              "      <td>11.42</td>\n",
              "      <td>20.38</td>\n",
              "      <td>77.58</td>\n",
              "      <td>386.1</td>\n",
              "      <td>0.14250</td>\n",
              "      <td>0</td>\n",
              "    </tr>\n",
              "    <tr>\n",
              "      <th>4</th>\n",
              "      <td>20.29</td>\n",
              "      <td>14.34</td>\n",
              "      <td>135.10</td>\n",
              "      <td>1297.0</td>\n",
              "      <td>0.10030</td>\n",
              "      <td>0</td>\n",
              "    </tr>\n",
              "    <tr>\n",
              "      <th>5</th>\n",
              "      <td>12.45</td>\n",
              "      <td>15.70</td>\n",
              "      <td>82.57</td>\n",
              "      <td>477.1</td>\n",
              "      <td>0.12780</td>\n",
              "      <td>0</td>\n",
              "    </tr>\n",
              "    <tr>\n",
              "      <th>6</th>\n",
              "      <td>18.25</td>\n",
              "      <td>19.98</td>\n",
              "      <td>119.60</td>\n",
              "      <td>1040.0</td>\n",
              "      <td>0.09463</td>\n",
              "      <td>0</td>\n",
              "    </tr>\n",
              "    <tr>\n",
              "      <th>7</th>\n",
              "      <td>13.71</td>\n",
              "      <td>20.83</td>\n",
              "      <td>90.20</td>\n",
              "      <td>577.9</td>\n",
              "      <td>0.11890</td>\n",
              "      <td>0</td>\n",
              "    </tr>\n",
              "    <tr>\n",
              "      <th>8</th>\n",
              "      <td>13.00</td>\n",
              "      <td>21.82</td>\n",
              "      <td>87.50</td>\n",
              "      <td>519.8</td>\n",
              "      <td>0.12730</td>\n",
              "      <td>0</td>\n",
              "    </tr>\n",
              "    <tr>\n",
              "      <th>9</th>\n",
              "      <td>12.46</td>\n",
              "      <td>24.04</td>\n",
              "      <td>83.97</td>\n",
              "      <td>475.9</td>\n",
              "      <td>0.11860</td>\n",
              "      <td>0</td>\n",
              "    </tr>\n",
              "  </tbody>\n",
              "</table>\n",
              "</div>\n",
              "    <div class=\"colab-df-buttons\">\n",
              "\n",
              "  <div class=\"colab-df-container\">\n",
              "    <button class=\"colab-df-convert\" onclick=\"convertToInteractive('df-33aecb98-e9fe-4bde-a345-79f0047d8315')\"\n",
              "            title=\"Convert this dataframe to an interactive table.\"\n",
              "            style=\"display:none;\">\n",
              "\n",
              "  <svg xmlns=\"http://www.w3.org/2000/svg\" height=\"24px\" viewBox=\"0 -960 960 960\">\n",
              "    <path d=\"M120-120v-720h720v720H120Zm60-500h600v-160H180v160Zm220 220h160v-160H400v160Zm0 220h160v-160H400v160ZM180-400h160v-160H180v160Zm440 0h160v-160H620v160ZM180-180h160v-160H180v160Zm440 0h160v-160H620v160Z\"/>\n",
              "  </svg>\n",
              "    </button>\n",
              "\n",
              "  <style>\n",
              "    .colab-df-container {\n",
              "      display:flex;\n",
              "      gap: 12px;\n",
              "    }\n",
              "\n",
              "    .colab-df-convert {\n",
              "      background-color: #E8F0FE;\n",
              "      border: none;\n",
              "      border-radius: 50%;\n",
              "      cursor: pointer;\n",
              "      display: none;\n",
              "      fill: #1967D2;\n",
              "      height: 32px;\n",
              "      padding: 0 0 0 0;\n",
              "      width: 32px;\n",
              "    }\n",
              "\n",
              "    .colab-df-convert:hover {\n",
              "      background-color: #E2EBFA;\n",
              "      box-shadow: 0px 1px 2px rgba(60, 64, 67, 0.3), 0px 1px 3px 1px rgba(60, 64, 67, 0.15);\n",
              "      fill: #174EA6;\n",
              "    }\n",
              "\n",
              "    .colab-df-buttons div {\n",
              "      margin-bottom: 4px;\n",
              "    }\n",
              "\n",
              "    [theme=dark] .colab-df-convert {\n",
              "      background-color: #3B4455;\n",
              "      fill: #D2E3FC;\n",
              "    }\n",
              "\n",
              "    [theme=dark] .colab-df-convert:hover {\n",
              "      background-color: #434B5C;\n",
              "      box-shadow: 0px 1px 3px 1px rgba(0, 0, 0, 0.15);\n",
              "      filter: drop-shadow(0px 1px 2px rgba(0, 0, 0, 0.3));\n",
              "      fill: #FFFFFF;\n",
              "    }\n",
              "  </style>\n",
              "\n",
              "    <script>\n",
              "      const buttonEl =\n",
              "        document.querySelector('#df-33aecb98-e9fe-4bde-a345-79f0047d8315 button.colab-df-convert');\n",
              "      buttonEl.style.display =\n",
              "        google.colab.kernel.accessAllowed ? 'block' : 'none';\n",
              "\n",
              "      async function convertToInteractive(key) {\n",
              "        const element = document.querySelector('#df-33aecb98-e9fe-4bde-a345-79f0047d8315');\n",
              "        const dataTable =\n",
              "          await google.colab.kernel.invokeFunction('convertToInteractive',\n",
              "                                                    [key], {});\n",
              "        if (!dataTable) return;\n",
              "\n",
              "        const docLinkHtml = 'Like what you see? Visit the ' +\n",
              "          '<a target=\"_blank\" href=https://colab.research.google.com/notebooks/data_table.ipynb>data table notebook</a>'\n",
              "          + ' to learn more about interactive tables.';\n",
              "        element.innerHTML = '';\n",
              "        dataTable['output_type'] = 'display_data';\n",
              "        await google.colab.output.renderOutput(dataTable, element);\n",
              "        const docLink = document.createElement('div');\n",
              "        docLink.innerHTML = docLinkHtml;\n",
              "        element.appendChild(docLink);\n",
              "      }\n",
              "    </script>\n",
              "  </div>\n",
              "\n",
              "\n",
              "<div id=\"df-dcdd9997-f4b2-4ef5-92c1-3dc7a9f1b36a\">\n",
              "  <button class=\"colab-df-quickchart\" onclick=\"quickchart('df-dcdd9997-f4b2-4ef5-92c1-3dc7a9f1b36a')\"\n",
              "            title=\"Suggest charts\"\n",
              "            style=\"display:none;\">\n",
              "\n",
              "<svg xmlns=\"http://www.w3.org/2000/svg\" height=\"24px\"viewBox=\"0 0 24 24\"\n",
              "     width=\"24px\">\n",
              "    <g>\n",
              "        <path d=\"M19 3H5c-1.1 0-2 .9-2 2v14c0 1.1.9 2 2 2h14c1.1 0 2-.9 2-2V5c0-1.1-.9-2-2-2zM9 17H7v-7h2v7zm4 0h-2V7h2v10zm4 0h-2v-4h2v4z\"/>\n",
              "    </g>\n",
              "</svg>\n",
              "  </button>\n",
              "\n",
              "<style>\n",
              "  .colab-df-quickchart {\n",
              "      --bg-color: #E8F0FE;\n",
              "      --fill-color: #1967D2;\n",
              "      --hover-bg-color: #E2EBFA;\n",
              "      --hover-fill-color: #174EA6;\n",
              "      --disabled-fill-color: #AAA;\n",
              "      --disabled-bg-color: #DDD;\n",
              "  }\n",
              "\n",
              "  [theme=dark] .colab-df-quickchart {\n",
              "      --bg-color: #3B4455;\n",
              "      --fill-color: #D2E3FC;\n",
              "      --hover-bg-color: #434B5C;\n",
              "      --hover-fill-color: #FFFFFF;\n",
              "      --disabled-bg-color: #3B4455;\n",
              "      --disabled-fill-color: #666;\n",
              "  }\n",
              "\n",
              "  .colab-df-quickchart {\n",
              "    background-color: var(--bg-color);\n",
              "    border: none;\n",
              "    border-radius: 50%;\n",
              "    cursor: pointer;\n",
              "    display: none;\n",
              "    fill: var(--fill-color);\n",
              "    height: 32px;\n",
              "    padding: 0;\n",
              "    width: 32px;\n",
              "  }\n",
              "\n",
              "  .colab-df-quickchart:hover {\n",
              "    background-color: var(--hover-bg-color);\n",
              "    box-shadow: 0 1px 2px rgba(60, 64, 67, 0.3), 0 1px 3px 1px rgba(60, 64, 67, 0.15);\n",
              "    fill: var(--button-hover-fill-color);\n",
              "  }\n",
              "\n",
              "  .colab-df-quickchart-complete:disabled,\n",
              "  .colab-df-quickchart-complete:disabled:hover {\n",
              "    background-color: var(--disabled-bg-color);\n",
              "    fill: var(--disabled-fill-color);\n",
              "    box-shadow: none;\n",
              "  }\n",
              "\n",
              "  .colab-df-spinner {\n",
              "    border: 2px solid var(--fill-color);\n",
              "    border-color: transparent;\n",
              "    border-bottom-color: var(--fill-color);\n",
              "    animation:\n",
              "      spin 1s steps(1) infinite;\n",
              "  }\n",
              "\n",
              "  @keyframes spin {\n",
              "    0% {\n",
              "      border-color: transparent;\n",
              "      border-bottom-color: var(--fill-color);\n",
              "      border-left-color: var(--fill-color);\n",
              "    }\n",
              "    20% {\n",
              "      border-color: transparent;\n",
              "      border-left-color: var(--fill-color);\n",
              "      border-top-color: var(--fill-color);\n",
              "    }\n",
              "    30% {\n",
              "      border-color: transparent;\n",
              "      border-left-color: var(--fill-color);\n",
              "      border-top-color: var(--fill-color);\n",
              "      border-right-color: var(--fill-color);\n",
              "    }\n",
              "    40% {\n",
              "      border-color: transparent;\n",
              "      border-right-color: var(--fill-color);\n",
              "      border-top-color: var(--fill-color);\n",
              "    }\n",
              "    60% {\n",
              "      border-color: transparent;\n",
              "      border-right-color: var(--fill-color);\n",
              "    }\n",
              "    80% {\n",
              "      border-color: transparent;\n",
              "      border-right-color: var(--fill-color);\n",
              "      border-bottom-color: var(--fill-color);\n",
              "    }\n",
              "    90% {\n",
              "      border-color: transparent;\n",
              "      border-bottom-color: var(--fill-color);\n",
              "    }\n",
              "  }\n",
              "</style>\n",
              "\n",
              "  <script>\n",
              "    async function quickchart(key) {\n",
              "      const quickchartButtonEl =\n",
              "        document.querySelector('#' + key + ' button');\n",
              "      quickchartButtonEl.disabled = true;  // To prevent multiple clicks.\n",
              "      quickchartButtonEl.classList.add('colab-df-spinner');\n",
              "      try {\n",
              "        const charts = await google.colab.kernel.invokeFunction(\n",
              "            'suggestCharts', [key], {});\n",
              "      } catch (error) {\n",
              "        console.error('Error during call to suggestCharts:', error);\n",
              "      }\n",
              "      quickchartButtonEl.classList.remove('colab-df-spinner');\n",
              "      quickchartButtonEl.classList.add('colab-df-quickchart-complete');\n",
              "    }\n",
              "    (() => {\n",
              "      let quickchartButtonEl =\n",
              "        document.querySelector('#df-dcdd9997-f4b2-4ef5-92c1-3dc7a9f1b36a button');\n",
              "      quickchartButtonEl.style.display =\n",
              "        google.colab.kernel.accessAllowed ? 'block' : 'none';\n",
              "    })();\n",
              "  </script>\n",
              "</div>\n",
              "    </div>\n",
              "  </div>\n"
            ],
            "text/plain": [
              "   mean_radius  mean_texture  mean_perimeter  mean_area  mean_smoothness  \\\n",
              "0        17.99         10.38          122.80     1001.0          0.11840   \n",
              "1        20.57         17.77          132.90     1326.0          0.08474   \n",
              "2        19.69         21.25          130.00     1203.0          0.10960   \n",
              "3        11.42         20.38           77.58      386.1          0.14250   \n",
              "4        20.29         14.34          135.10     1297.0          0.10030   \n",
              "5        12.45         15.70           82.57      477.1          0.12780   \n",
              "6        18.25         19.98          119.60     1040.0          0.09463   \n",
              "7        13.71         20.83           90.20      577.9          0.11890   \n",
              "8        13.00         21.82           87.50      519.8          0.12730   \n",
              "9        12.46         24.04           83.97      475.9          0.11860   \n",
              "\n",
              "   diagnosis  \n",
              "0          0  \n",
              "1          0  \n",
              "2          0  \n",
              "3          0  \n",
              "4          0  \n",
              "5          0  \n",
              "6          0  \n",
              "7          0  \n",
              "8          0  \n",
              "9          0  "
            ]
          },
          "execution_count": 4,
          "metadata": {},
          "output_type": "execute_result"
        }
      ],
      "source": [
        "import numpy as np\n",
        "import pandas as pd\n",
        "import matplotlib.pyplot as plt\n",
        "import seaborn as sn\n",
        "\n",
        "sn.set_style(\"darkgrid\")\n",
        "\n",
        "data = pd.read_csv('/content/drive/My Drive/Colab Notebooks/NNML/BreastCancerData.csv')\n",
        "data.head(10)\n"
      ]
    },
    {
      "cell_type": "code",
      "execution_count": null,
      "metadata": {
        "colab": {
          "base_uri": "https://localhost:8080/",
          "height": 551
        },
        "id": "7rAvdUvicRHL",
        "outputId": "0fe60ea9-88ce-4920-bb3b-9212c9c18293"
      },
      "outputs": [
        {
          "data": {
            "image/png": "[encoded data removed]",
            "text/plain": [
              "<Figure size 640x480 with 2 Axes>"
            ]
          },
          "metadata": {},
          "output_type": "display_data"
        }
      ],
      "source": [
        "#EDA\n",
        "corr = data.iloc[:, :-1].corr(method='pearson')\n",
        "cmap = sn.diverging_palette(250, 354, 80, 60, center='dark', as_cmap=True)\n",
        "\n",
        "sn.heatmap(corr, vmax=1, vmin=-0.5, cmap=cmap, square=True, linewidths=0.2)\n",
        "plt.show()\n"
      ]
    },
    {
      "cell_type": "code",
      "execution_count": null,
      "metadata": {
        "colab": {
          "base_uri": "https://localhost:8080/",
          "height": 362
        },
        "id": "I7_vxRDYc_ZU",
        "outputId": "0e210d73-6bb0-4466-b8e7-6ae58ec0c181"
      },
      "outputs": [
        {
          "data": {
            "application/vnd.google.colaboratory.intrinsic+json": {
              "summary": "{\n  \"name\": \"data\",\n  \"rows\": 569,\n  \"fields\": [\n    {\n      \"column\": \"mean_radius\",\n      \"properties\": {\n        \"dtype\": \"number\",\n        \"std\": 3.5240488262120775,\n        \"min\": 6.981,\n        \"max\": 28.11,\n        \"num_unique_values\": 456,\n        \"samples\": [\n          11.87,\n          13.44,\n          12.96\n        ],\n        \"semantic_type\": \"\",\n        \"description\": \"\"\n      }\n    },\n    {\n      \"column\": \"mean_texture\",\n      \"properties\": {\n        \"dtype\": \"number\",\n        \"std\": 4.301035768166949,\n        \"min\": 9.71,\n        \"max\": 39.28,\n        \"num_unique_values\": 479,\n        \"samples\": [\n          17.84,\n          17.07,\n          18.57\n        ],\n        \"semantic_type\": \"\",\n        \"description\": \"\"\n      }\n    },\n    {\n      \"column\": \"mean_smoothness\",\n      \"properties\": {\n        \"dtype\": \"number\",\n        \"std\": 0.01406412813767362,\n        \"min\": 0.05263,\n        \"max\": 0.1634,\n        \"num_unique_values\": 474,\n        \"samples\": [\n          0.09427,\n          0.09003,\n          0.1186\n        ],\n        \"semantic_type\": \"\",\n        \"description\": \"\"\n      }\n    },\n    {\n      \"column\": \"diagnosis\",\n      \"properties\": {\n        \"dtype\": \"number\",\n        \"std\": 0,\n        \"min\": 0,\n        \"max\": 1,\n        \"num_unique_values\": 2,\n        \"samples\": [\n          1,\n          0\n        ],\n        \"semantic_type\": \"\",\n        \"description\": \"\"\n      }\n    }\n  ]\n}",
              "type": "dataframe",
              "variable_name": "data"
            },
            "text/html": [
              "\n",
              "  <div id=\"df-e2bb56a7-9c82-4e39-8489-695014985e2a\" class=\"colab-df-container\">\n",
              "    <div>\n",
              "<style scoped>\n",
              "    .dataframe tbody tr th:only-of-type {\n",
              "        vertical-align: middle;\n",
              "    }\n",
              "\n",
              "    .dataframe tbody tr th {\n",
              "        vertical-align: top;\n",
              "    }\n",
              "\n",
              "    .dataframe thead th {\n",
              "        text-align: right;\n",
              "    }\n",
              "</style>\n",
              "<table border=\"1\" class=\"dataframe\">\n",
              "  <thead>\n",
              "    <tr style=\"text-align: right;\">\n",
              "      <th></th>\n",
              "      <th>mean_radius</th>\n",
              "      <th>mean_texture</th>\n",
              "      <th>mean_smoothness</th>\n",
              "      <th>diagnosis</th>\n",
              "    </tr>\n",
              "  </thead>\n",
              "  <tbody>\n",
              "    <tr>\n",
              "      <th>0</th>\n",
              "      <td>17.99</td>\n",
              "      <td>10.38</td>\n",
              "      <td>0.11840</td>\n",
              "      <td>0</td>\n",
              "    </tr>\n",
              "    <tr>\n",
              "      <th>1</th>\n",
              "      <td>20.57</td>\n",
              "      <td>17.77</td>\n",
              "      <td>0.08474</td>\n",
              "      <td>0</td>\n",
              "    </tr>\n",
              "    <tr>\n",
              "      <th>2</th>\n",
              "      <td>19.69</td>\n",
              "      <td>21.25</td>\n",
              "      <td>0.10960</td>\n",
              "      <td>0</td>\n",
              "    </tr>\n",
              "    <tr>\n",
              "      <th>3</th>\n",
              "      <td>11.42</td>\n",
              "      <td>20.38</td>\n",
              "      <td>0.14250</td>\n",
              "      <td>0</td>\n",
              "    </tr>\n",
              "    <tr>\n",
              "      <th>4</th>\n",
              "      <td>20.29</td>\n",
              "      <td>14.34</td>\n",
              "      <td>0.10030</td>\n",
              "      <td>0</td>\n",
              "    </tr>\n",
              "    <tr>\n",
              "      <th>5</th>\n",
              "      <td>12.45</td>\n",
              "      <td>15.70</td>\n",
              "      <td>0.12780</td>\n",
              "      <td>0</td>\n",
              "    </tr>\n",
              "    <tr>\n",
              "      <th>6</th>\n",
              "      <td>18.25</td>\n",
              "      <td>19.98</td>\n",
              "      <td>0.09463</td>\n",
              "      <td>0</td>\n",
              "    </tr>\n",
              "    <tr>\n",
              "      <th>7</th>\n",
              "      <td>13.71</td>\n",
              "      <td>20.83</td>\n",
              "      <td>0.11890</td>\n",
              "      <td>0</td>\n",
              "    </tr>\n",
              "    <tr>\n",
              "      <th>8</th>\n",
              "      <td>13.00</td>\n",
              "      <td>21.82</td>\n",
              "      <td>0.12730</td>\n",
              "      <td>0</td>\n",
              "    </tr>\n",
              "    <tr>\n",
              "      <th>9</th>\n",
              "      <td>12.46</td>\n",
              "      <td>24.04</td>\n",
              "      <td>0.11860</td>\n",
              "      <td>0</td>\n",
              "    </tr>\n",
              "  </tbody>\n",
              "</table>\n",
              "</div>\n",
              "    <div class=\"colab-df-buttons\">\n",
              "\n",
              "  <div class=\"colab-df-container\">\n",
              "    <button class=\"colab-df-convert\" onclick=\"convertToInteractive('df-e2bb56a7-9c82-4e39-8489-695014985e2a')\"\n",
              "            title=\"Convert this dataframe to an interactive table.\"\n",
              "            style=\"display:none;\">\n",
              "\n",
              "  <svg xmlns=\"http://www.w3.org/2000/svg\" height=\"24px\" viewBox=\"0 -960 960 960\">\n",
              "    <path d=\"M120-120v-720h720v720H120Zm60-500h600v-160H180v160Zm220 220h160v-160H400v160Zm0 220h160v-160H400v160ZM180-400h160v-160H180v160Zm440 0h160v-160H620v160ZM180-180h160v-160H180v160Zm440 0h160v-160H620v160Z\"/>\n",
              "  </svg>\n",
              "    </button>\n",
              "\n",
              "  <style>\n",
              "    .colab-df-container {\n",
              "      display:flex;\n",
              "      gap: 12px;\n",
              "    }\n",
              "\n",
              "    .colab-df-convert {\n",
              "      background-color: #E8F0FE;\n",
              "      border: none;\n",
              "      border-radius: 50%;\n",
              "      cursor: pointer;\n",
              "      display: none;\n",
              "      fill: #1967D2;\n",
              "      height: 32px;\n",
              "      padding: 0 0 0 0;\n",
              "      width: 32px;\n",
              "    }\n",
              "\n",
              "    .colab-df-convert:hover {\n",
              "      background-color: #E2EBFA;\n",
              "      box-shadow: 0px 1px 2px rgba(60, 64, 67, 0.3), 0px 1px 3px 1px rgba(60, 64, 67, 0.15);\n",
              "      fill: #174EA6;\n",
              "    }\n",
              "\n",
              "    .colab-df-buttons div {\n",
              "      margin-bottom: 4px;\n",
              "    }\n",
              "\n",
              "    [theme=dark] .colab-df-convert {\n",
              "      background-color: #3B4455;\n",
              "      fill: #D2E3FC;\n",
              "    }\n",
              "\n",
              "    [theme=dark] .colab-df-convert:hover {\n",
              "      background-color: #434B5C;\n",
              "      box-shadow: 0px 1px 3px 1px rgba(0, 0, 0, 0.15);\n",
              "      filter: drop-shadow(0px 1px 2px rgba(0, 0, 0, 0.3));\n",
              "      fill: #FFFFFF;\n",
              "    }\n",
              "  </style>\n",
              "\n",
              "    <script>\n",
              "      const buttonEl =\n",
              "        document.querySelector('#df-e2bb56a7-9c82-4e39-8489-695014985e2a button.colab-df-convert');\n",
              "      buttonEl.style.display =\n",
              "        google.colab.kernel.accessAllowed ? 'block' : 'none';\n",
              "\n",
              "      async function convertToInteractive(key) {\n",
              "        const element = document.querySelector('#df-e2bb56a7-9c82-4e39-8489-695014985e2a');\n",
              "        const dataTable =\n",
              "          await google.colab.kernel.invokeFunction('convertToInteractive',\n",
              "                                                    [key], {});\n",
              "        if (!dataTable) return;\n",
              "\n",
              "        const docLinkHtml = 'Like what you see? Visit the ' +\n",
              "          '<a target=\"_blank\" href=https://colab.research.google.com/notebooks/data_table.ipynb>data table notebook</a>'\n",
              "          + ' to learn more about interactive tables.';\n",
              "        element.innerHTML = '';\n",
              "        dataTable['output_type'] = 'display_data';\n",
              "        await google.colab.output.renderOutput(dataTable, element);\n",
              "        const docLink = document.createElement('div');\n",
              "        docLink.innerHTML = docLinkHtml;\n",
              "        element.appendChild(docLink);\n",
              "      }\n",
              "    </script>\n",
              "  </div>\n",
              "\n",
              "\n",
              "<div id=\"df-cf33f0f3-ea2e-45f1-a341-5a8e45b3354e\">\n",
              "  <button class=\"colab-df-quickchart\" onclick=\"quickchart('df-cf33f0f3-ea2e-45f1-a341-5a8e45b3354e')\"\n",
              "            title=\"Suggest charts\"\n",
              "            style=\"display:none;\">\n",
              "\n",
              "<svg xmlns=\"http://www.w3.org/2000/svg\" height=\"24px\"viewBox=\"0 0 24 24\"\n",
              "     width=\"24px\">\n",
              "    <g>\n",
              "        <path d=\"M19 3H5c-1.1 0-2 .9-2 2v14c0 1.1.9 2 2 2h14c1.1 0 2-.9 2-2V5c0-1.1-.9-2-2-2zM9 17H7v-7h2v7zm4 0h-2V7h2v10zm4 0h-2v-4h2v4z\"/>\n",
              "    </g>\n",
              "</svg>\n",
              "  </button>\n",
              "\n",
              "<style>\n",
              "  .colab-df-quickchart {\n",
              "      --bg-color: #E8F0FE;\n",
              "      --fill-color: #1967D2;\n",
              "      --hover-bg-color: #E2EBFA;\n",
              "      --hover-fill-color: #174EA6;\n",
              "      --disabled-fill-color: #AAA;\n",
              "      --disabled-bg-color: #DDD;\n",
              "  }\n",
              "\n",
              "  [theme=dark] .colab-df-quickchart {\n",
              "      --bg-color: #3B4455;\n",
              "      --fill-color: #D2E3FC;\n",
              "      --hover-bg-color: #434B5C;\n",
              "      --hover-fill-color: #FFFFFF;\n",
              "      --disabled-bg-color: #3B4455;\n",
              "      --disabled-fill-color: #666;\n",
              "  }\n",
              "\n",
              "  .colab-df-quickchart {\n",
              "    background-color: var(--bg-color);\n",
              "    border: none;\n",
              "    border-radius: 50%;\n",
              "    cursor: pointer;\n",
              "    display: none;\n",
              "    fill: var(--fill-color);\n",
              "    height: 32px;\n",
              "    padding: 0;\n",
              "    width: 32px;\n",
              "  }\n",
              "\n",
              "  .colab-df-quickchart:hover {\n",
              "    background-color: var(--hover-bg-color);\n",
              "    box-shadow: 0 1px 2px rgba(60, 64, 67, 0.3), 0 1px 3px 1px rgba(60, 64, 67, 0.15);\n",
              "    fill: var(--button-hover-fill-color);\n",
              "  }\n",
              "\n",
              "  .colab-df-quickchart-complete:disabled,\n",
              "  .colab-df-quickchart-complete:disabled:hover {\n",
              "    background-color: var(--disabled-bg-color);\n",
              "    fill: var(--disabled-fill-color);\n",
              "    box-shadow: none;\n",
              "  }\n",
              "\n",
              "  .colab-df-spinner {\n",
              "    border: 2px solid var(--fill-color);\n",
              "    border-color: transparent;\n",
              "    border-bottom-color: var(--fill-color);\n",
              "    animation:\n",
              "      spin 1s steps(1) infinite;\n",
              "  }\n",
              "\n",
              "  @keyframes spin {\n",
              "    0% {\n",
              "      border-color: transparent;\n",
              "      border-bottom-color: var(--fill-color);\n",
              "      border-left-color: var(--fill-color);\n",
              "    }\n",
              "    20% {\n",
              "      border-color: transparent;\n",
              "      border-left-color: var(--fill-color);\n",
              "      border-top-color: var(--fill-color);\n",
              "    }\n",
              "    30% {\n",
              "      border-color: transparent;\n",
              "      border-left-color: var(--fill-color);\n",
              "      border-top-color: var(--fill-color);\n",
              "      border-right-color: var(--fill-color);\n",
              "    }\n",
              "    40% {\n",
              "      border-color: transparent;\n",
              "      border-right-color: var(--fill-color);\n",
              "      border-top-color: var(--fill-color);\n",
              "    }\n",
              "    60% {\n",
              "      border-color: transparent;\n",
              "      border-right-color: var(--fill-color);\n",
              "    }\n",
              "    80% {\n",
              "      border-color: transparent;\n",
              "      border-right-color: var(--fill-color);\n",
              "      border-bottom-color: var(--fill-color);\n",
              "    }\n",
              "    90% {\n",
              "      border-color: transparent;\n",
              "      border-bottom-color: var(--fill-color);\n",
              "    }\n",
              "  }\n",
              "</style>\n",
              "\n",
              "  <script>\n",
              "    async function quickchart(key) {\n",
              "      const quickchartButtonEl =\n",
              "        document.querySelector('#' + key + ' button');\n",
              "      quickchartButtonEl.disabled = true;  // To prevent multiple clicks.\n",
              "      quickchartButtonEl.classList.add('colab-df-spinner');\n",
              "      try {\n",
              "        const charts = await google.colab.kernel.invokeFunction(\n",
              "            'suggestCharts', [key], {});\n",
              "      } catch (error) {\n",
              "        console.error('Error during call to suggestCharts:', error);\n",
              "      }\n",
              "      quickchartButtonEl.classList.remove('colab-df-spinner');\n",
              "      quickchartButtonEl.classList.add('colab-df-quickchart-complete');\n",
              "    }\n",
              "    (() => {\n",
              "      let quickchartButtonEl =\n",
              "        document.querySelector('#df-cf33f0f3-ea2e-45f1-a341-5a8e45b3354e button');\n",
              "      quickchartButtonEl.style.display =\n",
              "        google.colab.kernel.accessAllowed ? 'block' : 'none';\n",
              "    })();\n",
              "  </script>\n",
              "</div>\n",
              "    </div>\n",
              "  </div>\n"
            ],
            "text/plain": [
              "   mean_radius  mean_texture  mean_smoothness  diagnosis\n",
              "0        17.99         10.38          0.11840          0\n",
              "1        20.57         17.77          0.08474          0\n",
              "2        19.69         21.25          0.10960          0\n",
              "3        11.42         20.38          0.14250          0\n",
              "4        20.29         14.34          0.10030          0\n",
              "5        12.45         15.70          0.12780          0\n",
              "6        18.25         19.98          0.09463          0\n",
              "7        13.71         20.83          0.11890          0\n",
              "8        13.00         21.82          0.12730          0\n",
              "9        12.46         24.04          0.11860          0"
            ]
          },
          "execution_count": 6,
          "metadata": {},
          "output_type": "execute_result"
        }
      ],
      "source": [
        "#correlation pearson\n",
        "data = data[['mean_radius', 'mean_texture', 'mean_smoothness', 'diagnosis']]\n",
        "data.head(10)\n"
      ]
    },
    {
      "cell_type": "code",
      "execution_count": null,
      "metadata": {
        "colab": {
          "base_uri": "https://localhost:8080/",
          "height": 542
        },
        "id": "rq_zoDmLdpns",
        "outputId": "1c9f4641-9d6d-4b83-be84-bf0b8cf700ee"
      },
      "outputs": [
        {
          "data": {
            "image/png": "[encoded data removed]",
            "text/plain": [
              "<Figure size 1800x600 with 3 Axes>"
            ]
          },
          "metadata": {},
          "output_type": "display_data"
        }
      ],
      "source": [
        "fig, axes = plt.subplots(1, 3, figsize=(18, 6), sharey=True)\n",
        "sn.histplot(data, ax=axes[0], x=\"mean_radius\", kde=True, color='r')\n",
        "sn.histplot(data, ax=axes[1], x=\"mean_smoothness\", kde=True, color='b')\n",
        "sn.histplot(data, ax=axes[2], x=\"mean_texture\", kde=True)\n",
        "plt.show()"
      ]
    },
    {
      "cell_type": "code",
      "execution_count": null,
      "metadata": {
        "id": "n75mArLGQwpT"
      },
      "outputs": [],
      "source": [
        "def calculate_prior(df, Y):\n",
        "    # Get the unique classes in the specified column Y\n",
        "    classes = sorted(list(df[Y].unique()))\n",
        "\n",
        "    # Initialize an empty list to store the prior probabilities\n",
        "    prior = []\n",
        "\n",
        "    # Iterate over each class\n",
        "    for i in classes:\n",
        "        # Calculate the prior probability for the class and append it to the list\n",
        "        prior.append(len(df[df[Y] == i]) / len(df))\n",
        "\n",
        "    return prior\n"
      ]
    },
    {
      "cell_type": "code",
      "execution_count": null,
      "metadata": {
        "id": "xZksWYdwRc-P"
      },
      "outputs": [],
      "source": [
        "import numpy as np\n",
        "\n",
        "def calculate_likelihood_gaussian(df, feat_name, feat_val, Y, label):\n",
        "    feat = list(df.columns)\n",
        "\n",
        "    # Filter the dataframe to include only rows where the class label Y matches the specified label\n",
        "    df = df[df[Y] == label]\n",
        "\n",
        "    # Calculate the mean and standard deviation of the feature values for the specified class\n",
        "    mean, std = df[feat_name].mean(), df[feat_name].std()\n",
        "\n",
        "    # Calculate the probability density function (PDF) of the feature value given the class using Gaussian distribution\n",
        "    P_x_given_y = (1 / (np.sqrt(2 * np.pi) * std)) * np.exp(-((feat_val - mean) ** 2 / (2 * std ** 2)))\n",
        "\n",
        "    return P_x_given_y\n"
      ]
    },
    {
      "cell_type": "code",
      "execution_count": null,
      "metadata": {
        "id": "pzkga7zBRhvF"
      },
      "outputs": [],
      "source": [
        "import numpy as np\n",
        "\n",
        "def naive_bayes_gaussian(df, X, Y):\n",
        "    # Get feature names\n",
        "    features = list(df.columns)[:-1]\n",
        "\n",
        "    # Calculate prior probabilities\n",
        "    prior = calculate_prior(df, Y)\n",
        "\n",
        "    # Initialize list to store predicted class labels\n",
        "    Y_pred = []\n",
        "\n",
        "    # Loop over every data sample\n",
        "    for x in X:\n",
        "        # Initialize likelihood list\n",
        "        labels = sorted(list(df[Y].unique()))\n",
        "        likelihood = [1] * len(labels)\n",
        "\n",
        "        # Calculate likelihood for each class\n",
        "        for j in range(len(labels)):\n",
        "            for i in range(len(features)):\n",
        "                likelihood[j] *= calculate_likelihood_gaussian(df, features[i], x[i], Y, labels[j])\n",
        "\n",
        "        # Calculate posterior probability (numerator only)\n",
        "        post_prob = [1] * len(labels)\n",
        "        for j in range(len(labels)):\n",
        "            post_prob[j] = likelihood[j] * prior[j]\n",
        "\n",
        "        # Append the predicted class label based on maximum posterior probability\n",
        "        Y_pred.append(np.argmax(post_prob))\n",
        "\n",
        "    return np.array(Y_pred)\n"
      ]
    },
    {
      "cell_type": "code",
      "execution_count": null,
      "metadata": {
        "colab": {
          "base_uri": "https://localhost:8080/"
        },
        "id": "lwJVtHoFDDca",
        "outputId": "a298b925-b82d-4a06-d303-4eacf2e07532"
      },
      "outputs": [
        {
          "name": "stdout",
          "output_type": "stream",
          "text": [
            "[[36  4]\n",
            " [ 0 74]]\n",
            "0.9736842105263158\n"
          ]
        }
      ],
      "source": [
        "from sklearn.model_selection import train_test_split\n",
        "from sklearn.metrics import confusion_matrix, f1_score\n",
        "\n",
        "# Splitting the data into training and testing sets\n",
        "train, test = train_test_split(data, test_size=.2, random_state=41)\n",
        "\n",
        "# Extracting features and target labels for the test set\n",
        "X_test = test.iloc[:, :-1].values\n",
        "Y_test = test.iloc[:, -1].values\n",
        "\n",
        "# Predicting with the trained Gaussian Naive Bayes model\n",
        "Y_pred = naive_bayes_gaussian(train, X=X_test, Y=\"diagnosis\")\n",
        "\n",
        "# Calculating confusion matrix and F1 score\n",
        "print(confusion_matrix(Y_test, Y_pred))\n",
        "print(f1_score(Y_test, Y_pred))"
      ]
    },
    {
      "cell_type": "markdown",
      "metadata": {
        "id": "_hQoeRHKkCLy"
      },
      "source": [
        "Linear regression using food franchise dataset"
      ]
    },
    {
      "cell_type": "code",
      "execution_count": null,
      "metadata": {
        "colab": {
          "base_uri": "https://localhost:8080/",
          "height": 91
        },
        "id": "fz50ktBgkTBf",
        "outputId": "75dd4a81-ee5a-4bc7-a837-e8f2c90080e6"
      },
      "outputs": [
        {
          "data": {
            "text/html": [
              "\n",
              "     <input type=\"file\" id=\"files-bbc8e55e-6631-4e32-bdf5-0cc3a10dd8ec\" name=\"files[]\" multiple disabled\n",
              "        style=\"border:none\" />\n",
              "     <output id=\"result-bbc8e55e-6631-4e32-bdf5-0cc3a10dd8ec\">\n",
              "      Upload widget is only available when the cell has been executed in the\n",
              "      current browser session. Please rerun this cell to enable.\n",
              "      </output>\n",
              "      <script>// Copyright 2017 Google LLC\n",
              "//\n",
              "// Licensed under the Apache License, Version 2.0 (the \"License\");\n",
              "// you may not use this file except in compliance with the License.\n",
              "// You may obtain a copy of the License at\n",
              "//\n",
              "//      http://www.apache.org/licenses/LICENSE-2.0\n",
              "//\n",
              "// Unless required by applicable law or agreed to in writing, software\n",
              "// distributed under the License is distributed on an \"AS IS\" BASIS,\n",
              "// WITHOUT WARRANTIES OR CONDITIONS OF ANY KIND, either express or implied.\n",
              "// See the License for the specific language governing permissions and\n",
              "// limitations under the License.\n",
              "\n",
              "/**\n",
              " * @fileoverview Helpers for google.colab Python module.\n",
              " */\n",
              "(function(scope) {\n",
              "function span(text, styleAttributes = {}) {\n",
              "  const element = document.createElement('span');\n",
              "  element.textContent = text;\n",
              "  for (const key of Object.keys(styleAttributes)) {\n",
              "    element.style[key] = styleAttributes[key];\n",
              "  }\n",
              "  return element;\n",
              "}\n",
              "\n",
              "// Max number of bytes which will be uploaded at a time.\n",
              "const MAX_PAYLOAD_SIZE = 100 * 1024;\n",
              "\n",
              "function _uploadFiles(inputId, outputId) {\n",
              "  const steps = uploadFilesStep(inputId, outputId);\n",
              "  const outputElement = document.getElementById(outputId);\n",
              "  // Cache steps on the outputElement to make it available for the next call\n",
              "  // to uploadFilesContinue from Python.\n",
              "  outputElement.steps = steps;\n",
              "\n",
              "  return _uploadFilesContinue(outputId);\n",
              "}\n",
              "\n",
              "// This is roughly an async generator (not supported in the browser yet),\n",
              "// where there are multiple asynchronous steps and the Python side is going\n",
              "// to poll for completion of each step.\n",
              "// This uses a Promise to block the python side on completion of each step,\n",
              "// then passes the result of the previous step as the input to the next step.\n",
              "function _uploadFilesContinue(outputId) {\n",
              "  const outputElement = document.getElementById(outputId);\n",
              "  const steps = outputElement.steps;\n",
              "\n",
              "  const next = steps.next(outputElement.lastPromiseValue);\n",
              "  return Promise.resolve(next.value.promise).then((value) => {\n",
              "    // Cache the last promise value to make it available to the next\n",
              "    // step of the generator.\n",
              "    outputElement.lastPromiseValue = value;\n",
              "    return next.value.response;\n",
              "  });\n",
              "}\n",
              "\n",
              "/**\n",
              " * Generator function which is called between each async step of the upload\n",
              " * process.\n",
              " * @param {string} inputId Element ID of the input file picker element.\n",
              " * @param {string} outputId Element ID of the output display.\n",
              " * @return {!Iterable<!Object>} Iterable of next steps.\n",
              " */\n",
              "function* uploadFilesStep(inputId, outputId) {\n",
              "  const inputElement = document.getElementById(inputId);\n",
              "  inputElement.disabled = false;\n",
              "\n",
              "  const outputElement = document.getElementById(outputId);\n",
              "  outputElement.innerHTML = '';\n",
              "\n",
              "  const pickedPromise = new Promise((resolve) => {\n",
              "    inputElement.addEventListener('change', (e) => {\n",
              "      resolve(e.target.files);\n",
              "    });\n",
              "  });\n",
              "\n",
              "  const cancel = document.createElement('button');\n",
              "  inputElement.parentElement.appendChild(cancel);\n",
              "  cancel.textContent = 'Cancel upload';\n",
              "  const cancelPromise = new Promise((resolve) => {\n",
              "    cancel.onclick = () => {\n",
              "      resolve(null);\n",
              "    };\n",
              "  });\n",
              "\n",
              "  // Wait for the user to pick the files.\n",
              "  const files = yield {\n",
              "    promise: Promise.race([pickedPromise, cancelPromise]),\n",
              "    response: {\n",
              "      action: 'starting',\n",
              "    }\n",
              "  };\n",
              "\n",
              "  cancel.remove();\n",
              "\n",
              "  // Disable the input element since further picks are not allowed.\n",
              "  inputElement.disabled = true;\n",
              "\n",
              "  if (!files) {\n",
              "    return {\n",
              "      response: {\n",
              "        action: 'complete',\n",
              "      }\n",
              "    };\n",
              "  }\n",
              "\n",
              "  for (const file of files) {\n",
              "    const li = document.createElement('li');\n",
              "    li.append(span(file.name, {fontWeight: 'bold'}));\n",
              "    li.append(span(\n",
              "        `(${file.type || 'n/a'}) - ${file.size} bytes, ` +\n",
              "        `last modified: ${\n",
              "            file.lastModifiedDate ? file.lastModifiedDate.toLocaleDateString() :\n",
              "                                    'n/a'} - `));\n",
              "    const percent = span('0% done');\n",
              "    li.appendChild(percent);\n",
              "\n",
              "    outputElement.appendChild(li);\n",
              "\n",
              "    const fileDataPromise = new Promise((resolve) => {\n",
              "      const reader = new FileReader();\n",
              "      reader.onload = (e) => {\n",
              "        resolve(e.target.result);\n",
              "      };\n",
              "      reader.readAsArrayBuffer(file);\n",
              "    });\n",
              "    // Wait for the data to be ready.\n",
              "    let fileData = yield {\n",
              "      promise: fileDataPromise,\n",
              "      response: {\n",
              "        action: 'continue',\n",
              "      }\n",
              "    };\n",
              "\n",
              "    // Use a chunked sending to avoid message size limits. See b/62115660.\n",
              "    let position = 0;\n",
              "    do {\n",
              "      const length = Math.min(fileData.byteLength - position, MAX_PAYLOAD_SIZE);\n",
              "      const chunk = new Uint8Array(fileData, position, length);\n",
              "      position += length;\n",
              "\n",
              "      const base64 = btoa(String.fromCharCode.apply(null, chunk));\n",
              "      yield {\n",
              "        response: {\n",
              "          action: 'append',\n",
              "          file: file.name,\n",
              "          data: base64,\n",
              "        },\n",
              "      };\n",
              "\n",
              "      let percentDone = fileData.byteLength === 0 ?\n",
              "          100 :\n",
              "          Math.round((position / fileData.byteLength) * 100);\n",
              "      percent.textContent = `${percentDone}% done`;\n",
              "\n",
              "    } while (position < fileData.byteLength);\n",
              "  }\n",
              "\n",
              "  // All done.\n",
              "  yield {\n",
              "    response: {\n",
              "      action: 'complete',\n",
              "    }\n",
              "  };\n",
              "}\n",
              "\n",
              "scope.google = scope.google || {};\n",
              "scope.google.colab = scope.google.colab || {};\n",
              "scope.google.colab._files = {\n",
              "  _uploadFiles,\n",
              "  _uploadFilesContinue,\n",
              "};\n",
              "})(self);\n",
              "</script> "
            ],
            "text/plain": [
              "<IPython.core.display.HTML object>"
            ]
          },
          "metadata": {},
          "output_type": "display_data"
        },
        {
          "name": "stdout",
          "output_type": "stream",
          "text": [
            "Saving Food Franchise dataset.xlsx to Food Franchise dataset.xlsx\n"
          ]
        }
      ],
      "source": [
        "from google.colab import files\n",
        "\n",
        "# Prompt the user to upload a file\n",
        "uploaded = files.upload()"
      ]
    },
    {
      "cell_type": "code",
      "execution_count": null,
      "metadata": {
        "colab": {
          "base_uri": "https://localhost:8080/",
          "height": 223
        },
        "id": "_Vb93c4ek2yL",
        "outputId": "4ea96ad3-bbe9-4ddd-ed02-d5ee7e478058"
      },
      "outputs": [
        {
          "data": {
            "application/vnd.google.colaboratory.intrinsic+json": {
              "summary": "{\n  \"name\": \"df\",\n  \"rows\": 70,\n  \"fields\": [\n    {\n      \"column\": \"City\",\n      \"properties\": {\n        \"dtype\": \"string\",\n        \"num_unique_values\": 70,\n        \"samples\": [\n          \"City23\",\n          \"City1\",\n          \"City50\"\n        ],\n        \"semantic_type\": \"\",\n        \"description\": \"\"\n      }\n    },\n    {\n      \"column\": \"State\",\n      \"properties\": {\n        \"dtype\": \"category\",\n        \"num_unique_values\": 23,\n        \"samples\": [\n          \"MD\",\n          \"IN\",\n          \"TX\"\n        ],\n        \"semantic_type\": \"\",\n        \"description\": \"\"\n      }\n    },\n    {\n      \"column\": \"Population\",\n      \"properties\": {\n        \"dtype\": \"number\",\n        \"std\": 1355620,\n        \"min\": 498067,\n        \"max\": 4914006,\n        \"num_unique_values\": 44,\n        \"samples\": [\n          1254687,\n          1210858,\n          2238015\n        ],\n        \"semantic_type\": \"\",\n        \"description\": \"\"\n      }\n    },\n    {\n      \"column\": \"Avg. Monthly Food Truck Profit\",\n      \"properties\": {\n        \"dtype\": \"number\",\n        \"std\": 271508944238.61337,\n        \"min\": 15349.0,\n        \"max\": 2000000000000.0,\n        \"num_unique_values\": 41,\n        \"samples\": [\n          34583.0,\n          27500.0,\n          28000.0\n        ],\n        \"semantic_type\": \"\",\n        \"description\": \"\"\n      }\n    },\n    {\n      \"column\": \"Median Income\",\n      \"properties\": {\n        \"dtype\": \"number\",\n        \"std\": 7435.249845654137,\n        \"min\": 55142.0,\n        \"max\": 102414.0,\n        \"num_unique_values\": 42,\n        \"samples\": [\n          69166.0,\n          73928.0,\n          74201.0\n        ],\n        \"semantic_type\": \"\",\n        \"description\": \"\"\n      }\n    },\n    {\n      \"column\": \"Population Density (per sq mi)\",\n      \"properties\": {\n        \"dtype\": \"number\",\n        \"std\": 1661,\n        \"min\": 1113,\n        \"max\": 13688,\n        \"num_unique_values\": 44,\n        \"samples\": [\n          1295,\n          1816,\n          1379\n        ],\n        \"semantic_type\": \"\",\n        \"description\": \"\"\n      }\n    }\n  ]\n}",
              "type": "dataframe",
              "variable_name": "df"
            },
            "text/html": [
              "\n",
              "  <div id=\"df-9c69b73e-c752-40f7-9da7-0cf9bea5eaf5\" class=\"colab-df-container\">\n",
              "    <div>\n",
              "<style scoped>\n",
              "    .dataframe tbody tr th:only-of-type {\n",
              "        vertical-align: middle;\n",
              "    }\n",
              "\n",
              "    .dataframe tbody tr th {\n",
              "        vertical-align: top;\n",
              "    }\n",
              "\n",
              "    .dataframe thead th {\n",
              "        text-align: right;\n",
              "    }\n",
              "</style>\n",
              "<table border=\"1\" class=\"dataframe\">\n",
              "  <thead>\n",
              "    <tr style=\"text-align: right;\">\n",
              "      <th></th>\n",
              "      <th>City</th>\n",
              "      <th>State</th>\n",
              "      <th>Population</th>\n",
              "      <th>Avg. Monthly Food Truck Profit</th>\n",
              "      <th>Median Income</th>\n",
              "      <th>Population Density (per sq mi)</th>\n",
              "    </tr>\n",
              "  </thead>\n",
              "  <tbody>\n",
              "    <tr>\n",
              "      <th>0</th>\n",
              "      <td>City1</td>\n",
              "      <td>TX</td>\n",
              "      <td>2043891</td>\n",
              "      <td>25000.0</td>\n",
              "      <td>72542.0</td>\n",
              "      <td>3157</td>\n",
              "    </tr>\n",
              "    <tr>\n",
              "      <th>1</th>\n",
              "      <td>City2</td>\n",
              "      <td>CO</td>\n",
              "      <td>715522</td>\n",
              "      <td>22000.0</td>\n",
              "      <td>78621.0</td>\n",
              "      <td>4823</td>\n",
              "    </tr>\n",
              "    <tr>\n",
              "      <th>2</th>\n",
              "      <td>City3</td>\n",
              "      <td>WA</td>\n",
              "      <td>739952</td>\n",
              "      <td>28500.0</td>\n",
              "      <td>89728.0</td>\n",
              "      <td>1831</td>\n",
              "    </tr>\n",
              "    <tr>\n",
              "      <th>3</th>\n",
              "      <td>City4</td>\n",
              "      <td>OR</td>\n",
              "      <td>652503</td>\n",
              "      <td>NaN</td>\n",
              "      <td>NaN</td>\n",
              "      <td>4182</td>\n",
              "    </tr>\n",
              "    <tr>\n",
              "      <th>4</th>\n",
              "      <td>City5</td>\n",
              "      <td>IL</td>\n",
              "      <td>2740598</td>\n",
              "      <td>32000.0</td>\n",
              "      <td>70318.0</td>\n",
              "      <td>5242</td>\n",
              "    </tr>\n",
              "  </tbody>\n",
              "</table>\n",
              "</div>\n",
              "    <div class=\"colab-df-buttons\">\n",
              "\n",
              "  <div class=\"colab-df-container\">\n",
              "    <button class=\"colab-df-convert\" onclick=\"convertToInteractive('df-9c69b73e-c752-40f7-9da7-0cf9bea5eaf5')\"\n",
              "            title=\"Convert this dataframe to an interactive table.\"\n",
              "            style=\"display:none;\">\n",
              "\n",
              "  <svg xmlns=\"http://www.w3.org/2000/svg\" height=\"24px\" viewBox=\"0 -960 960 960\">\n",
              "    <path d=\"M120-120v-720h720v720H120Zm60-500h600v-160H180v160Zm220 220h160v-160H400v160Zm0 220h160v-160H400v160ZM180-400h160v-160H180v160Zm440 0h160v-160H620v160ZM180-180h160v-160H180v160Zm440 0h160v-160H620v160Z\"/>\n",
              "  </svg>\n",
              "    </button>\n",
              "\n",
              "  <style>\n",
              "    .colab-df-container {\n",
              "      display:flex;\n",
              "      gap: 12px;\n",
              "    }\n",
              "\n",
              "    .colab-df-convert {\n",
              "      background-color: #E8F0FE;\n",
              "      border: none;\n",
              "      border-radius: 50%;\n",
              "      cursor: pointer;\n",
              "      display: none;\n",
              "      fill: #1967D2;\n",
              "      height: 32px;\n",
              "      padding: 0 0 0 0;\n",
              "      width: 32px;\n",
              "    }\n",
              "\n",
              "    .colab-df-convert:hover {\n",
              "      background-color: #E2EBFA;\n",
              "      box-shadow: 0px 1px 2px rgba(60, 64, 67, 0.3), 0px 1px 3px 1px rgba(60, 64, 67, 0.15);\n",
              "      fill: #174EA6;\n",
              "    }\n",
              "\n",
              "    .colab-df-buttons div {\n",
              "      margin-bottom: 4px;\n",
              "    }\n",
              "\n",
              "    [theme=dark] .colab-df-convert {\n",
              "      background-color: #3B4455;\n",
              "      fill: #D2E3FC;\n",
              "    }\n",
              "\n",
              "    [theme=dark] .colab-df-convert:hover {\n",
              "      background-color: #434B5C;\n",
              "      box-shadow: 0px 1px 3px 1px rgba(0, 0, 0, 0.15);\n",
              "      filter: drop-shadow(0px 1px 2px rgba(0, 0, 0, 0.3));\n",
              "      fill: #FFFFFF;\n",
              "    }\n",
              "  </style>\n",
              "\n",
              "    <script>\n",
              "      const buttonEl =\n",
              "        document.querySelector('#df-9c69b73e-c752-40f7-9da7-0cf9bea5eaf5 button.colab-df-convert');\n",
              "      buttonEl.style.display =\n",
              "        google.colab.kernel.accessAllowed ? 'block' : 'none';\n",
              "\n",
              "      async function convertToInteractive(key) {\n",
              "        const element = document.querySelector('#df-9c69b73e-c752-40f7-9da7-0cf9bea5eaf5');\n",
              "        const dataTable =\n",
              "          await google.colab.kernel.invokeFunction('convertToInteractive',\n",
              "                                                    [key], {});\n",
              "        if (!dataTable) return;\n",
              "\n",
              "        const docLinkHtml = 'Like what you see? Visit the ' +\n",
              "          '<a target=\"_blank\" href=https://colab.research.google.com/notebooks/data_table.ipynb>data table notebook</a>'\n",
              "          + ' to learn more about interactive tables.';\n",
              "        element.innerHTML = '';\n",
              "        dataTable['output_type'] = 'display_data';\n",
              "        await google.colab.output.renderOutput(dataTable, element);\n",
              "        const docLink = document.createElement('div');\n",
              "        docLink.innerHTML = docLinkHtml;\n",
              "        element.appendChild(docLink);\n",
              "      }\n",
              "    </script>\n",
              "  </div>\n",
              "\n",
              "\n",
              "<div id=\"df-c4c1f00f-7036-4e3b-8bdb-efb5fcdfc382\">\n",
              "  <button class=\"colab-df-quickchart\" onclick=\"quickchart('df-c4c1f00f-7036-4e3b-8bdb-efb5fcdfc382')\"\n",
              "            title=\"Suggest charts\"\n",
              "            style=\"display:none;\">\n",
              "\n",
              "<svg xmlns=\"http://www.w3.org/2000/svg\" height=\"24px\"viewBox=\"0 0 24 24\"\n",
              "     width=\"24px\">\n",
              "    <g>\n",
              "        <path d=\"M19 3H5c-1.1 0-2 .9-2 2v14c0 1.1.9 2 2 2h14c1.1 0 2-.9 2-2V5c0-1.1-.9-2-2-2zM9 17H7v-7h2v7zm4 0h-2V7h2v10zm4 0h-2v-4h2v4z\"/>\n",
              "    </g>\n",
              "</svg>\n",
              "  </button>\n",
              "\n",
              "<style>\n",
              "  .colab-df-quickchart {\n",
              "      --bg-color: #E8F0FE;\n",
              "      --fill-color: #1967D2;\n",
              "      --hover-bg-color: #E2EBFA;\n",
              "      --hover-fill-color: #174EA6;\n",
              "      --disabled-fill-color: #AAA;\n",
              "      --disabled-bg-color: #DDD;\n",
              "  }\n",
              "\n",
              "  [theme=dark] .colab-df-quickchart {\n",
              "      --bg-color: #3B4455;\n",
              "      --fill-color: #D2E3FC;\n",
              "      --hover-bg-color: #434B5C;\n",
              "      --hover-fill-color: #FFFFFF;\n",
              "      --disabled-bg-color: #3B4455;\n",
              "      --disabled-fill-color: #666;\n",
              "  }\n",
              "\n",
              "  .colab-df-quickchart {\n",
              "    background-color: var(--bg-color);\n",
              "    border: none;\n",
              "    border-radius: 50%;\n",
              "    cursor: pointer;\n",
              "    display: none;\n",
              "    fill: var(--fill-color);\n",
              "    height: 32px;\n",
              "    padding: 0;\n",
              "    width: 32px;\n",
              "  }\n",
              "\n",
              "  .colab-df-quickchart:hover {\n",
              "    background-color: var(--hover-bg-color);\n",
              "    box-shadow: 0 1px 2px rgba(60, 64, 67, 0.3), 0 1px 3px 1px rgba(60, 64, 67, 0.15);\n",
              "    fill: var(--button-hover-fill-color);\n",
              "  }\n",
              "\n",
              "  .colab-df-quickchart-complete:disabled,\n",
              "  .colab-df-quickchart-complete:disabled:hover {\n",
              "    background-color: var(--disabled-bg-color);\n",
              "    fill: var(--disabled-fill-color);\n",
              "    box-shadow: none;\n",
              "  }\n",
              "\n",
              "  .colab-df-spinner {\n",
              "    border: 2px solid var(--fill-color);\n",
              "    border-color: transparent;\n",
              "    border-bottom-color: var(--fill-color);\n",
              "    animation:\n",
              "      spin 1s steps(1) infinite;\n",
              "  }\n",
              "\n",
              "  @keyframes spin {\n",
              "    0% {\n",
              "      border-color: transparent;\n",
              "      border-bottom-color: var(--fill-color);\n",
              "      border-left-color: var(--fill-color);\n",
              "    }\n",
              "    20% {\n",
              "      border-color: transparent;\n",
              "      border-left-color: var(--fill-color);\n",
              "      border-top-color: var(--fill-color);\n",
              "    }\n",
              "    30% {\n",
              "      border-color: transparent;\n",
              "      border-left-color: var(--fill-color);\n",
              "      border-top-color: var(--fill-color);\n",
              "      border-right-color: var(--fill-color);\n",
              "    }\n",
              "    40% {\n",
              "      border-color: transparent;\n",
              "      border-right-color: var(--fill-color);\n",
              "      border-top-color: var(--fill-color);\n",
              "    }\n",
              "    60% {\n",
              "      border-color: transparent;\n",
              "      border-right-color: var(--fill-color);\n",
              "    }\n",
              "    80% {\n",
              "      border-color: transparent;\n",
              "      border-right-color: var(--fill-color);\n",
              "      border-bottom-color: var(--fill-color);\n",
              "    }\n",
              "    90% {\n",
              "      border-color: transparent;\n",
              "      border-bottom-color: var(--fill-color);\n",
              "    }\n",
              "  }\n",
              "</style>\n",
              "\n",
              "  <script>\n",
              "    async function quickchart(key) {\n",
              "      const quickchartButtonEl =\n",
              "        document.querySelector('#' + key + ' button');\n",
              "      quickchartButtonEl.disabled = true;  // To prevent multiple clicks.\n",
              "      quickchartButtonEl.classList.add('colab-df-spinner');\n",
              "      try {\n",
              "        const charts = await google.colab.kernel.invokeFunction(\n",
              "            'suggestCharts', [key], {});\n",
              "      } catch (error) {\n",
              "        console.error('Error during call to suggestCharts:', error);\n",
              "      }\n",
              "      quickchartButtonEl.classList.remove('colab-df-spinner');\n",
              "      quickchartButtonEl.classList.add('colab-df-quickchart-complete');\n",
              "    }\n",
              "    (() => {\n",
              "      let quickchartButtonEl =\n",
              "        document.querySelector('#df-c4c1f00f-7036-4e3b-8bdb-efb5fcdfc382 button');\n",
              "      quickchartButtonEl.style.display =\n",
              "        google.colab.kernel.accessAllowed ? 'block' : 'none';\n",
              "    })();\n",
              "  </script>\n",
              "</div>\n",
              "    </div>\n",
              "  </div>\n"
            ],
            "text/plain": [
              "    City State  Population  Avg. Monthly Food Truck Profit  Median Income  \\\n",
              "0  City1    TX     2043891                         25000.0        72542.0   \n",
              "1  City2    CO      715522                         22000.0        78621.0   \n",
              "2  City3    WA      739952                         28500.0        89728.0   \n",
              "3  City4    OR      652503                             NaN            NaN   \n",
              "4  City5    IL     2740598                         32000.0        70318.0   \n",
              "\n",
              "   Population Density (per sq mi)  \n",
              "0                            3157  \n",
              "1                            4823  \n",
              "2                            1831  \n",
              "3                            4182  \n",
              "4                            5242  "
            ]
          },
          "execution_count": 4,
          "metadata": {},
          "output_type": "execute_result"
        }
      ],
      "source": [
        "import pandas as pd\n",
        "from sklearn.model_selection import train_test_split\n",
        "from sklearn.linear_model import LinearRegression\n",
        "from sklearn.metrics import mean_squared_error, r2_score\n",
        "import matplotlib.pyplot as plt\n",
        "import seaborn as sns\n",
        "\n",
        "# Load the dataset\n",
        "df = pd.read_excel('Food Franchise dataset.xlsx')\n",
        "df.head(5)"
      ]
    },
    {
      "cell_type": "code",
      "execution_count": null,
      "metadata": {
        "colab": {
          "base_uri": "https://localhost:8080/",
          "height": 1000
        },
        "id": "b8lnkJH5j-t-",
        "outputId": "e0ea9a2b-cf9c-4ea8-c0e5-8f71bcf2eaba"
      },
      "outputs": [
        {
          "data": {
            "image/png": "[encoded data removed]",
            "text/plain": [
              "<Figure size 640x480 with 1 Axes>"
            ]
          },
          "metadata": {},
          "output_type": "display_data"
        },
        {
          "name": "stdout",
          "output_type": "stream",
          "text": [
            "Potential Outliers:\n",
            "      City State  Population  Avg. Monthly Food Truck Profit  Median Income  \\\n",
            "1    City2    CO      715522                    2.200000e+04        78621.0   \n",
            "2    City3    WA      739952                    2.850000e+04        89728.0   \n",
            "4    City5    IL     2740598                    3.200000e+04        70318.0   \n",
            "9   City10    CA     1386670                    2.900000e+04        87128.0   \n",
            "11  City12    CA     1045592                    3.150000e+04       102414.0   \n",
            "20  City21    MA      667137                    3.300000e+04        89371.0   \n",
            "22  City23    MD      602478                    2.200000e+04        71205.0   \n",
            "24  City25    CT     1210858                    4.000000e+09        71262.0   \n",
            "25  City26    MN     2238015                    2.000000e+12        64262.0   \n",
            "42  City43    OK     2689437                    1.000000e+12        76366.0   \n",
            "\n",
            "    Population Density (per sq mi)  \n",
            "1                             4823  \n",
            "2                             1831  \n",
            "4                             5242  \n",
            "9                             3807  \n",
            "11                            5183  \n",
            "20                           13688  \n",
            "22                            4867  \n",
            "24                            1816  \n",
            "25                            1379  \n",
            "42                            2801  \n",
            "Cleaned Dataset:\n",
            "      City State  Population  Avg. Monthly Food Truck Profit  Median Income  \\\n",
            "0    City1    TX     2043891                         25000.0        72542.0   \n",
            "5    City6    GA      498067                         24500.0        65543.0   \n",
            "6    City7    AZ     1660272                         21000.0        62431.0   \n",
            "7    City8    TX     2325500                         30000.0        77834.0   \n",
            "10  City11    TX     1345878                         28000.0        74201.0   \n",
            "12  City13    FL      903889                         20500.0        61987.0   \n",
            "13  City14    IN      881008                         22500.0        67142.0   \n",
            "14  City15    OH      878333                         21000.0        64321.0   \n",
            "15  City16    NC      874579                         24000.0        73928.0   \n",
            "16  City17    TX      918915                         27500.0        70012.0   \n",
            "17  City18    MI      672120                         19000.0        58297.0   \n",
            "18  City19    TX      678815                         20000.0        55142.0   \n",
            "19  City20    TN      633045                         18500.0        59874.0   \n",
            "21  City22    TN      670461                         25500.0        68432.0   \n",
            "23  City24    OK      681061                         19500.0        62984.0   \n",
            "26  City27    TX     3009279                         27303.0        72185.0   \n",
            "27  City28    PA     2478548                         15349.0        69166.0   \n",
            "28  City29    NY     3099886                         34583.0        64353.0   \n",
            "29  City30    CA     2744183                         30852.0        75459.0   \n",
            "30  City31    WI     2800756                         26044.0        71584.0   \n",
            "31  City32    OH     4471291                         26510.0        69318.0   \n",
            "32  City33    OR     4914006                         21689.0        65192.0   \n",
            "33  City34    GA     2615083                         23021.0        72104.0   \n",
            "34  City35    MD     1688863                         34233.0        68690.0   \n",
            "35  City36    WA     1713773                         25852.0        70009.0   \n",
            "36  City37    IN     4221777                         20976.0        65258.0   \n",
            "39  City40    AL     1587624                         24062.0        68168.0   \n",
            "40  City41    WI     3027484                         18572.0        71063.0   \n",
            "41  City42    NC     4697485                         24797.0        76300.0   \n",
            "43  City44    MD      679829                         32171.0        65331.0   \n",
            "44  City45    TX     4221777                         20976.0        65258.0   \n",
            "45  City46    PA     1254687                         30194.0        65686.0   \n",
            "46  City47    AL     3641566                         24231.0        69866.0   \n",
            "47  City48    WI     1587624                         24062.0        68168.0   \n",
            "48  City49    NC     3027484                         18572.0        71063.0   \n",
            "49  City50    OK     4697485                         24797.0        76300.0   \n",
            "50  City51    PA     2689437                         29630.0        76366.0   \n",
            "51  City52    TX      679829                         32171.0        65331.0   \n",
            "52  City53    PA     2800756                         26044.0        71584.0   \n",
            "53  City54    AL     4471291                         26510.0        69318.0   \n",
            "54  City55    WI     4914006                         21689.0        65192.0   \n",
            "55  City56    NC     2615083                         23021.0        72104.0   \n",
            "56  City57    OK     1688863                         34233.0        68690.0   \n",
            "57  City58    MD     1713773                         25852.0        70009.0   \n",
            "58  City59    TX     4221777                         20976.0        65258.0   \n",
            "59  City60    PA     1254687                         30194.0        65686.0   \n",
            "60  City61    AL     3641566                         24231.0        69866.0   \n",
            "61  City62    WI     1587624                         24062.0        68168.0   \n",
            "62  City63    NC     3027484                         18572.0        71063.0   \n",
            "63  City64    OK     4697485                         24797.0        76300.0   \n",
            "64  City65    MD     2689437                         29630.0        76366.0   \n",
            "65  City66    TX     1587624                         24062.0        68168.0   \n",
            "66  City67    PA     3027484                         18572.0        71063.0   \n",
            "67  City68    AL     4697485                         24797.0        76300.0   \n",
            "68  City69    WI     2689437                         29630.0        76366.0   \n",
            "69  City70    NC      679829                         32171.0        65331.0   \n",
            "\n",
            "    Population Density (per sq mi)  \n",
            "0                             3157  \n",
            "5                             3482  \n",
            "6                             1113  \n",
            "7                             4396  \n",
            "10                            4208  \n",
            "12                            1330  \n",
            "13                            2262  \n",
            "14                            2816  \n",
            "15                            2387  \n",
            "16                            3129  \n",
            "17                            2674  \n",
            "18                            2370  \n",
            "19                            1982  \n",
            "21                            1691  \n",
            "23                            1579  \n",
            "26                            2007  \n",
            "27                            1253  \n",
            "28                            1850  \n",
            "29                            1986  \n",
            "30                            2485  \n",
            "31                            1322  \n",
            "32                            1614  \n",
            "33                            1939  \n",
            "34                            2874  \n",
            "35                            2026  \n",
            "36                            2972  \n",
            "39                            2453  \n",
            "40                            2994  \n",
            "41                            1554  \n",
            "43                            2735  \n",
            "44                            2972  \n",
            "45                            1295  \n",
            "46                            1886  \n",
            "47                            2453  \n",
            "48                            2994  \n",
            "49                            1554  \n",
            "50                            2801  \n",
            "51                            2735  \n",
            "52                            2485  \n",
            "53                            1322  \n",
            "54                            1614  \n",
            "55                            1939  \n",
            "56                            2874  \n",
            "57                            2026  \n",
            "58                            2972  \n",
            "59                            1295  \n",
            "60                            1886  \n",
            "61                            2453  \n",
            "62                            2994  \n",
            "63                            1554  \n",
            "64                            2801  \n",
            "65                            2453  \n",
            "66                            2994  \n",
            "67                            1554  \n",
            "68                            2801  \n",
            "69                            2735  \n"
          ]
        },
        {
          "name": "stderr",
          "output_type": "stream",
          "text": [
            "<ipython-input-5-45d6af96cfa3>:17: FutureWarning: The default value of numeric_only in DataFrame.quantile is deprecated. In a future version, it will default to False. Select only valid columns or specify the value of numeric_only to silence this warning.\n",
            "  Q1 = df.quantile(0.25)\n",
            "<ipython-input-5-45d6af96cfa3>:18: FutureWarning: The default value of numeric_only in DataFrame.quantile is deprecated. In a future version, it will default to False. Select only valid columns or specify the value of numeric_only to silence this warning.\n",
            "  Q3 = df.quantile(0.75)\n",
            "<ipython-input-5-45d6af96cfa3>:22: FutureWarning: Automatic reindexing on DataFrame vs Series comparisons is deprecated and will raise ValueError in a future version. Do `left, right = left.align(right, axis=1, copy=False)` before e.g. `left == right`\n",
            "  outliers = ((df < (Q1 - 1.5 * IQR)) | (df > (Q3 + 1.5 * IQR))).any(axis=1)\n"
          ]
        }
      ],
      "source": [
        "# 1. Handling Missing Values\n",
        "df.dropna(inplace=True)  # Remove rows with missing values\n",
        "\n",
        "# 2. Data Types\n",
        "# No conversion needed as per the provided dataset\n",
        "\n",
        "# 3. Scaling or Normalization\n",
        "# Not necessary for linear regression\n",
        "\n",
        "# 4. Handling Outliers\n",
        "# Visualize potential outliers using box plots\n",
        "sns.boxplot(data=df[['Population', 'Avg. Monthly Food Truck Profit']])\n",
        "plt.title('Boxplot of Population and Avg. Monthly Food Truck Profit')\n",
        "plt.show()\n",
        "\n",
        "# Calculate IQR (Interquartile Range) for each column\n",
        "Q1 = df.quantile(0.25)\n",
        "Q3 = df.quantile(0.75)\n",
        "IQR = Q3 - Q1\n",
        "\n",
        "# Identify potential outliers using IQR method\n",
        "outliers = ((df < (Q1 - 1.5 * IQR)) | (df > (Q3 + 1.5 * IQR))).any(axis=1)\n",
        "outliers_df = df[outliers]\n",
        "\n",
        "# Display the potential outliers\n",
        "print('Potential Outliers:')\n",
        "print(outliers_df)\n",
        "\n",
        "# Remove outliers from the dataset\n",
        "df_cleaned = df[~outliers]\n",
        "\n",
        "# Check the cleaned dataset\n",
        "print('Cleaned Dataset:')\n",
        "print(df_cleaned)\n",
        "df=df_cleaned"
      ]
    },
    {
      "cell_type": "code",
      "execution_count": null,
      "metadata": {
        "colab": {
          "base_uri": "https://localhost:8080/"
        },
        "id": "lSzH-fCaljYp",
        "outputId": "d45cd887-fd47-4dad-8d8e-3c3e5c9bde15"
      },
      "outputs": [
        {
          "name": "stdout",
          "output_type": "stream",
          "text": [
            "Column: City\n",
            "Unique Values: ['City1' 'City6' 'City7' 'City8' 'City11' 'City13' 'City14' 'City15'\n",
            " 'City16' 'City17' 'City18' 'City19' 'City20' 'City22' 'City24' 'City27'\n",
            " 'City28' 'City29' 'City30' 'City31' 'City32' 'City33' 'City34' 'City35'\n",
            " 'City36' 'City37' 'City40' 'City41' 'City42' 'City44' 'City45' 'City46'\n",
            " 'City47' 'City48' 'City49' 'City50' 'City51' 'City52' 'City53' 'City54'\n",
            " 'City55' 'City56' 'City57' 'City58' 'City59' 'City60' 'City61' 'City62'\n",
            " 'City63' 'City64' 'City65' 'City66' 'City67' 'City68' 'City69' 'City70']\n",
            "\n",
            "Column: State\n",
            "Unique Values: ['TX' 'GA' 'AZ' 'FL' 'IN' 'OH' 'NC' 'MI' 'TN' 'OK' 'PA' 'NY' 'CA' 'WI'\n",
            " 'OR' 'MD' 'WA' 'AL']\n",
            "\n",
            "Column: Population\n",
            "Unique Values: [2043891  498067 1660272 2325500 1345878  903889  881008  878333  874579\n",
            "  918915  672120  678815  633045  670461  681061 3009279 2478548 3099886\n",
            " 2744183 2800756 4471291 4914006 2615083 1688863 1713773 4221777 1587624\n",
            " 3027484 4697485  679829 1254687 3641566 2689437]\n",
            "\n",
            "Column: Avg. Monthly Food Truck Profit\n",
            "Unique Values: [25000. 24500. 21000. 30000. 28000. 20500. 22500. 24000. 27500. 19000.\n",
            " 20000. 18500. 25500. 19500. 27303. 15349. 34583. 30852. 26044. 26510.\n",
            " 21689. 23021. 34233. 25852. 20976. 24062. 18572. 24797. 32171. 30194.\n",
            " 24231. 29630.]\n",
            "\n",
            "Column: Median Income\n",
            "Unique Values: [72542. 65543. 62431. 77834. 74201. 61987. 67142. 64321. 73928. 70012.\n",
            " 58297. 55142. 59874. 68432. 62984. 72185. 69166. 64353. 75459. 71584.\n",
            " 69318. 65192. 72104. 68690. 70009. 65258. 68168. 71063. 76300. 65331.\n",
            " 65686. 69866. 76366.]\n",
            "\n",
            "Column: Population Density (per sq mi)\n",
            "Unique Values: [3157 3482 1113 4396 4208 1330 2262 2816 2387 3129 2674 2370 1982 1691\n",
            " 1579 2007 1253 1850 1986 2485 1322 1614 1939 2874 2026 2972 2453 2994\n",
            " 1554 2735 1295 1886 2801]\n",
            "\n",
            "Updated Dataset:\n",
            "      City State  Population  Avg. Monthly Food Truck Profit  Median Income  \\\n",
            "0    City1    TX     2043891                         25000.0        72542.0   \n",
            "5    City6    GA      498067                         24500.0        65543.0   \n",
            "6    City7    AZ     1660272                         21000.0        62431.0   \n",
            "7    City8    TX     2325500                         30000.0        77834.0   \n",
            "10  City11    TX     1345878                         28000.0        74201.0   \n",
            "12  City13    FL      903889                         20500.0        61987.0   \n",
            "13  City14    IN      881008                         22500.0        67142.0   \n",
            "14  City15    OH      878333                         21000.0        64321.0   \n",
            "15  City16    NC      874579                         24000.0        73928.0   \n",
            "16  City17    TX      918915                         27500.0        70012.0   \n",
            "17  City18    MI      672120                         19000.0        58297.0   \n",
            "18  City19    TX      678815                         20000.0        55142.0   \n",
            "19  City20    TN      633045                         18500.0        59874.0   \n",
            "21  City22    TN      670461                         25500.0        68432.0   \n",
            "23  City24    OK      681061                         19500.0        62984.0   \n",
            "26  City27    TX     3009279                         27303.0        72185.0   \n",
            "27  City28    PA     2478548                         15349.0        69166.0   \n",
            "28  City29    NY     3099886                         34583.0        64353.0   \n",
            "29  City30    CA     2744183                         30852.0        75459.0   \n",
            "30  City31    WI     2800756                         26044.0        71584.0   \n",
            "31  City32    OH     4471291                         26510.0        69318.0   \n",
            "32  City33    OR     4914006                         21689.0        65192.0   \n",
            "33  City34    GA     2615083                         23021.0        72104.0   \n",
            "34  City35    MD     1688863                         34233.0        68690.0   \n",
            "35  City36    WA     1713773                         25852.0        70009.0   \n",
            "36  City37    IN     4221777                         20976.0        65258.0   \n",
            "39  City40    AL     1587624                         24062.0        68168.0   \n",
            "40  City41    WI     3027484                         18572.0        71063.0   \n",
            "41  City42    NC     4697485                         24797.0        76300.0   \n",
            "43  City44    MD      679829                         32171.0        65331.0   \n",
            "44  City45    TX     4221777                         20976.0        65258.0   \n",
            "45  City46    PA     1254687                         30194.0        65686.0   \n",
            "46  City47    AL     3641566                         24231.0        69866.0   \n",
            "47  City48    WI     1587624                         24062.0        68168.0   \n",
            "48  City49    NC     3027484                         18572.0        71063.0   \n",
            "49  City50    OK     4697485                         24797.0        76300.0   \n",
            "50  City51    PA     2689437                         29630.0        76366.0   \n",
            "51  City52    TX      679829                         32171.0        65331.0   \n",
            "52  City53    PA     2800756                         26044.0        71584.0   \n",
            "53  City54    AL     4471291                         26510.0        69318.0   \n",
            "54  City55    WI     4914006                         21689.0        65192.0   \n",
            "55  City56    NC     2615083                         23021.0        72104.0   \n",
            "56  City57    OK     1688863                         34233.0        68690.0   \n",
            "57  City58    MD     1713773                         25852.0        70009.0   \n",
            "58  City59    TX     4221777                         20976.0        65258.0   \n",
            "59  City60    PA     1254687                         30194.0        65686.0   \n",
            "60  City61    AL     3641566                         24231.0        69866.0   \n",
            "61  City62    WI     1587624                         24062.0        68168.0   \n",
            "62  City63    NC     3027484                         18572.0        71063.0   \n",
            "63  City64    OK     4697485                         24797.0        76300.0   \n",
            "64  City65    MD     2689437                         29630.0        76366.0   \n",
            "65  City66    TX     1587624                         24062.0        68168.0   \n",
            "66  City67    PA     3027484                         18572.0        71063.0   \n",
            "67  City68    AL     4697485                         24797.0        76300.0   \n",
            "68  City69    WI     2689437                         29630.0        76366.0   \n",
            "69  City70    NC      679829                         32171.0        65331.0   \n",
            "\n",
            "    Population Density (per sq mi)  \n",
            "0                             3157  \n",
            "5                             3482  \n",
            "6                             1113  \n",
            "7                             4396  \n",
            "10                            4208  \n",
            "12                            1330  \n",
            "13                            2262  \n",
            "14                            2816  \n",
            "15                            2387  \n",
            "16                            3129  \n",
            "17                            2674  \n",
            "18                            2370  \n",
            "19                            1982  \n",
            "21                            1691  \n",
            "23                            1579  \n",
            "26                            2007  \n",
            "27                            1253  \n",
            "28                            1850  \n",
            "29                            1986  \n",
            "30                            2485  \n",
            "31                            1322  \n",
            "32                            1614  \n",
            "33                            1939  \n",
            "34                            2874  \n",
            "35                            2026  \n",
            "36                            2972  \n",
            "39                            2453  \n",
            "40                            2994  \n",
            "41                            1554  \n",
            "43                            2735  \n",
            "44                            2972  \n",
            "45                            1295  \n",
            "46                            1886  \n",
            "47                            2453  \n",
            "48                            2994  \n",
            "49                            1554  \n",
            "50                            2801  \n",
            "51                            2735  \n",
            "52                            2485  \n",
            "53                            1322  \n",
            "54                            1614  \n",
            "55                            1939  \n",
            "56                            2874  \n",
            "57                            2026  \n",
            "58                            2972  \n",
            "59                            1295  \n",
            "60                            1886  \n",
            "61                            2453  \n",
            "62                            2994  \n",
            "63                            1554  \n",
            "64                            2801  \n",
            "65                            2453  \n",
            "66                            2994  \n",
            "67                            1554  \n",
            "68                            2801  \n",
            "69                            2735  \n"
          ]
        }
      ],
      "source": [
        "# 5. Handling Duplicate Rows\n",
        "df.drop_duplicates(inplace=True)  # Remove duplicate rows\n",
        "\n",
        "# 6. Addressing Inconsistent or Erroneous Values\n",
        "# Check for inconsistent or erroneous values in each column\n",
        "for col in df.columns:\n",
        "    unique_values = df[col].unique()\n",
        "    print(f'Column: {col}')\n",
        "    print(f'Unique Values: {unique_values}\\n')\n",
        "\n",
        "# Example of addressing inconsistencies (replace erroneous values)\n",
        "# Assuming 'Avg. Monthly Food Truck Profit' should not be negative\n",
        "df.loc[df['Avg. Monthly Food Truck Profit'] < 0, 'Avg. Monthly Food Truck Profit'] = 0\n",
        "\n",
        "# Check if inconsistencies are addressed\n",
        "print('Updated Dataset:')\n",
        "print(df)"
      ]
    },
    {
      "cell_type": "code",
      "execution_count": null,
      "metadata": {
        "colab": {
          "base_uri": "https://localhost:8080/"
        },
        "id": "tumfD0BlmA1N",
        "outputId": "fa128cf9-cc7b-4957-e843-c3625b1fa69b"
      },
      "outputs": [
        {
          "name": "stdout",
          "output_type": "stream",
          "text": [
            "         Population  Avg. Monthly Food Truck Profit  Median Income  \\\n",
            "count  5.600000e+01                       56.000000      56.000000   \n",
            "mean   2.378951e+06                    24931.964286   68995.000000   \n",
            "std    1.391367e+06                     4587.968578    4932.445519   \n",
            "min    4.980670e+05                    15349.000000   55142.000000   \n",
            "25%    1.170744e+06                    21000.000000   65331.000000   \n",
            "50%    2.402024e+06                    24648.500000   69242.000000   \n",
            "75%    3.045584e+06                    27625.000000   72104.000000   \n",
            "max    4.914006e+06                    34583.000000   77834.000000   \n",
            "\n",
            "       Population Density (per sq mi)  \n",
            "count                       56.000000  \n",
            "mean                      2322.892857  \n",
            "std                        730.441104  \n",
            "min                       1113.000000  \n",
            "25%                       1671.750000  \n",
            "50%                       2420.000000  \n",
            "75%                       2830.500000  \n",
            "max                       4396.000000  \n"
          ]
        }
      ],
      "source": [
        "# 7. Summary Statistics\n",
        "summary_stats = df.describe()\n",
        "print(summary_stats)"
      ]
    },
    {
      "cell_type": "code",
      "execution_count": null,
      "metadata": {
        "colab": {
          "base_uri": "https://localhost:8080/",
          "height": 472
        },
        "id": "HZBvhSinngVD",
        "outputId": "99a39ac3-8690-4d24-aa5b-d7e8db9e10b0"
      },
      "outputs": [
        {
          "data": {
            "image/png": "[encoded data removed]",
            "text/plain": [
              "<Figure size 640x480 with 1 Axes>"
            ]
          },
          "metadata": {},
          "output_type": "display_data"
        }
      ],
      "source": [
        "# 8. Data Distribution and Skewness\n",
        "# Visualize the distribution of features using histograms or KDE plots\n",
        "sns.histplot(df['Population'], bins=20, kde=True)\n",
        "plt.title('Population Distribution')\n",
        "plt.show()"
      ]
    },
    {
      "cell_type": "code",
      "execution_count": null,
      "metadata": {
        "colab": {
          "base_uri": "https://localhost:8080/"
        },
        "id": "p1vUmBD-nnbT",
        "outputId": "7f286ced-e357-450e-e97b-53a6b49ef843"
      },
      "outputs": [
        {
          "name": "stdout",
          "output_type": "stream",
          "text": [
            "Mean Squared Error: 16464684.108040607\n",
            "R-squared: -0.16178834855219582\n"
          ]
        }
      ],
      "source": [
        "# 9. Linear Regression Model\n",
        "# Split the data into features (X) and target variable (y)\n",
        "X = df[['Population']]\n",
        "y = df['Avg. Monthly Food Truck Profit']\n",
        "\n",
        "# Split the data into training and testing sets (80% train, 20% test)\n",
        "X_train, X_test, y_train, y_test = train_test_split(X, y, test_size=0.2, random_state=42)\n",
        "\n",
        "# Fit a linear regression model\n",
        "model = LinearRegression()\n",
        "model.fit(X_train, y_train)\n",
        "\n",
        "# Make predictions\n",
        "y_pred = model.predict(X_test)\n",
        "\n",
        "# Evaluate the model\n",
        "mse = mean_squared_error(y_test, y_pred)\n",
        "r2 = r2_score(y_test, y_pred)\n",
        "print(f'Mean Squared Error: {mse}')\n",
        "print(f'R-squared: {r2}')"
      ]
    },
    {
      "cell_type": "code",
      "execution_count": null,
      "metadata": {
        "colab": {
          "base_uri": "https://localhost:8080/"
        },
        "id": "QzaF5uHon2Sf",
        "outputId": "db57bd5c-c5c8-4f14-c56c-a2bcaa2ed008"
      },
      "outputs": [
        {
          "name": "stdout",
          "output_type": "stream",
          "text": [
            "Predicted profit for a city with a population of 35,000: $26412.745648112494\n"
          ]
        },
        {
          "name": "stderr",
          "output_type": "stream",
          "text": [
            "/usr/local/lib/python3.10/dist-packages/sklearn/base.py:439: UserWarning: X does not have valid feature names, but LinearRegression was fitted with feature names\n",
            "  warnings.warn(\n"
          ]
        }
      ],
      "source": [
        "# Predict profit for a city with a population of 35,000\n",
        "population_35000 = [[35000]]\n",
        "predicted_profit = model.predict(population_35000)\n",
        "print(f'Predicted profit for a city with a population of 35,000: ${predicted_profit[0]}')"
      ]
    },
    {
      "cell_type": "code",
      "execution_count": null,
      "metadata": {
        "colab": {
          "base_uri": "https://localhost:8080/",
          "height": 472
        },
        "id": "g1bwwpBfn6nV",
        "outputId": "6b06991e-07ba-4f3a-eb08-7125f3ec258c"
      },
      "outputs": [
        {
          "data": {
            "image/png": "[encoded data removed]",
            "text/plain": [
              "<Figure size 640x480 with 1 Axes>"
            ]
          },
          "metadata": {},
          "output_type": "display_data"
        }
      ],
      "source": [
        "# Plotting the regression line\n",
        "plt.scatter(X_test, y_test, color='blue')\n",
        "plt.plot(X_test, y_pred, color='red', linewidth=2)\n",
        "plt.xlabel('Population')\n",
        "plt.ylabel('Avg. Monthly Food Truck Profit')\n",
        "plt.title('Linear Regression: Population vs. Profit')\n",
        "plt.show()"
      ]
    },
    {
      "cell_type": "markdown",
      "metadata": {
        "id": "qRMRbevZ9Ava"
      },
      "source": [
        "Linear Regression house price prediction"
      ]
    },
    {
      "cell_type": "code",
      "execution_count": 1,
      "metadata": {
        "colab": {
          "base_uri": "https://localhost:8080/",
          "height": 206
        },
        "id": "vRfYXhzJ4iPd",
        "outputId": "0d9b6877-d531-40e6-846d-1bd63da493cf"
      },
      "outputs": [
        {
          "data": {
            "text/html": [
              "<div>\n",
              "<style scoped>\n",
              "    .dataframe tbody tr th:only-of-type {\n",
              "        vertical-align: middle;\n",
              "    }\n",
              "\n",
              "    .dataframe tbody tr th {\n",
              "        vertical-align: top;\n",
              "    }\n",
              "\n",
              "    .dataframe thead th {\n",
              "        text-align: right;\n",
              "    }\n",
              "</style>\n",
              "<table border=\"1\" class=\"dataframe\">\n",
              "  <thead>\n",
              "    <tr style=\"text-align: right;\">\n",
              "      <th></th>\n",
              "      <th>Size (sq ft)</th>\n",
              "      <th>Bedrooms</th>\n",
              "      <th>Price (USD)</th>\n",
              "    </tr>\n",
              "  </thead>\n",
              "  <tbody>\n",
              "    <tr>\n",
              "      <th>0</th>\n",
              "      <td>2200</td>\n",
              "      <td>3.0</td>\n",
              "      <td>425000</td>\n",
              "    </tr>\n",
              "    <tr>\n",
              "      <th>1</th>\n",
              "      <td>1800</td>\n",
              "      <td>4.0</td>\n",
              "      <td>510000</td>\n",
              "    </tr>\n",
              "    <tr>\n",
              "      <th>2</th>\n",
              "      <td>1500</td>\n",
              "      <td>2.0</td>\n",
              "      <td>350000</td>\n",
              "    </tr>\n",
              "    <tr>\n",
              "      <th>3</th>\n",
              "      <td>2400</td>\n",
              "      <td>4.0</td>\n",
              "      <td>575000</td>\n",
              "    </tr>\n",
              "    <tr>\n",
              "      <th>4</th>\n",
              "      <td>1700</td>\n",
              "      <td>3.0</td>\n",
              "      <td>470000</td>\n",
              "    </tr>\n",
              "  </tbody>\n",
              "</table>\n",
              "</div>"
            ],
            "text/plain": [
              "   Size (sq ft)  Bedrooms  Price (USD)\n",
              "0          2200       3.0       425000\n",
              "1          1800       4.0       510000\n",
              "2          1500       2.0       350000\n",
              "3          2400       4.0       575000\n",
              "4          1700       3.0       470000"
            ]
          },
          "execution_count": 1,
          "metadata": {},
          "output_type": "execute_result"
        }
      ],
      "source": [
        "import pandas as pd\n",
        "import numpy as np\n",
        "import seaborn as sns\n",
        "import matplotlib.pyplot as plt\n",
        "from sklearn.model_selection import train_test_split\n",
        "from sklearn.linear_model import LinearRegression\n",
        "from sklearn.metrics import mean_squared_error, r2_score\n",
        "\n",
        "# Load the dataset\n",
        "df = pd.read_excel('House Price Prediction.xlsx')\n",
        "df.head(5)"
      ]
    },
    {
      "cell_type": "code",
      "execution_count": null,
      "metadata": {
        "colab": {
          "base_uri": "https://localhost:8080/"
        },
        "id": "MapB0PM4-gBM",
        "outputId": "4fceafc8-f384-4385-e099-cfed5722ce5e"
      },
      "outputs": [
        {
          "name": "stdout",
          "output_type": "stream",
          "text": [
            "Missing Values:\n",
            " Size (sq ft)    0\n",
            "Bedrooms        0\n",
            "Price (USD)     0\n",
            "dtype: int64\n",
            "Data Types:\n",
            " Size (sq ft)      int64\n",
            "Bedrooms        float64\n",
            "Price (USD)       int64\n",
            "dtype: object\n"
          ]
        }
      ],
      "source": [
        "# Check for missing values and handle them\n",
        "missing_values = df.isnull().sum()\n",
        "print(\"Missing Values:\\n\", missing_values)\n",
        "\n",
        "# Data cleaning and preprocessing\n",
        "# For simplicity, assume that missing values can be filled with the mean value\n",
        "df.fillna(df.mean(), inplace=True)\n",
        "\n",
        "# Check data types and convert if necessary\n",
        "print(\"Data Types:\\n\", df.dtypes)"
      ]
    },
    {
      "cell_type": "code",
      "execution_count": null,
      "metadata": {
        "id": "Db2SKQk1-IPL"
      },
      "outputs": [],
      "source": [
        "# Scaling or normalization if required (example using Min-Max scaling)\n",
        "from sklearn.preprocessing import MinMaxScaler\n",
        "scaler = MinMaxScaler()\n",
        "scaled_features = scaler.fit_transform(df[['Size (sq ft)', 'Bedrooms']])\n",
        "df[['Size (sq ft)', 'Bedrooms']] = scaled_features"
      ]
    },
    {
      "cell_type": "code",
      "execution_count": null,
      "metadata": {
        "colab": {
          "base_uri": "https://localhost:8080/",
          "height": 758
        },
        "id": "QQralOn6AG6r",
        "outputId": "b5c814e1-3918-45e0-e874-3d747c071115"
      },
      "outputs": [
        {
          "data": {
            "image/png": "[encoded data removed]",
            "text/plain": [
              "<Figure size 750x750 with 12 Axes>"
            ]
          },
          "metadata": {},
          "output_type": "display_data"
        }
      ],
      "source": [
        "# Exploratory Data Analysis\n",
        "# Display pairplot to visualize relationships between variables\n",
        "sns.pairplot(df.head())\n",
        "plt.show()"
      ]
    },
    {
      "cell_type": "code",
      "execution_count": null,
      "metadata": {
        "colab": {
          "base_uri": "https://localhost:8080/"
        },
        "id": "KOtzi-Vu-104",
        "outputId": "1a2387bd-d171-4e16-a60e-9be0a19ca58b"
      },
      "outputs": [
        {
          "name": "stdout",
          "output_type": "stream",
          "text": [
            "Summary Statistics:\n",
            "        Size (sq ft)   Bedrooms    Price (USD)\n",
            "count     48.000000  48.000000      48.000000\n",
            "mean       0.034157   0.022856  417187.500000\n",
            "std        0.142525   0.144282  174578.234154\n",
            "min        0.000000   0.000000  120000.000000\n",
            "25%        0.008785   0.000050  287500.000000\n",
            "50%        0.014056   0.000075  422500.000000\n",
            "75%        0.019076   0.000100  550000.000000\n",
            "max        1.000000   1.000000  725000.000000\n"
          ]
        }
      ],
      "source": [
        "# Check for outliers and treat them (example using winsorization)\n",
        "from scipy.stats import mstats\n",
        "df['Price (USD)'] = mstats.winsorize(df['Price (USD)'], limits=[0.05, 0.05])\n",
        "\n",
        "# Check for duplicates and remove if any\n",
        "df.drop_duplicates(inplace=True)\n",
        "\n",
        "# Summary statistics\n",
        "summary_stats = df.describe()\n",
        "print(\"Summary Statistics:\\n\", summary_stats)"
      ]
    },
    {
      "cell_type": "code",
      "execution_count": null,
      "metadata": {
        "colab": {
          "base_uri": "https://localhost:8080/"
        },
        "id": "vx36ek59_LSe",
        "outputId": "1c2c9086-23f9-4c83-cee2-f553c718b793"
      },
      "outputs": [
        {
          "name": "stdout",
          "output_type": "stream",
          "text": [
            "Correlation Matrix:\n",
            "               Size (sq ft)  Bedrooms  Price (USD)\n",
            "Size (sq ft)      1.000000 -0.016949    -0.055665\n",
            "Bedrooms         -0.016949  1.000000     0.136558\n",
            "Price (USD)      -0.055665  0.136558     1.000000\n"
          ]
        }
      ],
      "source": [
        "# Correlation analysis\n",
        "correlation = df.corr()\n",
        "print(\"Correlation Matrix:\\n\", correlation)"
      ]
    },
    {
      "cell_type": "code",
      "execution_count": null,
      "metadata": {
        "id": "ssCuN0oY-5wv"
      },
      "outputs": [],
      "source": [
        "# Linear Regression Model\n",
        "X = df[['Size (sq ft)', 'Bedrooms']]\n",
        "y = df['Price (USD)']\n",
        "\n",
        "X_train, X_test, y_train, y_test = train_test_split(X, y, test_size=0.2, random_state=42)\n",
        "\n",
        "model = LinearRegression()\n",
        "model.fit(X_train, y_train)\n",
        "\n",
        "# Predictions\n",
        "y_pred = model.predict(X_test)"
      ]
    },
    {
      "cell_type": "code",
      "execution_count": null,
      "metadata": {
        "colab": {
          "base_uri": "https://localhost:8080/"
        },
        "id": "uQhdr6dd_puA",
        "outputId": "1872efd9-9391-4bcd-8007-1e8b41046e33"
      },
      "outputs": [
        {
          "name": "stdout",
          "output_type": "stream",
          "text": [
            "Mean Squared Error: 35068764314.95828\n",
            "R-squared: -0.08474633656959019\n"
          ]
        }
      ],
      "source": [
        "# Model evaluation\n",
        "mse = mean_squared_error(y_test, y_pred)\n",
        "r2 = r2_score(y_test, y_pred)\n",
        "\n",
        "print(\"Mean Squared Error:\", mse)\n",
        "print(\"R-squared:\", r2)"
      ]
    },
    {
      "cell_type": "code",
      "execution_count": null,
      "metadata": {
        "colab": {
          "base_uri": "https://localhost:8080/",
          "height": 472
        },
        "id": "RYVYnTSM_poD",
        "outputId": "40e19c8e-62fe-448f-c9c3-8319dcfcdaf9"
      },
      "outputs": [
        {
          "data": {
            "image/png": "[encoded data removed]",
            "text/plain": [
              "<Figure size 640x480 with 1 Axes>"
            ]
          },
          "metadata": {},
          "output_type": "display_data"
        }
      ],
      "source": [
        "# Visualize actual vs. predicted prices\n",
        "plt.scatter(y_test, y_pred)\n",
        "plt.xlabel(\"Actual Price\")\n",
        "plt.ylabel(\"Predicted Price\")\n",
        "plt.title(\"Actual vs. Predicted House Prices\")\n",
        "plt.show()"
      ]
    },
    {
      "cell_type": "markdown",
      "metadata": {
        "id": "JL66qshvt-yk"
      },
      "source": [
        "KNN\n"
      ]
    },
    {
      "cell_type": "code",
      "execution_count": null,
      "metadata": {
        "colab": {
          "base_uri": "https://localhost:8080/"
        },
        "id": "Hvm3FV40Vp2g",
        "outputId": "aee54fdf-0d15-4872-ecec-1e4b7850ab25"
      },
      "outputs": [
        {
          "name": "stderr",
          "output_type": "stream",
          "text": [
            "/usr/local/lib/python3.10/dist-packages/sklearn/datasets/_openml.py:968: FutureWarning: The default value of `parser` will change from `'liac-arff'` to `'auto'` in 1.4. You can set `parser='auto'` to silence this warning. Therefore, an `ImportError` will be raised from 1.4 if the dataset is dense and pandas is not installed. Note that the pandas parser may return different data types. See the Notes Section in fetch_openml's API doc for details.\n",
            "  warn(\n"
          ]
        },
        {
          "name": "stdout",
          "output_type": "stream",
          "text": [
            "Accuracy: 0.9457857142857143\n",
            "Classification Report:\n",
            "              precision    recall  f1-score   support\n",
            "\n",
            "           0       0.97      0.98      0.97      1343\n",
            "           1       0.95      0.99      0.97      1600\n",
            "           2       0.95      0.93      0.94      1380\n",
            "           3       0.93      0.95      0.94      1433\n",
            "           4       0.94      0.93      0.94      1295\n",
            "           5       0.94      0.94      0.94      1273\n",
            "           6       0.97      0.97      0.97      1396\n",
            "           7       0.94      0.93      0.94      1503\n",
            "           8       0.97      0.89      0.93      1357\n",
            "           9       0.90      0.92      0.91      1420\n",
            "\n",
            "    accuracy                           0.95     14000\n",
            "   macro avg       0.95      0.95      0.95     14000\n",
            "weighted avg       0.95      0.95      0.95     14000\n",
            "\n",
            "Confusion Matrix:\n",
            "[[1319    0    4    2    0    5   10    2    1    0]\n",
            " [   0 1588    7    1    2    0    1    1    0    0]\n",
            " [   9   18 1289   19    7    7    8    9    8    6]\n",
            " [   1    3   16 1363    3   13    1   14    8   11]\n",
            " [   1   11   13    1 1205    1    3    4    3   53]\n",
            " [   4    3    2   29    8 1196   14    2    8    7]\n",
            " [  11    3    5    0    6    9 1360    0    2    0]\n",
            " [   3   18    6    2   18    1    0 1397    1   57]\n",
            " [  10   16   12   26    4   42    6   11 1214   16]\n",
            " [   5    4    7   17   26    3    0   44    4 1310]]\n"
          ]
        }
      ],
      "source": [
        "# Import necessary libraries\n",
        "import numpy as np\n",
        "import pandas as pd\n",
        "from sklearn.datasets import fetch_openml\n",
        "from sklearn.model_selection import train_test_split\n",
        "from sklearn.preprocessing import StandardScaler\n",
        "from sklearn.neighbors import KNeighborsClassifier\n",
        "from sklearn.metrics import accuracy_score, classification_report, confusion_matrix\n",
        "from sklearn.model_selection import GridSearchCV\n",
        "\n",
        "# Load the MNIST dataset from sklearn\n",
        "mnist = fetch_openml('mnist_784')\n",
        "\n",
        "# Extract features and labels\n",
        "X = mnist.data\n",
        "y = mnist.target\n",
        "\n",
        "# Split the dataset into training and test sets\n",
        "X_train, X_test, y_train, y_test = train_test_split(X, y, test_size=0.2, random_state=42)\n",
        "\n",
        "# Preprocess the data by scaling the features\n",
        "scaler = StandardScaler()\n",
        "X_train_scaled = scaler.fit_transform(X_train)\n",
        "X_test_scaled = scaler.transform(X_test)\n",
        "\n",
        "# Initialize and train the KNN classifier\n",
        "knn = KNeighborsClassifier(n_neighbors=5)  # You can adjust the value of K here\n",
        "knn.fit(X_train_scaled, y_train)\n",
        "\n",
        "# Make predictions on the test set\n",
        "y_pred = knn.predict(X_test_scaled)\n",
        "\n",
        "# Evaluate the model\n",
        "accuracy = accuracy_score(y_test, y_pred)\n",
        "print(\"Accuracy:\", accuracy)\n",
        "\n",
        "# Print classification report and confusion matrix\n",
        "print(\"Classification Report:\")\n",
        "print(classification_report(y_test, y_pred))\n",
        "\n",
        "print(\"Confusion Matrix:\")\n",
        "print(confusion_matrix(y_test, y_pred))\n",
        "\n",
        "# Perform hyperparameter tuning using GridSearchCV\n",
        "param_grid = {'n_neighbors': [3, 5, 7, 9]}  # Values of K to try\n",
        "grid_search = GridSearchCV(knn, param_grid, cv=5)\n",
        "grid_search.fit(X_train_scaled, y_train)\n",
        "\n",
        "print(\"Best hyperparameters:\", grid_search.best_params_)\n",
        "print(\"Best cross-validation score:\", grid_search.best_score_)\n"
      ]
    },
    {
      "cell_type": "code",
      "execution_count": null,
      "metadata": {
        "colab": {
          "base_uri": "https://localhost:8080/"
        },
        "id": "ogkcxPLXvsAE",
        "outputId": "970e78aa-5c85-44e7-dc8b-8ffd3ad5ac8c"
      },
      "outputs": [
        {
          "name": "stdout",
          "output_type": "stream",
          "text": [
            "Linear SVM Model:\n",
            "Accuracy: 1.0\n",
            "Classification Report:\n",
            "              precision    recall  f1-score   support\n",
            "\n",
            "         Ham       1.00      1.00      1.00         1\n",
            "        Spam       1.00      1.00      1.00         2\n",
            "\n",
            "    accuracy                           1.00         3\n",
            "   macro avg       1.00      1.00      1.00         3\n",
            "weighted avg       1.00      1.00      1.00         3\n",
            "\n",
            "\n",
            "Poly SVM Model:\n",
            "Accuracy: 1.0\n",
            "Classification Report:\n",
            "              precision    recall  f1-score   support\n",
            "\n",
            "         Ham       1.00      1.00      1.00         1\n",
            "        Spam       1.00      1.00      1.00         2\n",
            "\n",
            "    accuracy                           1.00         3\n",
            "   macro avg       1.00      1.00      1.00         3\n",
            "weighted avg       1.00      1.00      1.00         3\n",
            "\n",
            "\n",
            "Rbf SVM Model:\n",
            "Accuracy: 1.0\n",
            "Classification Report:\n",
            "              precision    recall  f1-score   support\n",
            "\n",
            "         Ham       1.00      1.00      1.00         1\n",
            "        Spam       1.00      1.00      1.00         2\n",
            "\n",
            "    accuracy                           1.00         3\n",
            "   macro avg       1.00      1.00      1.00         3\n",
            "weighted avg       1.00      1.00      1.00         3\n",
            "\n",
            "\n",
            "Sigmoid SVM Model:\n",
            "Accuracy: 1.0\n",
            "Classification Report:\n",
            "              precision    recall  f1-score   support\n",
            "\n",
            "         Ham       1.00      1.00      1.00         1\n",
            "        Spam       1.00      1.00      1.00         2\n",
            "\n",
            "    accuracy                           1.00         3\n",
            "   macro avg       1.00      1.00      1.00         3\n",
            "weighted avg       1.00      1.00      1.00         3\n",
            "\n"
          ]
        }
      ],
      "source": [
        "import pandas as pd\n",
        "from sklearn.svm import SVC\n",
        "from sklearn.preprocessing import StandardScaler\n",
        "from sklearn.model_selection import train_test_split\n",
        "from sklearn.metrics import accuracy_score, classification_report\n",
        "\n",
        "# Creating the DataFrame from the provided data\n",
        "data = {\n",
        "    'Instances': [1, 2, 3, 4, 5, 6, 7, 8, 9, 10, 11, 12],\n",
        "    'Offer': [15, 5, 12, 3, 18, 6, 20, 7, 14, 4, 17, 8],\n",
        "    'Win': [20, 3, 22, 4, 25, 2, 18, 3, 23, 5, 21, 2],\n",
        "    'Limited': [12, 4, 10, 3, 14, 5, 16, 6, 11, 2, 15, 7],\n",
        "    'Bonus': [6, 1, 8, 2, 7, 1, 9, 2, 5, 3, 8, 1],\n",
        "    'Class': ['Spam', 'Ham', 'Spam', 'Ham', 'Spam', 'Ham', 'Spam', 'Ham', 'Spam', 'Ham', 'Spam', 'Ham']\n",
        "}\n",
        "\n",
        "# Separate features and target variable\n",
        "X = df[['Offer', 'Win', 'Limited', 'Bonus']]\n",
        "y = df['Class']\n",
        "\n",
        "# Standardize features\n",
        "scaler = StandardScaler()\n",
        "X_scaled = scaler.fit_transform(X)\n",
        "\n",
        "# Split data into training and testing sets\n",
        "X_train, X_test, y_train, y_test = train_test_split(X_scaled, y, test_size=0.2, random_state=42)\n",
        "\n",
        "# Initialize SVM classifier (linear kernel)\n",
        "svm_linear = SVC(kernel='linear')\n",
        "svm_linear.fit(X_train, y_train)\n",
        "\n",
        "# Make predictions on test data\n",
        "y_pred_linear = svm_linear.predict(X_test)\n",
        "\n",
        "# Evaluate linear SVM model\n",
        "accuracy_linear = accuracy_score(y_test, y_pred_linear)\n",
        "report_linear = classification_report(y_test, y_pred_linear)\n",
        "\n",
        "print('Linear SVM Model:')\n",
        "print(f'Accuracy: {accuracy_linear}')\n",
        "print('Classification Report:')\n",
        "print(report_linear)\n",
        "\n",
        "# Explore non-linear kernels (e.g., Polynomial, Gaussian/RBF, Sigmoid)\n",
        "kernels = ['poly', 'rbf', 'sigmoid']\n",
        "for kernel_type in kernels:\n",
        "    svm_nonlinear = SVC(kernel=kernel_type)\n",
        "    svm_nonlinear.fit(X_train, y_train)\n",
        "    y_pred_nonlinear = svm_nonlinear.predict(X_test)\n",
        "\n",
        "    accuracy_nonlinear = accuracy_score(y_test, y_pred_nonlinear)\n",
        "    report_nonlinear = classification_report(y_test, y_pred_nonlinear)\n",
        "\n",
        "    print(f'\\n{kernel_type.capitalize()} SVM Model:')\n",
        "    print(f'Accuracy: {accuracy_nonlinear}')\n",
        "    print('Classification Report:')\n",
        "    print(report_nonlinear)\n"
      ]
    },
    {
      "cell_type": "markdown",
      "metadata": {
        "id": "5RUtswSYnvw0"
      },
      "source": [
        "Performing feature extraction using PCA:"
      ]
    },
    {
      "cell_type": "code",
      "execution_count": null,
      "metadata": {
        "id": "-oqGtwgdnO_p"
      },
      "outputs": [],
      "source": [
        "import pandas as pd\n",
        "from sklearn.preprocessing import StandardScaler\n",
        "from sklearn.decomposition import PCA\n",
        "\n",
        "# Load the dataset\n",
        "data = {\n",
        "    'CustomerID': [1, 2, 3, 4, 5, 6, 7, 8, 9, 10],\n",
        "    'TimeSpent': [15, 30, 20, 25, 10, 35, 18, 22, 28, 12],\n",
        "    'PagesVisited': [5, 8, 6, 7, 4, 9, 6, 7, 8, 5],\n",
        "    'AddToCart': [1, 1, 0, 1, 0, 1, 0, 1, 0, 0],\n",
        "    'Purchased': [0, 1, 0, 1, 0, 1, 0, 1, 1, 0]\n",
        "}\n",
        "df = pd.DataFrame(data)\n",
        "\n",
        "# Separate features and target variable\n",
        "X = df.drop(['CustomerID', 'Purchased'], axis=1)\n",
        "\n",
        "# Standardize the features\n",
        "scaler = StandardScaler()\n",
        "X_scaled = scaler.fit_transform(X)\n",
        "\n",
        "# Apply PCA\n",
        "pca = PCA(n_components=3)  # Choose the number of principal components\n",
        "X_pca = pca.fit_2transform(X_scaled)\n"
      ]
    },
    {
      "cell_type": "markdown",
      "metadata": {
        "id": "4UFMOAJon14N"
      },
      "source": [
        "Determining principal components and interpreting results:"
      ]
    },
    {
      "cell_type": "code",
      "execution_count": null,
      "metadata": {
        "colab": {
          "base_uri": "https://localhost:8080/"
        },
        "id": "1Xl5JnvOn6Ot",
        "outputId": "f1db579d-5fe7-43a3-e977-7575dd66ba73"
      },
      "outputs": [
        {
          "name": "stdout",
          "output_type": "stream",
          "text": [
            "Explained Variance Ratio: [0.78031549 0.2155232  0.00416131]\n",
            "Principal Components:\n",
            "     TimeSpent  PagesVisited  AddToCart\n",
            "PC1   0.632905      0.624707   0.457355\n",
            "PC2  -0.293999     -0.352556   0.888408\n",
            "PC3  -0.716237      0.696740   0.039471\n"
          ]
        }
      ],
      "source": [
        "# Explained Variance Ratio\n",
        "EVR = pca.explained_variance_ratio_\n",
        "print(\"Explained Variance Ratio:\", EVR)\n",
        "\n",
        "# Principal Component Interpretation\n",
        "names = [f\"PC{i+1}\" for i in range(len(EVR))]\n",
        "components_df = pd.DataFrame(pca.components_, columns=X.columns, index=names)\n",
        "print(\"Principal Components:\")\n",
        "print(components_df)\n"
      ]
    },
    {
      "cell_type": "markdown",
      "metadata": {
        "id": "nm5aYhdVoD2W"
      },
      "source": [
        "The explained variance ratios provide valuable insights into how much information each principal component captures from the original data. In your case, the ratios are [0.78031549, 0.2155232, 0.00416131], indicating that the first principal component (PC1) explains approximately 78.03% of the variance, the second component (PC2) explains around 21.55%, and the third component (PC3) explains a minor portion, about 0.42%.\n",
        "\n",
        "When interpreting these results, it's clear that PC1 plays a significant role in capturing the variance within the dataset, followed by PC2. PC3, while still valuable, captures a much smaller proportion of the variance compared to the first two components.\n",
        "\n",
        "Now, let's delve into how these principal components can be utilized to gain insights into customer behavior and improve marketing strategies:\n",
        "\n",
        "1. **Customer Segmentation:** By using the principal components, you can segment customers based on their behavior. For example, customers with high scores on PC1 might be those who spend more time on the website, visit multiple pages, and frequently add items to their cart. On the other hand, customers with high scores on PC2 might exhibit a different pattern, perhaps spending less time but making quick decisions to add items to the cart.\n",
        "\n",
        "2. **Identifying Key Drivers:** The loadings of each variable on the principal components (as shown in your data snippet) help identify which aspects of customer behavior contribute most to each component. For instance, in PC1, both \"TimeSpent\" and \"PagesVisited\" have high positive loadings, indicating that these variables strongly influence this component. This insight can guide marketing efforts to focus on enhancing website engagement and navigation.\n",
        "\n",
        "3. **Predictive Modeling:** Principal components can serve as input features for predictive models. For instance, you can use PC1 and PC2 scores as features in a machine learning model to predict customer behavior, such as the likelihood of making a purchase or the potential value of a customer.\n",
        "\n",
        "4. **Tailored Marketing Strategies:** Understanding the variance captured by each principal component enables the development of personalized marketing strategies. For instance, targeting customers who exhibit behaviors associated with high scores on PC1 might involve offering personalized recommendations based on their browsing history and encouraging them to explore more products.\n",
        "\n",
        "Overall, leveraging principal components can lead to more targeted and effective marketing strategies by gaining a deeper understanding of customer behavior patterns and preferences."
      ]
    },
    {
      "cell_type": "markdown",
      "metadata": {
        "id": "us1kHMPSqh-n"
      },
      "source": [
        "**Customer Segmentation for a Retail Store**"
      ]
    },
    {
      "cell_type": "code",
      "execution_count": 5,
      "metadata": {
        "colab": {
          "base_uri": "https://localhost:8080/"
        },
        "id": "l1J0m_XR_h1C",
        "outputId": "e44a38f0-5226-46e4-d335-73716ccf2c2f"
      },
      "outputs": [
        {
          "name": "stdout",
          "output_type": "stream",
          "text": [
            "Average spending and transaction frequency by holiday combination:\n",
            "Christmas  Newyear  Ramzan  Diwali\n",
            "No         No       No      No        556.363636\n",
            "                            yes       225.000000\n",
            "                    yes     No        617.142857\n",
            "           yes      No      No        765.000000\n",
            "                            yes       670.000000\n",
            "yes        yes      No      No        670.000000\n",
            "                            yes       480.000000\n",
            "                    yes     yes       622.727273\n",
            "Name: TotalAmount, dtype: float64\n",
            "Christmas  Newyear  Ramzan  Diwali\n",
            "No         No       No      No        3.272727\n",
            "                            yes       2.000000\n",
            "                    yes     No        3.857143\n",
            "           yes      No      No        4.500000\n",
            "                            yes       4.000000\n",
            "yes        yes      No      No        5.000000\n",
            "                            yes       3.000000\n",
            "                    yes     yes       3.954545\n",
            "Name: NumTransactions, dtype: float64\n"
          ]
        }
      ],
      "source": [
        "import pandas as pd\n",
        "import numpy as np\n",
        "from sklearn.mixture import GaussianMixture\n",
        "from sklearn.metrics import silhouette_score\n",
        "from sklearn.preprocessing import StandardScaler, OneHotEncoder\n",
        "from sklearn.compose import ColumnTransformer\n",
        "# Load the data\n",
        "df = pd.read_csv('EM data.csv')\n",
        "# Calculate total amount spent by each customer\n",
        "total_amount_spent = df.groupby('CustomerID')['TotalAmount'].sum()\n",
        "# Calculate frequency of transactions for each customer\n",
        "transaction_frequency = df.groupby('CustomerID')['NumTransactions'].sum()\n",
        "# Calculate average amount spent per transaction\n",
        "average_spent_per_transaction = total_amount_spent / transaction_frequency\n",
        "# Check for timestamps and compute seasonal patterns if available\n",
        "if 'Timestamp' in df.columns:\n",
        "    df['Timestamp'] = pd.to_datetime(df['Timestamp'])\n",
        "    df['Month'] = df['Timestamp'].dt.month\n",
        "    seasonal_patterns = df.groupby('Month')['TotalAmount'].mean()\n",
        "else:\n",
        "    holiday_groups = df.groupby(['Christmas', 'Newyear', 'Ramzan', 'Diwali'])\n",
        "    avg_spend_per_holiday = holiday_groups['TotalAmount'].mean()\n",
        "    avg_transactions_per_holiday = holiday_groups['NumTransactions'].mean()\n",
        "    print(\"Average spending and transaction frequency by holiday combination:\")\n",
        "    print(avg_spend_per_holiday, avg_transactions_per_holiday, sep='\\n')\n",
        "    seasonal_patterns = None\n",
        "# Feature engineering and scaling\n",
        "categorical_cols = ['Location', 'Christmas', 'Newyear', 'Ramzan', 'Diwali']\n",
        "numerical_cols = ['TotalAmount', 'NumTransactions', 'UniqueItems']\n",
        "preprocessor = ColumnTransformer(\n",
        "    transformers=[\n",
        "        ('num', StandardScaler(), numerical_cols),\n",
        "        ('cat', OneHotEncoder(), categorical_cols)\n",
        "    ])\n",
        "features_scaled = preprocessor.fit_transform(df[numerical_cols + categorical_cols])\n"
      ]
    },
    {
      "cell_type": "code",
      "execution_count": 6,
      "metadata": {},
      "outputs": [
        {
          "name": "stdout",
          "output_type": "stream",
          "text": [
            "\n",
            "Optimal number of clusters: 3\n",
            "\n",
            "Clusters: [0 2 0 2 0 0 2 2 2 2 2 2 2 2 0 2 2 1 0 1 1 1 0 1 1 2 0 1 1 1 2 2 0 2 0 2 0\n",
            " 2 1 1 1 1 0 1 1 1 1 1 2 2]\n",
            "\n",
            "Silhouette Score: 0.20229120925033375\n",
            "\n",
            "Within-Cluster Sum of Squares: -4.906312942393697\n"
          ]
        },
        {
          "name": "stderr",
          "output_type": "stream",
          "text": [
            "c:\\Users\\Shrinjita Paul\\anaconda3\\lib\\site-packages\\sklearn\\cluster\\_kmeans.py:1036: UserWarning: KMeans is known to have a memory leak on Windows with MKL, when there are less chunks than available threads. You can avoid it by setting the environment variable OMP_NUM_THREADS=1.\n",
            "  warnings.warn(\n"
          ]
        }
      ],
      "source": [
        "# Find optimal number of clusters using BIC\n",
        "bic = []\n",
        "for n in range(1, 11):\n",
        "    gmm = GaussianMixture(n_components=n, random_state=0)\n",
        "    gmm.fit(features_scaled)\n",
        "    bic.append(gmm.bic(features_scaled))\n",
        "optimal_n_clusters = np.argmin(bic) + 1\n",
        "print(\"\\nOptimal number of clusters:\", optimal_n_clusters)\n",
        "# Fit GMM with optimal number of clusters\n",
        "gmm = GaussianMixture(n_components=optimal_n_clusters, random_state=0)\n",
        "clusters = gmm.fit_predict(features_scaled)\n",
        "# Evaluate clustering quality\n",
        "silhouette_avg = silhouette_score(features_scaled, clusters)\n",
        "within_cluster_sum_of_squares = np.sum(np.min(gmm.covariances_, axis=1))\n",
        "# Print the result\n",
        "print(f\"\\nClusters: {clusters}\\n\\nSilhouette Score: {silhouette_avg}\\n\\nWithin-Cluster Sum of Squares: {within_cluster_sum_of_squares}\")"
      ]
    },
    {
      "cell_type": "markdown",
      "metadata": {
        "id": "lK1QZ2PU3IAG"
      },
      "source": [
        "Implement a K-means clustering algorithm on synthetic dataset"
      ]
    },
    {
      "cell_type": "code",
      "execution_count": null,
      "metadata": {
        "colab": {
          "base_uri": "https://localhost:8080/",
          "height": 579
        },
        "id": "tiISu0tBiO7o",
        "outputId": "555ad414-23ed-4912-93ac-aa533a4377f1"
      },
      "outputs": [
        {
          "data": {
            "image/png": "[encoded data removed]",
            "text/plain": [
              "<Figure size 640x480 with 1 Axes>"
            ]
          },
          "metadata": {},
          "output_type": "display_data"
        },
        {
          "name": "stdout",
          "output_type": "stream",
          "text": [
            "Inertia: [[-1.58438467  2.83081263]\n",
            " [ 1.98258281  0.86771314]\n",
            " [ 0.94973532  4.41906906]\n",
            " [-1.37324398  7.75368871]] \n",
            "\n",
            " Silhouette Score: 0.6819938690643478\n"
          ]
        }
      ],
      "source": [
        "import matplotlib.pyplot as plt\n",
        "from sklearn.datasets import make_blobs\n",
        "from sklearn.cluster import KMeans\n",
        "from sklearn.metrics import silhouette_score\n",
        "\n",
        "import numpy as np\n",
        "\n",
        "class KMeansClustering:\n",
        "    def __init__(self, n_clusters, max_iterations=300):\n",
        "        self.n_clusters = n_clusters\n",
        "        self.max_iterations = max_iterations\n",
        "        self.labels_ = None  # Initialize labels attribute\n",
        "\n",
        "    def fit(self, X):\n",
        "        # Step 2: Initialize Random Centroids\n",
        "        self.centroids = X[np.random.choice(X.shape[0], self.n_clusters, replace=False)]\n",
        "        self.labels_ = None  # Reset labels before fitting\n",
        "\n",
        "        for _ in range(self.max_iterations):\n",
        "            # Step 3: Assign Data Points to Closest Centroid\n",
        "            distances = np.sqrt(((X - self.centroids[:, np.newaxis]) ** 2).sum(axis=2))\n",
        "            self.labels_ = np.argmin(distances, axis=0)\n",
        "\n",
        "            # Step 4: Update Centroids\n",
        "            new_centroids = np.array([X[self.labels_ == i].mean(axis=0) for i in range(self.n_clusters)])\n",
        "\n",
        "            # Step 6: Convergence Check\n",
        "            if np.allclose(new_centroids, self.centroids):\n",
        "                break\n",
        "\n",
        "            self.centroids = new_centroids\n",
        "\n",
        "        return self\n",
        "\n",
        "# Generate synthetic data\n",
        "X, _ = make_blobs(n_samples=300, centers=4, cluster_std=0.60, random_state=0)\n",
        "\n",
        "# Initialize and fit K-means clustering\n",
        "kmeans = KMeansClustering(n_clusters=4)\n",
        "kmeans.fit(X)\n",
        "\n",
        "# Plot clustered data points and centroids\n",
        "plt.scatter(X[:, 0], X[:, 1], c=kmeans.labels_, cmap='viridis', s=50, alpha=0.7)\n",
        "plt.scatter(kmeans.centroids[:, 0], kmeans.centroids[:, 1], marker='^', c='red', s=200, label='Centroids')\n",
        "plt.legend()\n",
        "plt.title('K-means Clustering with Centroids')\n",
        "plt.xlabel('X')\n",
        "plt.ylabel('Y')\n",
        "plt.show()\n",
        "\n",
        "# Calculate Silhouette score\n",
        "silhouette_avg = silhouette_score(X, kmeans.labels_)  # Use kmeans.labels_ instead of kmeans.labels\n",
        "\n",
        "\n",
        "# Calculate inertia\n",
        "inertia = kmeans.centroids\n",
        "print(f\"Inertia: {inertia} \\n\\n Silhouette Score: {silhouette_avg}\")"
      ]
    },
    {
      "cell_type": "markdown",
      "metadata": {
        "id": "CT3iVtsj8bkY"
      },
      "source": [
        "Single Layer Perceptron\n",
        "\n",
        "**Aim:** Develop a single-layer perceptron to predict student exam outcomes based on hours studied and previous scores.\n",
        "\n",
        "**Explanation:** Using a step function activation, the perceptron learns weights through training to classify pass/fail based on input features."
      ]
    },
    {
      "cell_type": "code",
      "execution_count": null,
      "metadata": {
        "colab": {
          "base_uri": "https://localhost:8080/"
        },
        "id": "NMK9tcnK8ZlY",
        "outputId": "372b8fd2-83bb-4792-8a6f-e883ba1d76c5"
      },
      "outputs": [
        {
          "name": "stdout",
          "output_type": "stream",
          "text": [
            "Input: [ 3 35], Predicted Result: Fail\n",
            "Input: [ 6 65], Predicted Result: Pass\n"
          ]
        }
      ],
      "source": [
        "import numpy as np\n",
        "\n",
        "class SingleLayerPerceptron:\n",
        "    def __init__(self, input_size):\n",
        "        self.weights = np.zeros(input_size + 1)  # +1 for the bias term\n",
        "        self.learning_rate = 0.1\n",
        "\n",
        "    def activation_function(self, x):\n",
        "        return 1 if x >= 0 else 0\n",
        "\n",
        "    def predict(self, inputs):\n",
        "        summation = np.dot(inputs, self.weights[1:]) + self.weights[0]  # weighted sum + bias\n",
        "        return self.activation_function(summation)\n",
        "\n",
        "    def train(self, training_inputs, labels, epochs):\n",
        "        for _ in range(epochs):\n",
        "            for inputs, label in zip(training_inputs, labels):\n",
        "                prediction = self.predict(inputs)\n",
        "                error = label - prediction\n",
        "                self.weights[1:] += self.learning_rate * error * inputs  # update weights\n",
        "                self.weights[0] += self.learning_rate * error  # update bias term\n",
        "\n",
        "# Sample dataset\n",
        "training_data = np.array([\n",
        "    [2, 30],\n",
        "    [3, 40],\n",
        "    [5, 60],\n",
        "    [1, 20],\n",
        "    [4, 50],\n",
        "    [6, 70]\n",
        "])\n",
        "labels = np.array([0, 0, 1, 0, 1, 1])\n",
        "\n",
        "# Create and train the perceptron\n",
        "perceptron = SingleLayerPerceptron(input_size=2)\n",
        "perceptron.train(training_data, labels, epochs=1000)\n",
        "\n",
        "# Test the perceptron\n",
        "test_inputs = np.array([[3, 35], [6, 65]])\n",
        "for test_input in test_inputs:\n",
        "    prediction = perceptron.predict(test_input)\n",
        "    print(f\"Input: {test_input}, Predicted Result: {'Pass' if prediction == 1 else 'Fail'}\")\n"
      ]
    },
    {
      "cell_type": "markdown",
      "metadata": {
        "id": "fwqa5EnA84gc"
      },
      "source": [
        "\n",
        "**Result:** Achieved accurate pass/fail predictions for students based on hours studied and previous scores."
      ]
    },
    {
      "cell_type": "markdown",
      "metadata": {
        "id": "MvV_M92u857B"
      },
      "source": [
        "Multiple Layer Perceptron"
      ]
    },
    {
      "cell_type": "markdown",
      "metadata": {
        "id": "iW6HRvys9oLI"
      },
      "source": [
        "**AIM:**  \n",
        "Implement an MLP for classifying handwritten digits (0-9) using the MNIST dataset to achieve high accuracy.\n",
        "\n",
        "**EXPLANATION:**  \n",
        "The MLP consists of an input layer with 784 nodes, two hidden layers (256 and 128 units) using ReLU activation, and an output layer with 10 nodes and softmax activation. Trained using TensorFlow/Keras.\n",
        "\n",
        "**RESULT:**  \n",
        "The trained MLP achieved an accuracy of over 98% on the MNIST test dataset."
      ]
    },
    {
      "cell_type": "code",
      "execution_count": null,
      "metadata": {
        "id": "srC81Nr-HZOI"
      },
      "outputs": [],
      "source": [
        "import tensorflow as tf\n",
        "from tensorflow.keras import layers, models\n",
        "\n",
        "# Define the MLP architecture\n",
        "model = models.Sequential([\n",
        "    layers.Dense(256, activation='relu', input_shape=(784,)),\n",
        "    layers.Dense(128, activation='relu'),\n",
        "    layers.Dense(10, activation='softmax')\n",
        "])"
      ]
    },
    {
      "cell_type": "code",
      "execution_count": null,
      "metadata": {
        "colab": {
          "base_uri": "https://localhost:8080/"
        },
        "id": "5aXE1N1x8jPO",
        "outputId": "63004f2d-e1a2-467e-e3ed-7bf5c095ae9d"
      },
      "outputs": [
        {
          "name": "stdout",
          "output_type": "stream",
          "text": [
            "KerasTensor(type_spec=TensorSpec(shape=(None, 784), dtype=tf.float32, name='input_3'), name='input_3', description=\"created by layer 'input_3'\")\n"
          ]
        }
      ],
      "source": [
        "#Number of Input Nodes\n",
        "input_layer = layers.Input(shape=(784,))\n",
        "print(input_layer)"
      ]
    },
    {
      "cell_type": "code",
      "execution_count": null,
      "metadata": {
        "colab": {
          "base_uri": "https://localhost:8080/"
        },
        "id": "5AiAnua4H0Wn",
        "outputId": "8f6fd3af-15ff-419b-8534-ed69ed562797"
      },
      "outputs": [
        {
          "data": {
            "text/plain": [
              "<KerasTensor: shape=(None, 128) dtype=float32 (created by layer 'dense_9')>"
            ]
          },
          "execution_count": 6,
          "metadata": {},
          "output_type": "execute_result"
        }
      ],
      "source": [
        "#Hidden Layers and Hidden Units per Layer:The MLP has two hidden layers with 256 and 128 units\n",
        "hidden_layer_1 = layers.Dense(256, activation='relu')(input_layer)\n",
        "hidden_layer_1\n",
        "hidden_layer_2 = layers.Dense(128, activation='relu')(hidden_layer_1)\n",
        "hidden_layer_2"
      ]
    },
    {
      "cell_type": "code",
      "execution_count": null,
      "metadata": {
        "colab": {
          "base_uri": "https://localhost:8080/"
        },
        "id": "1zI2Az6QIP6x",
        "outputId": "21660885-cd38-45fe-be4c-7bb60b6ed3a5"
      },
      "outputs": [
        {
          "data": {
            "text/plain": [
              "<KerasTensor: shape=(None, 10) dtype=float32 (created by layer 'dense_11')>"
            ]
          },
          "execution_count": 9,
          "metadata": {},
          "output_type": "execute_result"
        }
      ],
      "source": [
        "#Activation Functions:\n",
        "output_layer = layers.Dense(10, activation='softmax')(hidden_layer_2)\n",
        "output_layer"
      ]
    },
    {
      "cell_type": "code",
      "execution_count": null,
      "metadata": {
        "colab": {
          "base_uri": "https://localhost:8080/"
        },
        "id": "sBViU_vIHpt5",
        "outputId": "f154c297-6989-4362-821c-1c94796d5649"
      },
      "outputs": [
        {
          "name": "stdout",
          "output_type": "stream",
          "text": [
            "Epoch 1/10\n",
            "1875/1875 [==============================] - 7s 3ms/step - loss: 0.1381 - accuracy: 0.9579 - val_loss: 0.0912 - val_accuracy: 0.9717\n",
            "Epoch 2/10\n",
            "1875/1875 [==============================] - 7s 4ms/step - loss: 0.0756 - accuracy: 0.9765 - val_loss: 0.0835 - val_accuracy: 0.9741\n",
            "Epoch 3/10\n",
            "1875/1875 [==============================] - 7s 4ms/step - loss: 0.0526 - accuracy: 0.9830 - val_loss: 0.0804 - val_accuracy: 0.9758\n",
            "Epoch 4/10\n",
            "1875/1875 [==============================] - 10s 6ms/step - loss: 0.0396 - accuracy: 0.9869 - val_loss: 0.0814 - val_accuracy: 0.9773\n",
            "Epoch 5/10\n",
            "1875/1875 [==============================] - 7s 4ms/step - loss: 0.0328 - accuracy: 0.9895 - val_loss: 0.0871 - val_accuracy: 0.9777\n",
            "Epoch 6/10\n",
            "1875/1875 [==============================] - 6s 3ms/step - loss: 0.0264 - accuracy: 0.9911 - val_loss: 0.0802 - val_accuracy: 0.9790\n",
            "Epoch 7/10\n",
            "1875/1875 [==============================] - 7s 4ms/step - loss: 0.0223 - accuracy: 0.9928 - val_loss: 0.0925 - val_accuracy: 0.9782\n",
            "Epoch 8/10\n",
            "1875/1875 [==============================] - 6s 3ms/step - loss: 0.0206 - accuracy: 0.9933 - val_loss: 0.0842 - val_accuracy: 0.9800\n",
            "Epoch 9/10\n",
            "1875/1875 [==============================] - 7s 4ms/step - loss: 0.0168 - accuracy: 0.9947 - val_loss: 0.0796 - val_accuracy: 0.9815\n",
            "Epoch 10/10\n",
            "1875/1875 [==============================] - 6s 3ms/step - loss: 0.0164 - accuracy: 0.9941 - val_loss: 0.0886 - val_accuracy: 0.9807\n"
          ]
        },
        {
          "data": {
            "text/plain": [
              "<keras.src.callbacks.History at 0x7f3eec4a49a0>"
            ]
          },
          "execution_count": 10,
          "metadata": {},
          "output_type": "execute_result"
        }
      ],
      "source": [
        "# Compile the model\n",
        "model.compile(optimizer='adam',\n",
        "              loss='sparse_categorical_crossentropy',\n",
        "              metrics=['accuracy'])\n",
        "\n",
        "# Load and preprocess the MNIST dataset\n",
        "mnist = tf.keras.datasets.mnist\n",
        "(x_train, y_train), (x_test, y_test) = mnist.load_data()\n",
        "x_train, x_test = x_train / 255.0, x_test / 255.0  # Normalize pixel values to [0, 1]\n",
        "\n",
        "# Flatten the input images\n",
        "x_train_flat = x_train.reshape(x_train.shape[0], -1)\n",
        "x_test_flat = x_test.reshape(x_test.shape[0], -1)\n",
        "\n",
        "# Train the model\n",
        "model.fit(x_train_flat, y_train, epochs=10, validation_data=(x_test_flat, y_test))\n"
      ]
    },
    {
      "cell_type": "code",
      "execution_count": null,
      "metadata": {
        "colab": {
          "base_uri": "https://localhost:8080/"
        },
        "id": "DOqq3gemJR2C",
        "outputId": "0b061bb6-a636-4e6b-feb9-ba3930f05ebf"
      },
      "outputs": [
        {
          "name": "stdout",
          "output_type": "stream",
          "text": [
            "313/313 [==============================] - 1s 2ms/step\n"
          ]
        }
      ],
      "source": [
        "# Make predictions\n",
        "predictions = model.predict(x_test_flat)"
      ]
    },
    {
      "cell_type": "markdown",
      "metadata": {
        "id": "jamXa1nH9pkz"
      },
      "source": [
        "**Backpropagation**"
      ]
    },
    {
      "cell_type": "markdown",
      "metadata": {
        "id": "jpNxx11oMVMf"
      },
      "source": [
        "1. Describe the importance of proper initialization of weights in the context of backpropagation.\n",
        "\n",
        "Proper initialization of weights is crucial in backpropagation because it helps prevent issues like vanishing or exploding gradients. If weights are initialized too small, gradients may vanish, leading to slow learning or convergence. Conversely, if weights are initialized too large, gradients may explode, causing unstable training. Properly initialized weights ensure that gradients flow smoothly during backpropagation, facilitating efficient and effective training of neural networks.\n",
        "\n",
        "3. What are some common initialization techniques used in neural networks, and how do they affect the training process?\n",
        "\n",
        "Common initialization techniques in neural networks include:\n",
        "\n",
        "Random Initialization: Initializing weights randomly from a uniform or normal distribution. Random initialization helps break symmetry and prevents all neurons from learning the same features.\n",
        "Xavier/Glorot Initialization: Scaling the weights based on the number of input and output neurons to balance the gradients. This technique helps maintain stable gradients throughout the layers.\n",
        "He Initialization: Similar to Xavier, but adapted for ReLU activation functions by scaling the weights based on the number of input neurons. He initialization is effective for networks using ReLU or its variants.\n",
        "\n",
        "5. Explain the role of activation functions in backpropagation neural networks.\n",
        "\n",
        "Activation functions play a vital role in backpropagation neural networks by introducing non-linearity into the network. Without activation functions, neural networks would simply be linear transformations, limiting their capacity to learn complex patterns and relationships in data. Activation functions enable neural networks to model non-linear relationships, capture hierarchical features, and make non-linear transformations during both forward and backward passes, facilitating effective learning and generalization.\n",
        "\n",
        "\n",
        "7. What are the main components of the backpropagation algorithm?\n",
        "\n",
        "The main components of the backpropagation algorithm are:\n",
        "\n",
        "Forward Pass: Compute the predicted output of the neural network based on the input data and current weights.\n",
        "Loss Calculation: Measure the difference between the predicted output and the actual output using a loss function.\n",
        "Backward Pass (Backpropagation): Compute the gradients of the loss function with respect to the weights using the chain rule, starting from the output layer and propagating the gradients backward through the network.\n",
        "Weight Update: Adjust the weights of the neural network using the computed gradients and a learning rate to minimize the loss function.\n",
        "\n",
        "9. How do you calculate the gradient of the loss function with respect to the weights in backpropagation?\n",
        "\n",
        "The gradient of the loss function with respect to the weights in backpropagation is calculated using the chain rule of calculus. During the backward pass, gradients are computed layer by layer starting from the output layer to the input layer. The gradient of the loss with respect to the weights in a particular layer is obtained by multiplying the upstream gradient (gradient of the loss with respect to the layer's output) by the local gradient (derivative of the activation function with respect to the layer's input) and the input to the layer.\n",
        "\n",
        "11. What is the purpose of the learning rate in backpropagation? How do you choose an appropriate learning rate?\n",
        "\n",
        "The learning rate in backpropagation controls the step size during weight updates, influencing the convergence and stability of the training process. A too high learning rate can lead to overshooting and instability, while a too low learning rate can result in slow convergence and getting stuck in local minima. Choosing an appropriate learning rate involves experimentation and monitoring the training process, using techniques like learning rate schedules, adaptive learning rates (e.g., Adam optimizer), or techniques such as grid search or random search to find an optimal learning rate for the specific neural network and dataset."
      ]
    },
    {
      "cell_type": "markdown",
      "metadata": {
        "id": "PTX9RjtgNUA9"
      },
      "source": [
        "**AIM (20 words):** Implement a single-neuron BPNN in Python to learn XOR function using backpropagation and visualize the decision boundary.\n",
        "\n",
        "**Explanation (60 words):** The code initializes weights, trains the network using backpropagation to minimize loss between predicted and actual XOR outputs. It updates weights iteratively based on gradients, adjusting them for accurate predictions. The decision boundary plot showcases the network's ability to learn XOR, with separate regions for 0 and 1 outputs.\n",
        "\n",
        "**Result (15 words):** The plotted decision boundary demonstrates successful learning of XOR function by the BPNN."
      ]
    },
    {
      "cell_type": "code",
      "execution_count": null,
      "metadata": {
        "colab": {
          "base_uri": "https://localhost:8080/",
          "height": 472
        },
        "id": "i3JfigHJ-bQ-",
        "outputId": "4737845f-8f73-4007-c7f7-36c2e4b680ac"
      },
      "outputs": [
        {
          "data": {
            "image/png": "[encoded data removed]",
            "text/plain": [
              "<Figure size 640x480 with 2 Axes>"
            ]
          },
          "metadata": {},
          "output_type": "display_data"
        }
      ],
      "source": [
        "import numpy as np\n",
        "import matplotlib.pyplot as plt\n",
        "\n",
        "# Define the sigmoid activation function\n",
        "def sigmoid(x):\n",
        "    return 1 / (1 + np.exp(-x))\n",
        "\n",
        "# Define the derivative of the sigmoid function\n",
        "def sigmoid_derivative(x):\n",
        "    return x * (1 - x)\n",
        "\n",
        "# Define the XOR dataset\n",
        "X = np.array([[0, 0], [0, 1], [1, 0], [1, 1]])\n",
        "y = np.array([[0], [1], [1], [0]])\n",
        "\n",
        "# Initialize weights and biases\n",
        "input_size = 2\n",
        "hidden_size = 2\n",
        "output_size = 1\n",
        "learning_rate = 0.1\n",
        "\n",
        "weights_input_hidden = np.random.uniform(size=(input_size, hidden_size))\n",
        "weights_hidden_output = np.random.uniform(size=(hidden_size, output_size))\n",
        "\n",
        "# Training the network using backpropagation\n",
        "losses = []\n",
        "epochs = 10000\n",
        "for epoch in range(epochs):\n",
        "    # Forward pass\n",
        "    hidden_layer_input = np.dot(X, weights_input_hidden)\n",
        "    hidden_layer_output = sigmoid(hidden_layer_input)\n",
        "\n",
        "    output_layer_input = np.dot(hidden_layer_output, weights_hidden_output)\n",
        "    predicted_output = sigmoid(output_layer_input)\n",
        "\n",
        "    # Calculate loss\n",
        "    loss = np.mean((y - predicted_output) ** 2)\n",
        "    losses.append(loss)\n",
        "\n",
        "    # Backpropagation\n",
        "    output_error = y - predicted_output\n",
        "    output_delta = output_error * sigmoid_derivative(predicted_output)\n",
        "\n",
        "    hidden_layer_error = output_delta.dot(weights_hidden_output.T)\n",
        "    hidden_delta = hidden_layer_error * sigmoid_derivative(hidden_layer_output)\n",
        "\n",
        "    # Update weights\n",
        "    weights_hidden_output += hidden_layer_output.T.dot(output_delta) * learning_rate\n",
        "    weights_input_hidden += X.T.dot(hidden_delta) * learning_rate\n",
        "\n",
        "# Plotting the decision boundary\n",
        "x_vals = np.linspace(-0.5, 1.5, 100)\n",
        "y_vals = np.linspace(-0.5, 1.5, 100)\n",
        "X_mesh, Y_mesh = np.meshgrid(x_vals, y_vals)\n",
        "Z_mesh = np.zeros(X_mesh.shape)\n",
        "\n",
        "for i in range(X_mesh.shape[0]):\n",
        "    for j in range(X_mesh.shape[1]):\n",
        "        input_data = np.array([[X_mesh[i, j], Y_mesh[i, j]]])\n",
        "        hidden_output = sigmoid(np.dot(input_data, weights_input_hidden))\n",
        "        output = sigmoid(np.dot(hidden_output, weights_hidden_output))\n",
        "        Z_mesh[i, j] = output[0][0]\n",
        "\n",
        "plt.contourf(X_mesh, Y_mesh, Z_mesh, cmap='RdYlBu')\n",
        "plt.scatter(X[:, 0], X[:, 1], c=y.ravel(), cmap='RdYlBu', edgecolors='k')\n",
        "plt.xlabel('Input 1')\n",
        "plt.ylabel('Input 2')\n",
        "plt.title('Decision Boundary for XOR Function')\n",
        "plt.colorbar()\n",
        "plt.show()\n"
      ]
    }
  ],
  "metadata": {
    "colab": {
      "provenance": []
    },
    "kernelspec": {
      "display_name": "Python 3",
      "name": "python3"
    },
    "language_info": {
      "codemirror_mode": {
        "name": "ipython",
        "version": 3
      },
      "file_extension": ".py",
      "mimetype": "text/x-python",
      "name": "python",
      "nbconvert_exporter": "python",
      "pygments_lexer": "ipython3",
      "version": "3.9.13"
    }
  },
  "nbformat": 4,
  "nbformat_minor": 0
}
